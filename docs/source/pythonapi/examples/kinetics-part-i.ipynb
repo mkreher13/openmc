{
 "cells": [
  {
   "cell_type": "markdown",
   "metadata": {},
   "source": [
    "This IPython Notebook introduces the use of the `openmc.kinetics` module to perform a transient simulation on an infinite homogeneous medium. In particular, this Notebook introduces the the following features:\n",
    "\n",
    "* Initialization of the openmc.kinetics solver for an **infinite homogeneous medium**\n",
    "* Executing the initial calculation to compute the initial reactor state.\n",
    "* Extracting the cross sections at the initial state.\n",
    "* Computation of the initial delayed neutron precursor concentrations.\n",
    "* Normalization of the flux and precursor concentrations to an initial power level.\n",
    "* Computation of the point kinetics parameters.\n",
    "\n",
    "**Note:** This Notebook illustrates the use of [Pandas](http://pandas.pydata.org/) `DataFrames` to containerize multi-group cross section data. We recommend using [Pandas](http://pandas.pydata.org/) >v0.15.0 or later since OpenMC's Python API leverages the multi-indexing feature included in the most recent releases of [Pandas](http://pandas.pydata.org/)."
   ]
  },
  {
   "cell_type": "markdown",
   "metadata": {},
   "source": [
    "## Introduction to Kinetics (openmc.kinetics)"
   ]
  },
  {
   "cell_type": "markdown",
   "metadata": {},
   "source": [
    "Many Monte Carlo particle transport codes, including OpenMC, compute fixed source and eigenvalue solutions to the neutron flux in a reactor. However, many problems are time dependent and users have in interest in explicitly modeling the change of the reactor over time. Often the reactor is condensed down to a OD point, and the kinetic equations are propagated forward using the \"point kinetic equations\". In this notebook, we show how to set up a kinetics problem in OpenMC and compute the initial point kinetic parameters."
   ]
  },
  {
   "cell_type": "markdown",
   "metadata": {},
   "source": [
    "The `openmc.kinetics` Python module is designed to leverage OpenMC's tally system to calculate the necessary multi-group cross sections and parameters with arbitrary energy group structures and spatial meshes for low-order operator transient neutron transport applications.\n",
    "\n",
    "Before proceeding to illustrate how one may use the `openmc.kinetics` module, it is worthwhile to define the general equations used to calculate kinetics parameters. This is only intended as a brief overview of the methodology used by `openmc.kinetics` - we refer the interested reader to the large body of literature on the subject for a more comprehensive understanding of this complex topic."
   ]
  },
  {
   "cell_type": "markdown",
   "metadata": {},
   "source": [
    "### Introductory Notation\n",
    "The continuous real-valued microscopic cross section may be denoted $\\sigma_{n,x}(\\mathbf{r}, E)$ for position vector $\\mathbf{r}$, energy $E$, nuclide $n$ and interaction type $x$. Similarly, the scalar neutron flux may be denoted by $\\Phi(\\mathbf{r},E)$ for position $\\mathbf{r}$ and energy $E$. **Note**: Although nuclear cross sections are dependent on the temperature $T$ of the interacting medium, the temperature variable is neglected here for brevity."
   ]
  },
  {
   "cell_type": "markdown",
   "metadata": {},
   "source": [
    "### Spatial and Energy Discretization\n",
    "The energy domain for critical systems such as thermal reactors spans more than 10 orders of magnitude of neutron energies from 10$^{-5}$ - 10$^7$ eV. The multi-group approximation discretization divides this energy range into one or more energy groups. In particular, for $G$ total groups, we denote an energy group index $g$ such that $g \\in \\{1, 2, ..., G\\}$. The energy group indices are defined such that the smaller group the higher the energy, and vice versa. The integration over neutron energies across a discrete energy group is commonly referred to as **energy condensation**.\n",
    "\n",
    "The delayed neutrons created from fissions are created from > 30 delayed neutron precursors. Modeling each of the delayed neutron precursors is possible, but this approach has not recieved much attention due to large uncertainties in certain precursors. Therefore, the delayed neutrons are often combined into \"delayed groups\" that have a set time constant, $\\lambda_d$. Some cross section libraries use the same group time constants for all nuclides (e.g. JEFF 3.1) while other libraries use different time constants for all nuclides (e.g. ENDF/B-VII.1). Multi-delayed-group cross sections can either be created with the entire delayed group set, a subset of delayed groups, or integrated over all delayed groups.\n",
    "\n",
    "Multi-group cross sections are computed for discretized spatial zones in the geometry of interest. The spatial zones may be defined on a structured and regular fuel assembly or pin cell mesh, an arbitrary unstructured mesh or the constructive solid geometry used by OpenMC. For a geometry with $K$ distinct spatial zones, we designate each spatial zone an index $k$ such that $k \\in \\{1, 2, ..., K\\}$. The volume of each spatial zone is denoted by $V_{k}$. The integration over discrete spatial zones is commonly referred to as **spatial homogenization**."
   ]
  },
  {
   "cell_type": "markdown",
   "metadata": {},
   "source": [
    "### General Scalar-Flux Weighted MDGXS\n",
    "The multi-group cross sections computed by `openmc.mgxs` are defined as a *scalar flux-weighted average* of the microscopic cross sections across each discrete energy group. This formulation is employed in order to preserve the reaction rates within each energy group and spatial zone. In particular, spatial homogenization and energy condensation are used to compute the general multi-group cross section. For instance, the delayed-nu-fission multi-energy-group and multi-delayed-group cross section, $\\nu_d \\sigma_{f,x,k,g}$, can be computed as follows:\n",
    "\n",
    "$$\\nu_d \\sigma_{n,x,k,g} = \\frac{\\int_{E_{g}}^{E_{g-1}}\\mathrm{d}E'\\int_{\\mathbf{r} \\in V_{k}}\\mathrm{d}\\mathbf{r} \\nu_d \\sigma_{f,x}(\\mathbf{r},E')\\Phi(\\mathbf{r},E')}{\\int_{E_{g}}^{E_{g-1}}\\mathrm{d}E'\\int_{\\mathbf{r} \\in V_{k}}\\mathrm{d}\\mathbf{r}\\Phi(\\mathbf{r},E')}$$\n",
    "\n",
    "This scalar flux-weighted average microscopic cross section is computed by `openmc.mgxs` for only the delayed-nu-fission and delayed neutron fraction reaction type at the moment. These double integrals are stochastically computed with OpenMC's tally system - in particular, [filters](https://mit-crpg.github.io/openmc/pythonapi/filter.html) on the energy range and spatial zone (material, cell, universe, or mesh) define the bounds of integration for both numerator and denominator."
   ]
  },
  {
   "cell_type": "markdown",
   "metadata": {},
   "source": [
    "### Multi-Group Prompt and Delayed Fission Spectrum\n",
    "The energy spectrum of neutrons emitted from fission is denoted by $\\chi_{n}(\\mathbf{r},E' \\rightarrow E'')$ for incoming and outgoing energies $E'$ and $E''$, respectively. Unlike the multi-group cross sections $\\sigma_{n,x,k,g}$ considered up to this point, the fission spectrum is a probability distribution and must sum to unity. The outgoing energy is typically much less dependent on the incoming energy for fission than for scattering interactions. As a result, it is common practice to integrate over the incoming neutron energy when computing the multi-group fission spectrum. The fission spectrum may be simplified as $\\chi_{n}(\\mathbf{r},E)$ with outgoing energy $E$.\n",
    "\n",
    "Computing the cumulative energy spectrum of emitted neutrons, $\\chi_{n}(\\mathbf{r},E)$, has been presented in the `mgxs-part-i.ipynb` notebook. Here, we will present the energy spectrum of prompt and delayed emission neutrons, $\\chi_{n,p}(\\mathbf{r},E)$ and $\\chi_{n,d}(\\mathbf{r},E)$, respectively. Unlike the multi-group cross sections defined up to this point, the multi-group fission spectrum is weighted by the fission production rate rather than the scalar flux. This formulation is intended to preserve the total fission production rate in the multi-group deterministic calculation. In order to mathematically define the multi-group fission spectrum, we denote the microscopic fission cross section as $\\sigma_{n,f}(\\mathbf{r},E)$ and the average number of neutrons emitted from fission interactions with nuclide $n$ as $\\nu_{n,p}(\\mathbf{r},E)$ and $\\nu_{n,d}(\\mathbf{r},E)$ for prompt and delayed neutrons, respectively. The multi-group fission spectrum $\\chi_{n,k,g,d}$ is then the probability of fission neutrons emitted into energy group $g$ and delayed group $d$. There are not prompt groups, so inserting $p$ in place of $d$ just denotes all prompt neutrons. \n",
    "\n",
    "Similar to before, spatial homogenization and energy condensation are used to find the multi-energy-group and multi-delayed-group fission spectrum $\\chi_{n,k,g,d}$ as follows:\n",
    "\n",
    "$$\\chi_{n,k,g',d} = \\frac{\\int_{E_{g'}}^{E_{g'-1}}\\mathrm{d}E''\\int_{0}^{\\infty}\\mathrm{d}E'\\int_{\\mathbf{r} \\in V_{k}}\\mathrm{d}\\mathbf{r}\\chi_{n,d}(\\mathbf{r},E'\\rightarrow E'')\\nu_{n,d}(\\mathbf{r},E')\\sigma_{n,f}(\\mathbf{r},E')\\Phi(\\mathbf{r},E')}{\\int_{0}^{\\infty}\\mathrm{d}E'\\int_{\\mathbf{r} \\in V_{k}}\\mathrm{d}\\mathbf{r}\\nu_{n,d}(\\mathbf{r},E')\\sigma_{n,f}(\\mathbf{r},E')\\Phi(\\mathbf{r},E')}$$\n",
    "\n",
    "The fission production-weighted multi-energy-group and multi-delayed-group fission spectrum for delayed neutrons is computed using OpenMC tallies with energy in, energy out, and delayed group filters. Alternatively, the delayed group filter can be omitted to compute the fission spectrum integrated over all delayed groups.\n",
    "\n",
    "This concludes our brief overview on the methodology to compute multi-energy-group and multi-delayed-group cross sections. The following sections detail more concretely how users may employ the `openmc.mgxs` module to power simulation workflows requiring multi-group cross sections for downstream deterministic calculations."
   ]
  },
  {
   "cell_type": "markdown",
   "metadata": {},
   "source": [
    "## Generate Input Files"
   ]
  },
  {
   "cell_type": "code",
   "execution_count": 1,
   "metadata": {
    "collapsed": false
   },
   "outputs": [],
   "source": [
    "from IPython.display import Image\n",
    "%matplotlib inline\n",
    "import numpy as np\n",
    "import matplotlib.pyplot as plt\n",
    "import scipy.sparse as sps\n",
    "from scipy.sparse.linalg import spsolve\n",
    "\n",
    "import openmc\n",
    "import openmc.mgxs as mgxs\n",
    "import openmc.kinetics as kinetics"
   ]
  },
  {
   "cell_type": "markdown",
   "metadata": {},
   "source": [
    "First we need to define materials that will be used in the problem. Before defining a material, we must create nuclides that are used in the material."
   ]
  },
  {
   "cell_type": "code",
   "execution_count": 2,
   "metadata": {
    "collapsed": false
   },
   "outputs": [],
   "source": [
    "# Instantiate some Nuclides\n",
    "h1 = openmc.Nuclide('H1')\n",
    "o16 = openmc.Nuclide('O16')\n",
    "u235 = openmc.Nuclide('U235')\n",
    "u238 = openmc.Nuclide('U238')\n",
    "pu239 = openmc.Nuclide('Pu239')\n",
    "zr90 = openmc.Nuclide('Zr90')"
   ]
  },
  {
   "cell_type": "markdown",
   "metadata": {},
   "source": [
    "With the nuclides we defined, we will now create a material for the homogeneous medium."
   ]
  },
  {
   "cell_type": "code",
   "execution_count": 3,
   "metadata": {
    "collapsed": false
   },
   "outputs": [],
   "source": [
    "# Instantiate a Material and register the Nuclides\n",
    "inf_medium = openmc.Material(name='moderator')\n",
    "inf_medium.set_density('g/cc', 5.)\n",
    "inf_medium.add_nuclide(h1,  0.03)\n",
    "inf_medium.add_nuclide(o16, 0.015)\n",
    "inf_medium.add_nuclide(u235 , 0.0001)\n",
    "inf_medium.add_nuclide(u238 , 0.007)\n",
    "inf_medium.add_nuclide(pu239, 0.00003)\n",
    "inf_medium.add_nuclide(zr90, 0.002)"
   ]
  },
  {
   "cell_type": "markdown",
   "metadata": {},
   "source": [
    "With our material, we can now create a `Materials` object that can be exported to an actual XML file."
   ]
  },
  {
   "cell_type": "code",
   "execution_count": 4,
   "metadata": {
    "collapsed": false
   },
   "outputs": [],
   "source": [
    "# Instantiate a Materials collection and export to XML\n",
    "materials_file = openmc.Materials([inf_medium])\n",
    "materials_file.default_xs = '71c'"
   ]
  },
  {
   "cell_type": "markdown",
   "metadata": {},
   "source": [
    "Now let's move on to the geometry. This problem will be a simple square cell with reflective boundary conditions to simulate an infinite homogeneous medium. The first step is to create the outer bounding surfaces of the problem."
   ]
  },
  {
   "cell_type": "code",
   "execution_count": 5,
   "metadata": {
    "collapsed": false
   },
   "outputs": [],
   "source": [
    "# Instantiate boundary Planes\n",
    "min_x = openmc.XPlane(boundary_type='vacuum', x0=-50.0)\n",
    "max_x = openmc.XPlane(boundary_type='reflective', x0= 50.0)\n",
    "min_y = openmc.YPlane(boundary_type='reflective', y0=-50.0)\n",
    "max_y = openmc.YPlane(boundary_type='reflective', y0= 50.0)\n",
    "min_z = openmc.ZPlane(boundary_type='reflective', z0=-50.0)\n",
    "max_z = openmc.ZPlane(boundary_type='reflective', z0= 50.0)"
   ]
  },
  {
   "cell_type": "markdown",
   "metadata": {},
   "source": [
    "With the surfaces defined, we can now create a cell that is defined by intersections of half-spaces created by the surfaces."
   ]
  },
  {
   "cell_type": "code",
   "execution_count": 6,
   "metadata": {
    "collapsed": false
   },
   "outputs": [],
   "source": [
    "# Instantiate a Cell\n",
    "cell = openmc.Cell(cell_id=1, name='cell')\n",
    "\n",
    "# Register bounding Surfaces with the Cell\n",
    "cell.region = +min_x & -max_x & +min_y & -max_y & +min_z & -max_z\n",
    "\n",
    "# Fill the Cell with the Material\n",
    "cell.fill = inf_medium"
   ]
  },
  {
   "cell_type": "markdown",
   "metadata": {},
   "source": [
    "OpenMC requires that there is a \"root\" universe. Let us create a root universe and add our square cell to it."
   ]
  },
  {
   "cell_type": "code",
   "execution_count": 7,
   "metadata": {
    "collapsed": false
   },
   "outputs": [],
   "source": [
    "# Instantiate Universe\n",
    "root_universe = openmc.Universe(universe_id=0, name='root universe')\n",
    "root_universe.add_cell(cell)"
   ]
  },
  {
   "cell_type": "markdown",
   "metadata": {},
   "source": [
    "We now must create a geometry that is assigned a root universe and export it to XML."
   ]
  },
  {
   "cell_type": "code",
   "execution_count": 8,
   "metadata": {
    "collapsed": false
   },
   "outputs": [],
   "source": [
    "# Create Geometry and set root Universe\n",
    "openmc_geometry = openmc.Geometry()\n",
    "openmc_geometry.root_universe = root_universe"
   ]
  },
  {
   "cell_type": "markdown",
   "metadata": {},
   "source": [
    "Next, we must define simulation parameters. In this case, we will use 10 inactive batches and 40 active batches each with 2500 particles."
   ]
  },
  {
   "cell_type": "code",
   "execution_count": 9,
   "metadata": {
    "collapsed": false
   },
   "outputs": [],
   "source": [
    "# OpenMC simulation parameters\n",
    "batches = 50\n",
    "inactive = 25\n",
    "particles = 10000\n",
    "\n",
    "# Instantiate a Settings object\n",
    "settings_file = openmc.Settings()\n",
    "settings_file.batches = batches\n",
    "settings_file.inactive = inactive\n",
    "settings_file.particles = particles\n",
    "settings_file.output = {'tallies': True}\n",
    "\n",
    "# Create an initial uniform spatial source distribution over fissionable zones\n",
    "bounds = [-50.0, -50.0, -50.0, 50.0, 50.0, 50.0]\n",
    "uniform_dist = openmc.stats.Box(bounds[:3], bounds[3:], only_fissionable=True)\n",
    "settings_file.source = openmc.source.Source(space=uniform_dist)"
   ]
  },
  {
   "cell_type": "markdown",
   "metadata": {},
   "source": [
    "Now we are ready to generate multi-group cross sections! First, let's define a 100-energy-group structure and 1-energy-group structure using the built-in `EnergyGroups` class. We will also create a 6-delayed-group list."
   ]
  },
  {
   "cell_type": "code",
   "execution_count": 10,
   "metadata": {
    "collapsed": false
   },
   "outputs": [],
   "source": [
    "# Instantiate a 50-group EnergyGroups object\n",
    "fine_groups = mgxs.EnergyGroups()\n",
    "fine_groups.group_edges = np.logspace(-10,1.4,11)\n",
    "\n",
    "# Instantiate a 2-group EnergyGroups object\n",
    "energy_groups = mgxs.EnergyGroups()\n",
    "energy_groups.group_edges = [fine_groups.group_edges[0],  fine_groups.group_edges[5], fine_groups.group_edges[-1]]\n",
    "\n",
    "# Instantiate a 1-group EnergyGroups object\n",
    "one_group = mgxs.EnergyGroups()\n",
    "one_group.group_edges = [fine_groups.group_edges[0], fine_groups.group_edges[-1]]"
   ]
  },
  {
   "cell_type": "markdown",
   "metadata": {},
   "source": [
    "We can now use the `EnergyGroups` object and delayed group list, along with our previously created materials and geometry, to create some `MGXS` libraries for the transient solve using the `openmc.kinetics` module. In particular, the kinetics module will create libraries with the following `MGXS`:\n",
    "\n",
    "* `TotalXS`\n",
    "* `TransportXS`\n",
    "* `AbsorptionXS`\n",
    "* `KappaFissionXS`\n",
    "* `NuScatterMatrixXS`\n",
    "* `NuScatterXS`\n",
    "* `ChiPrompt`\n",
    "* `InverseVelocity`\n",
    "* `PromptNuFissionXS`\n",
    "* `DelayedNuFissionXS`\n",
    "* `NuFissionXS`\n",
    "* `ChiDelayed`\n",
    "* `Chi`\n",
    "* `Beta`\n",
    "\n",
    "These classes provide us with an interface to generate the tally inputs as well as perform post-processing of OpenMC's tally data to compute the respective multi-group cross sections. "
   ]
  },
  {
   "cell_type": "code",
   "execution_count": 11,
   "metadata": {
    "collapsed": false
   },
   "outputs": [],
   "source": [
    "# Instantiate a mesh object\n",
    "mesh = openmc.Mesh(mesh_id=1)\n",
    "mesh.type = 'regular'\n",
    "mesh.dimension = [2, 2, 1]\n",
    "mesh.lower_left = bounds[:3]\n",
    "mesh.width = [(bounds[3] - bounds[0])/mesh.dimension[0],\n",
    "              (bounds[4] - bounds[1])/mesh.dimension[1],\n",
    "              (bounds[5] - bounds[2])/mesh.dimension[2]]\n",
    "\n",
    "\n",
    "# Instantiate a kinetics solver object\n",
    "solver = openmc.kinetics.Solver()\n",
    "solver.num_delayed_groups = 6\n",
    "solver.mesh           = mesh\n",
    "solver.one_group      = one_group\n",
    "solver.energy_groups  = energy_groups\n",
    "solver.fine_groups    = fine_groups\n",
    "solver.geometry       = openmc_geometry\n",
    "solver.settings_file  = settings_file\n",
    "solver.materials_file = materials_file\n",
    "solver.initialize()"
   ]
  },
  {
   "cell_type": "markdown",
   "metadata": {},
   "source": [
    "Each multi-group cross section object stores its tallies in a Python dictionary called `tallies`. We can inspect the tallies in the dictionary for our `Beta` object as follows. "
   ]
  },
  {
   "cell_type": "code",
   "execution_count": 12,
   "metadata": {
    "collapsed": false
   },
   "outputs": [
    {
     "data": {
      "text/plain": [
       "OrderedDict([('delayed-nu-fission-in', Tally\n",
       "              \tID             =\t10000\n",
       "              \tName           =\tSTART - chi-delayed\n",
       "              \tFilters        =\t\n",
       "                              \t\tmesh\t[1]\n",
       "                              \t\tenergy\t[  1.00000000e-10   2.51188643e+01]\n",
       "              \tNuclides       =\ttotal \n",
       "              \tScores         =\t['delayed-nu-fission']\n",
       "              \tEstimator      =\tanalog), ('delayed-nu-fission-out', Tally\n",
       "              \tID             =\t10001\n",
       "              \tName           =\tSTART - chi-delayed\n",
       "              \tFilters        =\t\n",
       "                              \t\tmesh\t[1]\n",
       "                              \t\tenergyout\t[  1.00000000e-10   5.01187234e-05   2.51188643e+01]\n",
       "              \tNuclides       =\ttotal \n",
       "              \tScores         =\t['delayed-nu-fission']\n",
       "              \tEstimator      =\tanalog)])"
      ]
     },
     "execution_count": 12,
     "metadata": {},
     "output_type": "execute_result"
    }
   ],
   "source": [
    "solver.states['START'].mgxs_lib['chi-delayed'].tallies"
   ]
  },
  {
   "cell_type": "markdown",
   "metadata": {},
   "source": [
    "The `Beta` object includes tracklength tallies for the 'nu-fission' and 'delayed-nu-fission' scores in the 100-energy-group and 6-delayed-group structure in cell 1. Now that each `MGXS` and `MDGXS` object contains the tallies that it needs, we must add these tallies to a `Tallies` object to generate the \"tallies.xml\" input file for OpenMC."
   ]
  },
  {
   "cell_type": "markdown",
   "metadata": {},
   "source": [
    "Now we a have a complete set of inputs, so we can go ahead and run our simulation."
   ]
  },
  {
   "cell_type": "code",
   "execution_count": 13,
   "metadata": {
    "collapsed": false
   },
   "outputs": [
    {
     "name": "stdout",
     "output_type": "stream",
     "text": [
      "rm: statepoint.*: No such file or directory\n",
      "\n",
      "                               %%%%%%%%%%%%%%%\n",
      "                          %%%%%%%%%%%%%%%%%%%%%%%%\n",
      "                       %%%%%%%%%%%%%%%%%%%%%%%%%%%%%%\n",
      "                     %%%%%%%%%%%%%%%%%%%%%%%%%%%%%%%%%%\n",
      "                   %%%%%%%%%%%%%%%%%%%%%%%%%%%%%%%%%%%%%%\n",
      "                  %%%%%%%%%%%%%%%%%%%%%%%%%%%%%%%%%%%%%%%%\n",
      "                                   %%%%%%%%%%%%%%%%%%%%%%%%\n",
      "                                    %%%%%%%%%%%%%%%%%%%%%%%%\n",
      "                ###############      %%%%%%%%%%%%%%%%%%%%%%%%\n",
      "               ##################     %%%%%%%%%%%%%%%%%%%%%%%\n",
      "               ###################     %%%%%%%%%%%%%%%%%%%%%%%\n",
      "               ####################     %%%%%%%%%%%%%%%%%%%%%%\n",
      "               #####################     %%%%%%%%%%%%%%%%%%%%%\n",
      "               ######################     %%%%%%%%%%%%%%%%%%%%\n",
      "               #######################     %%%%%%%%%%%%%%%%%%\n",
      "                #######################     %%%%%%%%%%%%%%%%%\n",
      "                ######################     %%%%%%%%%%%%%%%%%\n",
      "                 ####################     %%%%%%%%%%%%%%%%%\n",
      "                   #################     %%%%%%%%%%%%%%%%%\n",
      "                    ###############     %%%%%%%%%%%%%%%%\n",
      "                      ############     %%%%%%%%%%%%%%%\n",
      "                         ########     %%%%%%%%%%%%%%\n",
      "                                     %%%%%%%%%%%\n",
      "\n",
      "                   | The OpenMC Monte Carlo Code\n",
      "         Copyright | 2011-2016 Massachusetts Institute of Technology\n",
      "           License | http://openmc.readthedocs.io/en/latest/license.html\n",
      "           Version | 0.8.0\n",
      "          Git SHA1 | bd3416070c9332dbf0959e83ed2963f7c23bf0d2\n",
      "         Date/Time | 2016-09-01 09:36:44\n",
      "     MPI Processes | 8\n",
      "\n",
      " ===========================================================================\n",
      " ========================>     INITIALIZATION     <=========================\n",
      " ===========================================================================\n",
      "\n",
      " Reading settings XML file...\n",
      " Reading geometry XML file...\n",
      " Reading cross sections XML file...\n",
      " Reading materials XML file...\n",
      " Reading H1.71c from /Users/sam/git/openmc-sam/data/nndc_hdf5/H1_71c.h5\n",
      " Reading O16.71c from /Users/sam/git/openmc-sam/data/nndc_hdf5/O16_71c.h5\n",
      " Reading U235.71c from /Users/sam/git/openmc-sam/data/nndc_hdf5/U235_71c.h5\n",
      " Reading U238.71c from /Users/sam/git/openmc-sam/data/nndc_hdf5/U238_71c.h5\n",
      " Reading Pu239.71c from /Users/sam/git/openmc-sam/data/nndc_hdf5/Pu239_71c.h5\n",
      " Reading Zr90.71c from /Users/sam/git/openmc-sam/data/nndc_hdf5/Zr90_71c.h5\n",
      " Maximum neutron transport energy: 20.0000 MeV for H1.71c\n",
      " Reading tallies XML file...\n",
      " Building neighboring cells lists for each surface...\n",
      " Initializing source particles...\n",
      "\n",
      " ===========================================================================\n",
      " ====================>     K EIGENVALUE SIMULATION     <====================\n",
      " ===========================================================================\n",
      "\n",
      "  Bat./Gen.      k            Average k         \n",
      "  =========   ========   ====================   \n",
      "        1/1    1.18698                       \n",
      "        2/1    1.19805                       \n",
      "        3/1    1.18674                       \n",
      "        4/1    1.23321                       \n",
      "        5/1    1.22106                       \n",
      "        6/1    1.19925                       \n",
      "        7/1    1.22009                       \n",
      "        8/1    1.20849                       \n",
      "        9/1    1.22879                       \n",
      "       10/1    1.20138                       \n",
      "       11/1    1.22859                       \n",
      "       12/1    1.20830                       \n",
      "       13/1    1.18802                       \n",
      "       14/1    1.22529                       \n",
      "       15/1    1.22386                       \n",
      "       16/1    1.21135                       \n",
      "       17/1    1.23736                       \n",
      "       18/1    1.21047                       \n",
      "       19/1    1.22478                       \n",
      "       20/1    1.22690                       \n",
      "       21/1    1.24376                       \n",
      "       22/1    1.24031                       \n",
      "       23/1    1.23579                       \n",
      "       24/1    1.21741                       \n",
      "       25/1    1.20589                       \n",
      "       26/1    1.22397                       \n",
      "       27/1    1.20184    1.21291 +/- 0.01107\n",
      "       28/1    1.24381    1.22321 +/- 0.01212\n",
      "       29/1    1.19743    1.21676 +/- 0.01072\n",
      "       30/1    1.22648    1.21870 +/- 0.00853\n",
      "       31/1    1.22316    1.21945 +/- 0.00700\n",
      "       32/1    1.20916    1.21798 +/- 0.00610\n",
      "       33/1    1.22171    1.21844 +/- 0.00530\n",
      "       34/1    1.26027    1.22309 +/- 0.00659\n",
      "       35/1    1.21611    1.22239 +/- 0.00594\n",
      "       36/1    1.19689    1.22008 +/- 0.00585\n",
      "       37/1    1.19391    1.21790 +/- 0.00577\n",
      "       38/1    1.23586    1.21928 +/- 0.00548\n",
      "       39/1    1.25065    1.22152 +/- 0.00555\n",
      "       40/1    1.24108    1.22282 +/- 0.00533\n",
      "       41/1    1.24456    1.22418 +/- 0.00517\n",
      "       42/1    1.25402    1.22594 +/- 0.00516\n",
      "       43/1    1.23318    1.22634 +/- 0.00488\n",
      "       44/1    1.21648    1.22582 +/- 0.00465\n",
      "       45/1    1.23358    1.22621 +/- 0.00443\n",
      "       46/1    1.21784    1.22581 +/- 0.00423\n",
      "       47/1    1.22183    1.22563 +/- 0.00404\n",
      "       48/1    1.22167    1.22546 +/- 0.00386\n",
      "       49/1    1.23987    1.22606 +/- 0.00374\n",
      "       50/1    1.25163    1.22708 +/- 0.00373\n",
      " Creating state point statepoint.50.h5...\n",
      "\n",
      " ===========================================================================\n",
      " ======================>     SIMULATION FINISHED     <======================\n",
      " ===========================================================================\n",
      "\n",
      "\n",
      " =======================>     TIMING STATISTICS     <=======================\n",
      "\n",
      " Total time for initialization     =  1.0070E+00 seconds\n",
      "   Reading cross sections          =  5.2100E-01 seconds\n",
      " Total time in simulation          =  3.7960E+01 seconds\n",
      "   Time in transport only          =  3.5749E+01 seconds\n",
      "   Time in inactive batches        =  5.0970E+00 seconds\n",
      "   Time in active batches          =  3.2863E+01 seconds\n",
      "   Time synchronizing fission bank =  2.1370E+00 seconds\n",
      "     Sampling source sites         =  1.4000E-02 seconds\n",
      "     SEND/RECV source sites        =  3.0000E-03 seconds\n",
      "   Time accumulating tallies       =  1.5000E-02 seconds\n",
      " Total time for finalization       =  4.0000E-02 seconds\n",
      " Total time elapsed                =  3.9029E+01 seconds\n",
      " Calculation Rate (inactive)       =  49048.5 neutrons/second\n",
      " Calculation Rate (active)         =  7607.34 neutrons/second\n",
      "\n",
      " ============================>     RESULTS     <============================\n",
      "\n",
      " k-effective (Collision)     =  1.22510 +/-  0.00387\n",
      " k-effective (Track-length)  =  1.22708 +/-  0.00373\n",
      " k-effective (Absorption)    =  1.21865 +/-  0.00270\n",
      " Combined k-effective        =  1.22050 +/-  0.00280\n",
      " Leakage Fraction            =  0.00879 +/-  0.00017\n",
      "\n",
      "loss matrix source\n",
      "[  13674.79026828   82907.98019615   30170.84537889  179981.50359778\n",
      "   13385.25947023   80505.13678451   29615.99791486  176814.1234952 ]\n",
      "prod matrix delayed source\n",
      "[ 397.10104979    0.          865.10882582    0.          386.38059441\n",
      "    0.          850.84737879    0.        ]\n",
      "prod matrix prompt source\n",
      "[ 126017.02350363       0.          273118.68371262       0.\n",
      "  122590.52728611       0.          269042.78580047       0.        ]\n",
      "linear solver iter 0 resid 4.42393e-03 k-eff 1.230412\n",
      "linear solver iter 1 resid 4.27219e-03 k-eff 1.230383\n",
      "linear solver iter 2 resid 4.12679e-03 k-eff 1.230355\n",
      "linear solver iter 3 resid 3.98738e-03 k-eff 1.230328\n",
      "linear solver iter 4 resid 3.85364e-03 k-eff 1.230301\n",
      "linear solver iter 5 resid 3.72526e-03 k-eff 1.230276\n",
      "linear solver iter 6 resid 3.60196e-03 k-eff 1.230251\n",
      "linear solver iter 7 resid 3.48348e-03 k-eff 1.230227\n",
      "linear solver iter 8 resid 3.36959e-03 k-eff 1.230203\n",
      "linear solver iter 9 resid 3.26004e-03 k-eff 1.230181\n",
      "linear solver iter 10 resid 3.15464e-03 k-eff 1.230159\n",
      "linear solver iter 11 resid 3.05317e-03 k-eff 1.230137\n",
      "linear solver iter 12 resid 2.95546e-03 k-eff 1.230116\n",
      "linear solver iter 13 resid 2.86134e-03 k-eff 1.230096\n",
      "linear solver iter 14 resid 2.77062e-03 k-eff 1.230077\n",
      "linear solver iter 15 resid 2.68318e-03 k-eff 1.230058\n",
      "linear solver iter 16 resid 2.59885e-03 k-eff 1.230039\n",
      "linear solver iter 17 resid 2.51750e-03 k-eff 1.230021\n",
      "linear solver iter 18 resid 2.43901e-03 k-eff 1.230004\n",
      "linear solver iter 19 resid 2.36324e-03 k-eff 1.229987\n",
      "linear solver iter 20 resid 2.29010e-03 k-eff 1.229970\n",
      "linear solver iter 21 resid 2.21946e-03 k-eff 1.229954\n",
      "linear solver iter 22 resid 2.15123e-03 k-eff 1.229939\n",
      "linear solver iter 23 resid 2.08531e-03 k-eff 1.229924\n",
      "linear solver iter 24 resid 2.02160e-03 k-eff 1.229909\n",
      "linear solver iter 25 resid 1.96002e-03 k-eff 1.229895\n",
      "linear solver iter 26 resid 1.90048e-03 k-eff 1.229881\n",
      "linear solver iter 27 resid 1.84291e-03 k-eff 1.229868\n",
      "linear solver iter 28 resid 1.78723e-03 k-eff 1.229855\n",
      "linear solver iter 29 resid 1.73337e-03 k-eff 1.229842\n",
      "linear solver iter 30 resid 1.68126e-03 k-eff 1.229830\n",
      "linear solver iter 31 resid 1.63083e-03 k-eff 1.229818\n",
      "linear solver iter 32 resid 1.58203e-03 k-eff 1.229806\n",
      "linear solver iter 33 resid 1.53478e-03 k-eff 1.229795\n",
      "linear solver iter 34 resid 1.48905e-03 k-eff 1.229784\n",
      "linear solver iter 35 resid 1.44476e-03 k-eff 1.229774\n",
      "linear solver iter 36 resid 1.40188e-03 k-eff 1.229763\n",
      "linear solver iter 37 resid 1.36034e-03 k-eff 1.229753\n",
      "linear solver iter 38 resid 1.32011e-03 k-eff 1.229744\n",
      "linear solver iter 39 resid 1.28114e-03 k-eff 1.229734\n",
      "linear solver iter 40 resid 1.24338e-03 k-eff 1.229725\n",
      "linear solver iter 41 resid 1.20679e-03 k-eff 1.229716\n",
      "linear solver iter 42 resid 1.17133e-03 k-eff 1.229708\n",
      "linear solver iter 43 resid 1.13697e-03 k-eff 1.229699\n",
      "linear solver iter 44 resid 1.10366e-03 k-eff 1.229691\n",
      "linear solver iter 45 resid 1.07137e-03 k-eff 1.229683\n",
      "linear solver iter 46 resid 1.04007e-03 k-eff 1.229675\n",
      "linear solver iter 47 resid 1.00973e-03 k-eff 1.229668\n",
      "linear solver iter 48 resid 9.80303e-04 k-eff 1.229661\n",
      "linear solver iter 49 resid 9.51771e-04 k-eff 1.229654\n",
      "linear solver iter 50 resid 9.24102e-04 k-eff 1.229647\n",
      "linear solver iter 51 resid 8.97267e-04 k-eff 1.229640\n",
      "linear solver iter 52 resid 8.71240e-04 k-eff 1.229634\n",
      "linear solver iter 53 resid 8.45995e-04 k-eff 1.229627\n",
      "linear solver iter 54 resid 8.21506e-04 k-eff 1.229621\n",
      "linear solver iter 55 resid 7.97749e-04 k-eff 1.229615\n",
      "linear solver iter 56 resid 7.74702e-04 k-eff 1.229609\n",
      "linear solver iter 57 resid 7.52340e-04 k-eff 1.229604\n",
      "linear solver iter 58 resid 7.30644e-04 k-eff 1.229598\n",
      "linear solver iter 59 resid 7.09591e-04 k-eff 1.229593\n",
      "linear solver iter 60 resid 6.89162e-04 k-eff 1.229588\n",
      "linear solver iter 61 resid 6.69337e-04 k-eff 1.229583\n",
      "linear solver iter 62 resid 6.50097e-04 k-eff 1.229578\n",
      "linear solver iter 63 resid 6.31425e-04 k-eff 1.229573\n",
      "linear solver iter 64 resid 6.13302e-04 k-eff 1.229569\n",
      "linear solver iter 65 resid 5.95711e-04 k-eff 1.229564\n",
      "linear solver iter 66 resid 5.78637e-04 k-eff 1.229560\n",
      "linear solver iter 67 resid 5.62063e-04 k-eff 1.229556\n",
      "linear solver iter 68 resid 5.45974e-04 k-eff 1.229552\n",
      "linear solver iter 69 resid 5.30355e-04 k-eff 1.229548\n",
      "linear solver iter 70 resid 5.15192e-04 k-eff 1.229544\n",
      "linear solver iter 71 resid 5.00471e-04 k-eff 1.229540\n",
      "linear solver iter 72 resid 4.86179e-04 k-eff 1.229537\n",
      "linear solver iter 73 resid 4.72302e-04 k-eff 1.229533\n",
      "linear solver iter 74 resid 4.58829e-04 k-eff 1.229530\n",
      "linear solver iter 75 resid 4.45747e-04 k-eff 1.229526\n",
      "linear solver iter 76 resid 4.33043e-04 k-eff 1.229523\n",
      "linear solver iter 77 resid 4.20708e-04 k-eff 1.229520\n",
      "linear solver iter 78 resid 4.08730e-04 k-eff 1.229517\n",
      "linear solver iter 79 resid 3.97098e-04 k-eff 1.229514\n",
      "linear solver iter 80 resid 3.85802e-04 k-eff 1.229511\n",
      "linear solver iter 81 resid 3.74832e-04 k-eff 1.229508\n",
      "linear solver iter 82 resid 3.64179e-04 k-eff 1.229505\n",
      "linear solver iter 83 resid 3.53832e-04 k-eff 1.229503\n",
      "linear solver iter 84 resid 3.43783e-04 k-eff 1.229500\n",
      "linear solver iter 85 resid 3.34023e-04 k-eff 1.229498\n",
      "linear solver iter 86 resid 3.24543e-04 k-eff 1.229495\n",
      "linear solver iter 87 resid 3.15336e-04 k-eff 1.229493\n",
      "linear solver iter 88 resid 3.06393e-04 k-eff 1.229491\n",
      "linear solver iter 89 resid 2.97707e-04 k-eff 1.229488\n",
      "linear solver iter 90 resid 2.89269e-04 k-eff 1.229486\n",
      "linear solver iter 91 resid 2.81073e-04 k-eff 1.229484\n",
      "linear solver iter 92 resid 2.73112e-04 k-eff 1.229482\n",
      "linear solver iter 93 resid 2.65379e-04 k-eff 1.229480\n",
      "linear solver iter 94 resid 2.57866e-04 k-eff 1.229478\n",
      "linear solver iter 95 resid 2.50569e-04 k-eff 1.229476\n",
      "linear solver iter 96 resid 2.43479e-04 k-eff 1.229474\n",
      "linear solver iter 97 resid 2.36593e-04 k-eff 1.229473\n",
      "linear solver iter 98 resid 2.29902e-04 k-eff 1.229471\n",
      "linear solver iter 99 resid 2.23402e-04 k-eff 1.229469\n",
      "linear solver iter 100 resid 2.17088e-04 k-eff 1.229468\n",
      "linear solver iter 101 resid 2.10954e-04 k-eff 1.229466\n",
      "linear solver iter 102 resid 2.04994e-04 k-eff 1.229465\n",
      "linear solver iter 103 resid 1.99203e-04 k-eff 1.229463\n",
      "linear solver iter 104 resid 1.93578e-04 k-eff 1.229462\n",
      "linear solver iter 105 resid 1.88112e-04 k-eff 1.229460\n",
      "linear solver iter 106 resid 1.82802e-04 k-eff 1.229459\n",
      "linear solver iter 107 resid 1.77643e-04 k-eff 1.229458\n",
      "linear solver iter 108 resid 1.72630e-04 k-eff 1.229456\n",
      "linear solver iter 109 resid 1.67760e-04 k-eff 1.229455\n",
      "linear solver iter 110 resid 1.63028e-04 k-eff 1.229454\n",
      "linear solver iter 111 resid 1.58430e-04 k-eff 1.229453\n",
      "linear solver iter 112 resid 1.53962e-04 k-eff 1.229451\n",
      "linear solver iter 113 resid 1.49622e-04 k-eff 1.229450\n",
      "linear solver iter 114 resid 1.45404e-04 k-eff 1.229449\n",
      "linear solver iter 115 resid 1.41306e-04 k-eff 1.229448\n",
      "linear solver iter 116 resid 1.37323e-04 k-eff 1.229447\n",
      "linear solver iter 117 resid 1.33454e-04 k-eff 1.229446\n",
      "linear solver iter 118 resid 1.29694e-04 k-eff 1.229445\n",
      "linear solver iter 119 resid 1.26041e-04 k-eff 1.229444\n",
      "linear solver iter 120 resid 1.22491e-04 k-eff 1.229443\n",
      "linear solver iter 121 resid 1.19041e-04 k-eff 1.229442\n",
      "linear solver iter 122 resid 1.15689e-04 k-eff 1.229442\n",
      "linear solver iter 123 resid 1.12432e-04 k-eff 1.229441\n",
      "linear solver iter 124 resid 1.09267e-04 k-eff 1.229440\n",
      "linear solver iter 125 resid 1.06191e-04 k-eff 1.229439\n",
      "linear solver iter 126 resid 1.03202e-04 k-eff 1.229438\n",
      "linear solver iter 127 resid 1.00298e-04 k-eff 1.229438\n",
      "linear solver iter 128 resid 9.74757e-05 k-eff 1.229437\n",
      "linear solver iter 129 resid 9.47331e-05 k-eff 1.229436\n",
      "linear solver iter 130 resid 9.20679e-05 k-eff 1.229435\n",
      "linear solver iter 131 resid 8.94779e-05 k-eff 1.229435\n",
      "linear solver iter 132 resid 8.69610e-05 k-eff 1.229434\n",
      "linear solver iter 133 resid 8.45152e-05 k-eff 1.229434\n",
      "linear solver iter 134 resid 8.21383e-05 k-eff 1.229433\n",
      "linear solver iter 135 resid 7.98285e-05 k-eff 1.229432\n",
      "linear solver iter 136 resid 7.75838e-05 k-eff 1.229432\n",
      "linear solver iter 137 resid 7.54025e-05 k-eff 1.229431\n",
      "linear solver iter 138 resid 7.32826e-05 k-eff 1.229431\n",
      "linear solver iter 139 resid 7.12225e-05 k-eff 1.229430\n",
      "linear solver iter 140 resid 6.92204e-05 k-eff 1.229430\n",
      "linear solver iter 141 resid 6.72748e-05 k-eff 1.229429\n",
      "linear solver iter 142 resid 6.53840e-05 k-eff 1.229429\n",
      "linear solver iter 143 resid 6.35464e-05 k-eff 1.229428\n",
      "linear solver iter 144 resid 6.17607e-05 k-eff 1.229428\n",
      "linear solver iter 145 resid 6.00252e-05 k-eff 1.229427\n",
      "linear solver iter 146 resid 5.83386e-05 k-eff 1.229427\n",
      "linear solver iter 147 resid 5.66995e-05 k-eff 1.229426\n",
      "linear solver iter 148 resid 5.51065e-05 k-eff 1.229426\n",
      "linear solver iter 149 resid 5.35584e-05 k-eff 1.229426\n",
      "linear solver iter 150 resid 5.20538e-05 k-eff 1.229425\n",
      "linear solver iter 151 resid 5.05917e-05 k-eff 1.229425\n",
      "linear solver iter 152 resid 4.91706e-05 k-eff 1.229424\n",
      "linear solver iter 153 resid 4.77896e-05 k-eff 1.229424\n",
      "linear solver iter 154 resid 4.64474e-05 k-eff 1.229424\n",
      "linear solver iter 155 resid 4.51429e-05 k-eff 1.229423\n",
      "linear solver iter 156 resid 4.38752e-05 k-eff 1.229423\n",
      "linear solver iter 157 resid 4.26431e-05 k-eff 1.229423\n",
      "linear solver iter 158 resid 4.14457e-05 k-eff 1.229422\n",
      "linear solver iter 159 resid 4.02819e-05 k-eff 1.229422\n",
      "linear solver iter 160 resid 3.91509e-05 k-eff 1.229422\n",
      "linear solver iter 161 resid 3.80517e-05 k-eff 1.229422\n",
      "linear solver iter 162 resid 3.69834e-05 k-eff 1.229421\n",
      "linear solver iter 163 resid 3.59451e-05 k-eff 1.229421\n",
      "linear solver iter 164 resid 3.49360e-05 k-eff 1.229421\n",
      "linear solver iter 165 resid 3.39553e-05 k-eff 1.229420\n",
      "linear solver iter 166 resid 3.30022e-05 k-eff 1.229420\n",
      "linear solver iter 167 resid 3.20758e-05 k-eff 1.229420\n",
      "linear solver iter 168 resid 3.11755e-05 k-eff 1.229420\n",
      "linear solver iter 169 resid 3.03005e-05 k-eff 1.229420\n",
      "linear solver iter 170 resid 2.94500e-05 k-eff 1.229419\n",
      "linear solver iter 171 resid 2.86235e-05 k-eff 1.229419\n",
      "linear solver iter 172 resid 2.78202e-05 k-eff 1.229419\n",
      "linear solver iter 173 resid 2.70395e-05 k-eff 1.229419\n",
      "linear solver iter 174 resid 2.62806e-05 k-eff 1.229419\n",
      "linear solver iter 175 resid 2.55432e-05 k-eff 1.229418\n",
      "linear solver iter 176 resid 2.48264e-05 k-eff 1.229418\n",
      "linear solver iter 177 resid 2.41297e-05 k-eff 1.229418\n",
      "linear solver iter 178 resid 2.34527e-05 k-eff 1.229418\n",
      "linear solver iter 179 resid 2.27946e-05 k-eff 1.229418\n",
      "linear solver iter 180 resid 2.21550e-05 k-eff 1.229417\n",
      "linear solver iter 181 resid 2.15334e-05 k-eff 1.229417\n",
      "linear solver iter 182 resid 2.09293e-05 k-eff 1.229417\n",
      "linear solver iter 183 resid 2.03421e-05 k-eff 1.229417\n",
      "linear solver iter 184 resid 1.97714e-05 k-eff 1.229417\n",
      "linear solver iter 185 resid 1.92167e-05 k-eff 1.229417\n",
      "linear solver iter 186 resid 1.86776e-05 k-eff 1.229417\n",
      "linear solver iter 187 resid 1.81537e-05 k-eff 1.229416\n",
      "linear solver iter 188 resid 1.76444e-05 k-eff 1.229416\n",
      "linear solver iter 189 resid 1.71495e-05 k-eff 1.229416\n",
      "linear solver iter 190 resid 1.66684e-05 k-eff 1.229416\n",
      "linear solver iter 191 resid 1.62008e-05 k-eff 1.229416\n",
      "linear solver iter 192 resid 1.57464e-05 k-eff 1.229416\n",
      "linear solver iter 193 resid 1.53047e-05 k-eff 1.229416\n",
      "linear solver iter 194 resid 1.48755e-05 k-eff 1.229416\n",
      "linear solver iter 195 resid 1.44582e-05 k-eff 1.229416\n",
      "linear solver iter 196 resid 1.40527e-05 k-eff 1.229415\n",
      "linear solver iter 197 resid 1.36586e-05 k-eff 1.229415\n",
      "linear solver iter 198 resid 1.32755e-05 k-eff 1.229415\n",
      "linear solver iter 199 resid 1.29032e-05 k-eff 1.229415\n",
      "linear solver iter 200 resid 1.25413e-05 k-eff 1.229415\n",
      "linear solver iter 201 resid 1.21896e-05 k-eff 1.229415\n",
      "linear solver iter 202 resid 1.18477e-05 k-eff 1.229415\n",
      "linear solver iter 203 resid 1.15155e-05 k-eff 1.229415\n",
      "linear solver iter 204 resid 1.11926e-05 k-eff 1.229415\n",
      "linear solver iter 205 resid 1.08787e-05 k-eff 1.229415\n",
      "linear solver iter 206 resid 1.05736e-05 k-eff 1.229415\n",
      "linear solver iter 207 resid 1.02771e-05 k-eff 1.229414\n",
      "linear solver iter 208 resid 9.98894e-06 k-eff 1.229414\n",
      "linear solver iter 209 resid 9.70884e-06 k-eff 1.229414\n",
      "linear solver iter 210 resid 9.43660e-06 k-eff 1.229414\n",
      "linear solver iter 211 resid 9.17200e-06 k-eff 1.229414\n",
      "linear solver iter 212 resid 8.91482e-06 k-eff 1.229414\n",
      "linear solver iter 213 resid 8.66485e-06 k-eff 1.229414\n",
      "linear solver iter 214 resid 8.42190e-06 k-eff 1.229414\n",
      "linear solver iter 215 resid 8.18577e-06 k-eff 1.229414\n",
      "linear solver iter 216 resid 7.95626e-06 k-eff 1.229414\n",
      "linear solver iter 217 resid 7.73318e-06 k-eff 1.229414\n",
      "linear solver iter 218 resid 7.51637e-06 k-eff 1.229414\n",
      "linear solver iter 219 resid 7.30564e-06 k-eff 1.229414\n",
      "linear solver iter 220 resid 7.10081e-06 k-eff 1.229414\n",
      "linear solver iter 221 resid 6.90174e-06 k-eff 1.229414\n",
      "linear solver iter 222 resid 6.70824e-06 k-eff 1.229414\n",
      "linear solver iter 223 resid 6.52018e-06 k-eff 1.229413\n",
      "linear solver iter 224 resid 6.33739e-06 k-eff 1.229413\n",
      "linear solver iter 225 resid 6.15972e-06 k-eff 1.229413\n",
      "linear solver iter 226 resid 5.98704e-06 k-eff 1.229413\n",
      "linear solver iter 227 resid 5.81921e-06 k-eff 1.229413\n",
      "linear solver iter 228 resid 5.65608e-06 k-eff 1.229413\n",
      "linear solver iter 229 resid 5.49752e-06 k-eff 1.229413\n",
      "linear solver iter 230 resid 5.34341e-06 k-eff 1.229413\n",
      "linear solver iter 231 resid 5.19363e-06 k-eff 1.229413\n",
      "linear solver iter 232 resid 5.04804e-06 k-eff 1.229413\n",
      "linear solver iter 233 resid 4.90654e-06 k-eff 1.229413\n",
      "linear solver iter 234 resid 4.76900e-06 k-eff 1.229413\n",
      "linear solver iter 235 resid 4.63532e-06 k-eff 1.229413\n",
      "linear solver iter 236 resid 4.50539e-06 k-eff 1.229413\n",
      "linear solver iter 237 resid 4.37911e-06 k-eff 1.229413\n",
      "linear solver iter 238 resid 4.25636e-06 k-eff 1.229413\n",
      "linear solver iter 239 resid 4.13706e-06 k-eff 1.229413\n",
      "linear solver iter 240 resid 4.02111e-06 k-eff 1.229413\n",
      "linear solver iter 241 resid 3.90840e-06 k-eff 1.229413\n",
      "linear solver iter 242 resid 3.79885e-06 k-eff 1.229413\n",
      "linear solver iter 243 resid 3.69238e-06 k-eff 1.229413\n",
      "linear solver iter 244 resid 3.58889e-06 k-eff 1.229413\n",
      "linear solver iter 245 resid 3.48831e-06 k-eff 1.229413\n",
      "linear solver iter 246 resid 3.39054e-06 k-eff 1.229413\n",
      "linear solver iter 247 resid 3.29552e-06 k-eff 1.229413\n",
      "linear solver iter 248 resid 3.20315e-06 k-eff 1.229413\n",
      "linear solver iter 249 resid 3.11338e-06 k-eff 1.229413\n",
      "linear solver iter 250 resid 3.02613e-06 k-eff 1.229413\n",
      "linear solver iter 251 resid 2.94132e-06 k-eff 1.229413\n",
      "linear solver iter 252 resid 2.85889e-06 k-eff 1.229413\n",
      "linear solver iter 253 resid 2.77877e-06 k-eff 1.229413\n",
      "linear solver iter 254 resid 2.70090e-06 k-eff 1.229413\n",
      "linear solver iter 255 resid 2.62521e-06 k-eff 1.229413\n",
      "linear solver iter 256 resid 2.55164e-06 k-eff 1.229412\n",
      "linear solver iter 257 resid 2.48014e-06 k-eff 1.229412\n",
      "linear solver iter 258 resid 2.41064e-06 k-eff 1.229412\n",
      "linear solver iter 259 resid 2.34308e-06 k-eff 1.229412\n",
      "linear solver iter 260 resid 2.27743e-06 k-eff 1.229412\n",
      "linear solver iter 261 resid 2.21361e-06 k-eff 1.229412\n",
      "linear solver iter 262 resid 2.15158e-06 k-eff 1.229412\n",
      "linear solver iter 263 resid 2.09129e-06 k-eff 1.229412\n",
      "linear solver iter 264 resid 2.03269e-06 k-eff 1.229412\n",
      "linear solver iter 265 resid 1.97573e-06 k-eff 1.229412\n",
      "linear solver iter 266 resid 1.92037e-06 k-eff 1.229412\n",
      "linear solver iter 267 resid 1.86656e-06 k-eff 1.229412\n",
      "linear solver iter 268 resid 1.81426e-06 k-eff 1.229412\n",
      "linear solver iter 269 resid 1.76343e-06 k-eff 1.229412\n",
      "linear solver iter 270 resid 1.71402e-06 k-eff 1.229412\n",
      "linear solver iter 271 resid 1.66599e-06 k-eff 1.229412\n",
      "linear solver iter 272 resid 1.61932e-06 k-eff 1.229412\n",
      "linear solver iter 273 resid 1.57395e-06 k-eff 1.229412\n",
      "linear solver iter 274 resid 1.52985e-06 k-eff 1.229412\n",
      "linear solver iter 275 resid 1.48698e-06 k-eff 1.229412\n",
      "linear solver iter 276 resid 1.44532e-06 k-eff 1.229412\n",
      "linear solver iter 277 resid 1.40483e-06 k-eff 1.229412\n",
      "linear solver iter 278 resid 1.36547e-06 k-eff 1.229412\n",
      "linear solver iter 279 resid 1.32722e-06 k-eff 1.229412\n",
      "linear solver iter 280 resid 1.29003e-06 k-eff 1.229412\n",
      "linear solver iter 281 resid 1.25389e-06 k-eff 1.229412\n",
      "linear solver iter 282 resid 1.21877e-06 k-eff 1.229412\n",
      "linear solver iter 283 resid 1.18462e-06 k-eff 1.229412\n",
      "linear solver iter 284 resid 1.15144e-06 k-eff 1.229412\n",
      "linear solver iter 285 resid 1.11918e-06 k-eff 1.229412\n",
      "linear solver iter 286 resid 1.08783e-06 k-eff 1.229412\n",
      "linear solver iter 287 resid 1.05735e-06 k-eff 1.229412\n",
      "linear solver iter 288 resid 1.02773e-06 k-eff 1.229412\n",
      "linear solver iter 289 resid 9.98943e-07 k-eff 1.229412\n",
      "linear solver iter 290 resid 9.70960e-07 k-eff 1.229412\n",
      "linear solver iter 291 resid 9.43761e-07 k-eff 1.229412\n",
      "linear solver iter 292 resid 9.17325e-07 k-eff 1.229412\n",
      "linear solver iter 293 resid 8.91629e-07 k-eff 1.229412\n",
      "linear solver iter 294 resid 8.66654e-07 k-eff 1.229412\n",
      "linear solver iter 295 resid 8.42378e-07 k-eff 1.229412\n",
      "linear solver iter 296 resid 8.18783e-07 k-eff 1.229412\n",
      "linear solver iter 297 resid 7.95848e-07 k-eff 1.229412\n",
      "linear solver iter 298 resid 7.73557e-07 k-eff 1.229412\n",
      "linear solver iter 299 resid 7.51890e-07 k-eff 1.229412\n",
      "linear solver iter 300 resid 7.30830e-07 k-eff 1.229412\n",
      "linear solver iter 301 resid 7.10360e-07 k-eff 1.229412\n",
      "linear solver iter 302 resid 6.90464e-07 k-eff 1.229412\n",
      "linear solver iter 303 resid 6.71126e-07 k-eff 1.229412\n",
      "linear solver iter 304 resid 6.52329e-07 k-eff 1.229412\n",
      "linear solver iter 305 resid 6.34059e-07 k-eff 1.229412\n",
      "linear solver iter 306 resid 6.16301e-07 k-eff 1.229412\n",
      "linear solver iter 307 resid 5.99040e-07 k-eff 1.229412\n",
      "linear solver iter 308 resid 5.82263e-07 k-eff 1.229412\n",
      "linear solver iter 309 resid 5.65957e-07 k-eff 1.229412\n",
      "linear solver iter 310 resid 5.50107e-07 k-eff 1.229412\n",
      "linear solver iter 311 resid 5.34701e-07 k-eff 1.229412\n",
      "linear solver iter 312 resid 5.19726e-07 k-eff 1.229412\n",
      "linear solver iter 313 resid 5.05172e-07 k-eff 1.229412\n",
      "linear solver iter 314 resid 4.91025e-07 k-eff 1.229412\n",
      "linear solver iter 315 resid 4.77274e-07 k-eff 1.229412\n",
      "linear solver iter 316 resid 4.63909e-07 k-eff 1.229412\n",
      "linear solver iter 317 resid 4.50918e-07 k-eff 1.229412\n",
      "linear solver iter 318 resid 4.38291e-07 k-eff 1.229412\n",
      "linear solver iter 319 resid 4.26018e-07 k-eff 1.229412\n",
      "linear solver iter 320 resid 4.14088e-07 k-eff 1.229412\n",
      "linear solver iter 321 resid 4.02493e-07 k-eff 1.229412\n",
      "linear solver iter 322 resid 3.91223e-07 k-eff 1.229412\n",
      "linear solver iter 323 resid 3.80268e-07 k-eff 1.229412\n",
      "linear solver iter 324 resid 3.69621e-07 k-eff 1.229412\n",
      "linear solver iter 325 resid 3.59271e-07 k-eff 1.229412\n",
      "linear solver iter 326 resid 3.49212e-07 k-eff 1.229412\n",
      "linear solver iter 327 resid 3.39434e-07 k-eff 1.229412\n",
      "linear solver iter 328 resid 3.29930e-07 k-eff 1.229412\n",
      "linear solver iter 329 resid 3.20692e-07 k-eff 1.229412\n",
      "linear solver iter 330 resid 3.11714e-07 k-eff 1.229412\n",
      "linear solver iter 331 resid 3.02986e-07 k-eff 1.229412\n",
      "linear solver iter 332 resid 2.94503e-07 k-eff 1.229412\n",
      "linear solver iter 333 resid 2.86258e-07 k-eff 1.229412\n",
      "linear solver iter 334 resid 2.78244e-07 k-eff 1.229412\n",
      "linear solver iter 335 resid 2.70454e-07 k-eff 1.229412\n",
      "linear solver iter 336 resid 2.62882e-07 k-eff 1.229412\n",
      "linear solver iter 337 resid 2.55523e-07 k-eff 1.229412\n",
      "linear solver iter 338 resid 2.48370e-07 k-eff 1.229412\n",
      "linear solver iter 339 resid 2.41417e-07 k-eff 1.229412\n",
      "linear solver iter 340 resid 2.34658e-07 k-eff 1.229412\n",
      "linear solver iter 341 resid 2.28089e-07 k-eff 1.229412\n",
      "linear solver iter 342 resid 2.21704e-07 k-eff 1.229412\n",
      "linear solver iter 343 resid 2.15498e-07 k-eff 1.229412\n",
      "linear solver iter 344 resid 2.09466e-07 k-eff 1.229412\n",
      "linear solver iter 345 resid 2.03602e-07 k-eff 1.229412\n",
      "linear solver iter 346 resid 1.97903e-07 k-eff 1.229412\n",
      "linear solver iter 347 resid 1.92363e-07 k-eff 1.229412\n",
      "linear solver iter 348 resid 1.86979e-07 k-eff 1.229412\n",
      "linear solver iter 349 resid 1.81745e-07 k-eff 1.229412\n",
      "linear solver iter 350 resid 1.76658e-07 k-eff 1.229412\n",
      "linear solver iter 351 resid 1.71714e-07 k-eff 1.229412\n",
      "linear solver iter 352 resid 1.66907e-07 k-eff 1.229412\n",
      "linear solver iter 353 resid 1.62236e-07 k-eff 1.229412\n",
      "linear solver iter 354 resid 1.57695e-07 k-eff 1.229412\n",
      "linear solver iter 355 resid 1.53281e-07 k-eff 1.229412\n",
      "linear solver iter 356 resid 1.48991e-07 k-eff 1.229412\n",
      "linear solver iter 357 resid 1.44822e-07 k-eff 1.229412\n",
      "linear solver iter 358 resid 1.40768e-07 k-eff 1.229412\n",
      "linear solver iter 359 resid 1.36829e-07 k-eff 1.229412\n",
      "linear solver iter 360 resid 1.33000e-07 k-eff 1.229412\n",
      "linear solver iter 361 resid 1.29278e-07 k-eff 1.229412\n",
      "linear solver iter 362 resid 1.25660e-07 k-eff 1.229412\n",
      "linear solver iter 363 resid 1.22143e-07 k-eff 1.229412\n",
      "linear solver iter 364 resid 1.18725e-07 k-eff 1.229412\n",
      "linear solver iter 365 resid 1.15403e-07 k-eff 1.229412\n",
      "linear solver iter 366 resid 1.12173e-07 k-eff 1.229412\n",
      "linear solver iter 367 resid 1.09034e-07 k-eff 1.229412\n",
      "linear solver iter 368 resid 1.05983e-07 k-eff 1.229412\n",
      "linear solver iter 369 resid 1.03018e-07 k-eff 1.229412\n",
      "linear solver iter 370 resid 1.00135e-07 k-eff 1.229412\n",
      "linear solver iter 371 resid 9.73333e-08 k-eff 1.229412\n",
      "linear solver iter 372 resid 9.46098e-08 k-eff 1.229412\n",
      "linear solver iter 373 resid 9.19627e-08 k-eff 1.229412\n",
      "linear solver iter 374 resid 8.93896e-08 k-eff 1.229412\n",
      "linear solver iter 375 resid 8.68885e-08 k-eff 1.229412\n",
      "linear solver iter 376 resid 8.44575e-08 k-eff 1.229412\n",
      "linear solver iter 377 resid 8.20945e-08 k-eff 1.229412\n",
      "linear solver iter 378 resid 7.97977e-08 k-eff 1.229412\n",
      "linear solver iter 379 resid 7.75652e-08 k-eff 1.229412\n",
      "linear solver iter 380 resid 7.53952e-08 k-eff 1.229412\n",
      "linear solver iter 381 resid 7.32859e-08 k-eff 1.229412\n",
      "linear solver iter 382 resid 7.12357e-08 k-eff 1.229412\n",
      "linear solver iter 383 resid 6.92428e-08 k-eff 1.229412\n",
      "linear solver iter 384 resid 6.73058e-08 k-eff 1.229412\n",
      "linear solver iter 385 resid 6.54229e-08 k-eff 1.229412\n",
      "linear solver iter 386 resid 6.35928e-08 k-eff 1.229412\n",
      "linear solver iter 387 resid 6.18139e-08 k-eff 1.229412\n",
      "linear solver iter 388 resid 6.00848e-08 k-eff 1.229412\n",
      "linear solver iter 389 resid 5.84041e-08 k-eff 1.229412\n",
      "linear solver iter 390 resid 5.67704e-08 k-eff 1.229412\n",
      "linear solver iter 391 resid 5.51825e-08 k-eff 1.229412\n",
      "linear solver iter 392 resid 5.36390e-08 k-eff 1.229412\n",
      "linear solver iter 393 resid 5.21387e-08 k-eff 1.229412\n",
      "linear solver iter 394 resid 5.06803e-08 k-eff 1.229412\n",
      "linear solver iter 395 resid 4.92628e-08 k-eff 1.229412\n",
      "linear solver iter 396 resid 4.78850e-08 k-eff 1.229412\n",
      "linear solver iter 397 resid 4.65458e-08 k-eff 1.229412\n",
      "linear solver iter 398 resid 4.52440e-08 k-eff 1.229412\n",
      "linear solver iter 399 resid 4.39786e-08 k-eff 1.229412\n",
      "linear solver iter 400 resid 4.27487e-08 k-eff 1.229412\n",
      "linear solver iter 401 resid 4.15532e-08 k-eff 1.229412\n",
      "linear solver iter 402 resid 4.03911e-08 k-eff 1.229412\n",
      "linear solver iter 403 resid 3.92616e-08 k-eff 1.229412\n",
      "linear solver iter 404 resid 3.81636e-08 k-eff 1.229412\n",
      "linear solver iter 405 resid 3.70964e-08 k-eff 1.229412\n",
      "linear solver iter 406 resid 3.60591e-08 k-eff 1.229412\n",
      "linear solver iter 407 resid 3.50508e-08 k-eff 1.229412\n",
      "linear solver iter 408 resid 3.40707e-08 k-eff 1.229412\n",
      "linear solver iter 409 resid 3.31180e-08 k-eff 1.229412\n",
      "linear solver iter 410 resid 3.21920e-08 k-eff 1.229412\n",
      "linear solver iter 411 resid 3.12919e-08 k-eff 1.229412\n",
      "linear solver iter 412 resid 3.04169e-08 k-eff 1.229412\n",
      "linear solver iter 413 resid 2.95665e-08 k-eff 1.229412\n",
      "linear solver iter 414 resid 2.87398e-08 k-eff 1.229412\n",
      "linear solver iter 415 resid 2.79363e-08 k-eff 1.229412\n",
      "linear solver iter 416 resid 2.71553e-08 k-eff 1.229412\n",
      "linear solver iter 417 resid 2.63961e-08 k-eff 1.229412\n",
      "linear solver iter 418 resid 2.56581e-08 k-eff 1.229412\n",
      "linear solver iter 419 resid 2.49408e-08 k-eff 1.229412\n",
      "linear solver iter 420 resid 2.42436e-08 k-eff 1.229412\n",
      "linear solver iter 421 resid 2.35659e-08 k-eff 1.229412\n",
      "linear solver iter 422 resid 2.29071e-08 k-eff 1.229412\n",
      "linear solver iter 423 resid 2.22667e-08 k-eff 1.229412\n",
      "linear solver iter 424 resid 2.16443e-08 k-eff 1.229412\n",
      "linear solver iter 425 resid 2.10393e-08 k-eff 1.229412\n",
      "linear solver iter 426 resid 2.04512e-08 k-eff 1.229412\n",
      "linear solver iter 427 resid 1.98796e-08 k-eff 1.229412\n",
      "linear solver iter 428 resid 1.93239e-08 k-eff 1.229412\n",
      "linear solver iter 429 resid 1.87838e-08 k-eff 1.229412\n",
      "linear solver iter 430 resid 1.82588e-08 k-eff 1.229412\n",
      "linear solver iter 431 resid 1.77485e-08 k-eff 1.229412\n",
      "linear solver iter 432 resid 1.72524e-08 k-eff 1.229412\n",
      "linear solver iter 433 resid 1.67703e-08 k-eff 1.229412\n",
      "linear solver iter 434 resid 1.63016e-08 k-eff 1.229412\n",
      "linear solver iter 435 resid 1.58460e-08 k-eff 1.229412\n",
      "linear solver iter 436 resid 1.54032e-08 k-eff 1.229412\n",
      "linear solver iter 437 resid 1.49727e-08 k-eff 1.229412\n",
      "linear solver iter 438 resid 1.45543e-08 k-eff 1.229412\n",
      "linear solver iter 439 resid 1.41476e-08 k-eff 1.229412\n",
      "linear solver iter 440 resid 1.37523e-08 k-eff 1.229412\n",
      "linear solver iter 441 resid 1.33680e-08 k-eff 1.229412\n",
      "linear solver iter 442 resid 1.29945e-08 k-eff 1.229412\n",
      "linear solver iter 443 resid 1.26314e-08 k-eff 1.229412\n",
      "linear solver iter 444 resid 1.22784e-08 k-eff 1.229412\n",
      "linear solver iter 445 resid 1.19354e-08 k-eff 1.229412\n",
      "linear solver iter 446 resid 1.16019e-08 k-eff 1.229412\n",
      "linear solver iter 447 resid 1.12778e-08 k-eff 1.229412\n",
      "linear solver iter 448 resid 1.09627e-08 k-eff 1.229412\n",
      "linear solver iter 449 resid 1.06564e-08 k-eff 1.229412\n",
      "linear solver iter 450 resid 1.03587e-08 k-eff 1.229412\n",
      "linear solver iter 451 resid 1.00693e-08 k-eff 1.229412\n",
      "linear solver iter 452 resid 9.78802e-09 k-eff 1.229412\n",
      "linear solver iter 453 resid 9.51459e-09 k-eff 1.229412\n",
      "linear solver iter 454 resid 9.24881e-09 k-eff 1.229412\n",
      "linear solver iter 455 resid 8.99046e-09 k-eff 1.229412\n",
      "linear solver iter 456 resid 8.73933e-09 k-eff 1.229412\n",
      "linear solver iter 457 resid 8.49522e-09 k-eff 1.229412\n",
      "linear solver iter 458 resid 8.25793e-09 k-eff 1.229412\n",
      "linear solver iter 459 resid 8.02728e-09 k-eff 1.229412\n",
      "linear solver iter 460 resid 7.80308e-09 k-eff 1.229412\n",
      "linear solver iter 461 resid 7.58514e-09 k-eff 1.229412\n",
      "linear solver iter 462 resid 7.37329e-09 k-eff 1.229412\n",
      "linear solver iter 463 resid 7.16737e-09 k-eff 1.229412\n",
      "linear solver iter 464 resid 6.96721e-09 k-eff 1.229412\n",
      "linear solver iter 465 resid 6.77263e-09 k-eff 1.229412\n",
      "linear solver iter 466 resid 6.58350e-09 k-eff 1.229412\n",
      "linear solver iter 467 resid 6.39966e-09 k-eff 1.229412\n",
      "linear solver iter 468 resid 6.22095e-09 k-eff 1.229412\n",
      "linear solver iter 469 resid 6.04723e-09 k-eff 1.229412\n",
      "linear solver iter 470 resid 5.87838e-09 k-eff 1.229412\n",
      "linear solver iter 471 resid 5.71424e-09 k-eff 1.229412\n",
      "linear solver iter 472 resid 5.55469e-09 k-eff 1.229412\n",
      "linear solver iter 473 resid 5.39959e-09 k-eff 1.229412\n",
      "linear solver iter 474 resid 5.24884e-09 k-eff 1.229412\n",
      "linear solver iter 475 resid 5.10229e-09 k-eff 1.229412\n",
      "linear solver iter 476 resid 4.95984e-09 k-eff 1.229412\n",
      "linear solver iter 477 resid 4.82137e-09 k-eff 1.229412\n",
      "linear solver iter 478 resid 4.68677e-09 k-eff 1.229412\n",
      "linear solver iter 479 resid 4.55594e-09 k-eff 1.229412\n",
      "linear solver iter 480 resid 4.42875e-09 k-eff 1.229412\n",
      "linear solver iter 481 resid 4.30513e-09 k-eff 1.229412\n",
      "linear solver iter 482 resid 4.18495e-09 k-eff 1.229412\n",
      "linear solver iter 483 resid 4.06813e-09 k-eff 1.229412\n",
      "linear solver iter 484 resid 3.95458e-09 k-eff 1.229412\n",
      "linear solver iter 485 resid 3.84420e-09 k-eff 1.229412\n",
      "linear solver iter 486 resid 3.73691e-09 k-eff 1.229412\n",
      "linear solver iter 487 resid 3.63261e-09 k-eff 1.229412\n",
      "linear solver iter 488 resid 3.53122e-09 k-eff 1.229412\n",
      "linear solver iter 489 resid 3.43267e-09 k-eff 1.229412\n",
      "linear solver iter 490 resid 3.33687e-09 k-eff 1.229412\n",
      "linear solver iter 491 resid 3.24375e-09 k-eff 1.229412\n",
      "linear solver iter 492 resid 3.15323e-09 k-eff 1.229412\n",
      "linear solver iter 493 resid 3.06524e-09 k-eff 1.229412\n",
      "linear solver iter 494 resid 2.97970e-09 k-eff 1.229412\n",
      "linear solver iter 495 resid 2.89656e-09 k-eff 1.229412\n",
      "linear solver iter 496 resid 2.81573e-09 k-eff 1.229412\n",
      "linear solver iter 497 resid 2.73717e-09 k-eff 1.229412\n",
      "linear solver iter 498 resid 2.66080e-09 k-eff 1.229412\n",
      "linear solver iter 499 resid 2.58656e-09 k-eff 1.229412\n",
      "linear solver iter 500 resid 2.51439e-09 k-eff 1.229412\n",
      "linear solver iter 501 resid 2.44424e-09 k-eff 1.229412\n",
      "linear solver iter 502 resid 2.37605e-09 k-eff 1.229412\n",
      "linear solver iter 503 resid 2.30977e-09 k-eff 1.229412\n",
      "linear solver iter 504 resid 2.24533e-09 k-eff 1.229412\n",
      "linear solver iter 505 resid 2.18270e-09 k-eff 1.229412\n",
      "linear solver iter 506 resid 2.12181e-09 k-eff 1.229412\n",
      "linear solver iter 507 resid 2.06263e-09 k-eff 1.229412\n",
      "linear solver iter 508 resid 2.00509e-09 k-eff 1.229412\n",
      "linear solver iter 509 resid 1.94917e-09 k-eff 1.229412\n",
      "linear solver iter 510 resid 1.89480e-09 k-eff 1.229412\n",
      "linear solver iter 511 resid 1.84196e-09 k-eff 1.229412\n",
      "linear solver iter 512 resid 1.79058e-09 k-eff 1.229412\n",
      "linear solver iter 513 resid 1.74065e-09 k-eff 1.229412\n",
      "linear solver iter 514 resid 1.69210e-09 k-eff 1.229412\n",
      "linear solver iter 515 resid 1.64492e-09 k-eff 1.229412\n",
      "linear solver iter 516 resid 1.59905e-09 k-eff 1.229412\n",
      "linear solver iter 517 resid 1.55446e-09 k-eff 1.229412\n",
      "linear solver iter 518 resid 1.51111e-09 k-eff 1.229412\n",
      "linear solver iter 519 resid 1.46898e-09 k-eff 1.229412\n",
      "linear solver iter 520 resid 1.42802e-09 k-eff 1.229412\n",
      "linear solver iter 521 resid 1.38820e-09 k-eff 1.229412\n",
      "linear solver iter 522 resid 1.34950e-09 k-eff 1.229412\n",
      "linear solver iter 523 resid 1.31187e-09 k-eff 1.229412\n",
      "linear solver iter 524 resid 1.27530e-09 k-eff 1.229412\n",
      "linear solver iter 525 resid 1.23975e-09 k-eff 1.229412\n",
      "linear solver iter 526 resid 1.20519e-09 k-eff 1.229412\n",
      "linear solver iter 527 resid 1.17159e-09 k-eff 1.229412\n",
      "linear solver iter 528 resid 1.13893e-09 k-eff 1.229412\n",
      "linear solver iter 529 resid 1.10719e-09 k-eff 1.229412\n",
      "linear solver iter 530 resid 1.07632e-09 k-eff 1.229412\n",
      "linear solver iter 531 resid 1.04632e-09 k-eff 1.229412\n",
      "linear solver iter 532 resid 1.01716e-09 k-eff 1.229412\n",
      "linear solver iter 533 resid 9.88813e-10 k-eff 1.229412\n",
      "linear solver iter 534 resid 9.61256e-10 k-eff 1.229412\n",
      "linear solver iter 535 resid 9.34467e-10 k-eff 1.229412\n",
      "linear solver iter 536 resid 9.08425e-10 k-eff 1.229412\n",
      "linear solver iter 537 resid 8.83111e-10 k-eff 1.229412\n",
      "linear solver iter 538 resid 8.58502e-10 k-eff 1.229412\n",
      "linear solver iter 539 resid 8.34580e-10 k-eff 1.229412\n",
      "linear solver iter 540 resid 8.11326e-10 k-eff 1.229412\n",
      "linear solver iter 541 resid 7.88720e-10 k-eff 1.229412\n",
      "linear solver iter 542 resid 7.66745e-10 k-eff 1.229412\n",
      "linear solver iter 543 resid 7.45383e-10 k-eff 1.229412\n",
      "linear solver iter 544 resid 7.24617e-10 k-eff 1.229412\n",
      "linear solver iter 545 resid 7.04430e-10 k-eff 1.229412\n",
      "linear solver iter 546 resid 6.84806e-10 k-eff 1.229412\n",
      "linear solver iter 547 resid 6.65729e-10 k-eff 1.229412\n",
      "linear solver iter 548 resid 6.47185e-10 k-eff 1.229412\n",
      "linear solver iter 549 resid 6.29158e-10 k-eff 1.229412\n",
      "linear solver iter 550 resid 6.11633e-10 k-eff 1.229412\n",
      "linear solver iter 551 resid 5.94598e-10 k-eff 1.229412\n",
      "linear solver iter 552 resid 5.78037e-10 k-eff 1.229412\n",
      "linear solver iter 553 resid 5.61939e-10 k-eff 1.229412\n",
      "linear solver iter 554 resid 5.46289e-10 k-eff 1.229412\n",
      "linear solver iter 555 resid 5.31076e-10 k-eff 1.229412\n",
      "linear solver iter 556 resid 5.16287e-10 k-eff 1.229412\n",
      "linear solver iter 557 resid 5.01910e-10 k-eff 1.229412\n",
      "linear solver iter 558 resid 4.87934e-10 k-eff 1.229412\n",
      "linear solver iter 559 resid 4.74348e-10 k-eff 1.229412\n",
      "linear solver iter 560 resid 4.61140e-10 k-eff 1.229412\n",
      "linear solver iter 561 resid 4.48301e-10 k-eff 1.229412\n",
      "linear solver iter 562 resid 4.35820e-10 k-eff 1.229412\n",
      "linear solver iter 563 resid 4.23687e-10 k-eff 1.229412\n",
      "linear solver iter 564 resid 4.11892e-10 k-eff 1.229412\n",
      "linear solver iter 565 resid 4.00426e-10 k-eff 1.229412\n",
      "linear solver iter 566 resid 3.89279e-10 k-eff 1.229412\n",
      "linear solver iter 567 resid 3.78443e-10 k-eff 1.229412\n",
      "linear solver iter 568 resid 3.67910e-10 k-eff 1.229412\n",
      "linear solver iter 569 resid 3.57669e-10 k-eff 1.229412\n",
      "linear solver iter 570 resid 3.47714e-10 k-eff 1.229412\n",
      "linear solver iter 571 resid 3.38037e-10 k-eff 1.229412\n",
      "linear solver iter 572 resid 3.28630e-10 k-eff 1.229412\n",
      "linear solver iter 573 resid 3.19484e-10 k-eff 1.229412\n",
      "linear solver iter 574 resid 3.10594e-10 k-eff 1.229412\n",
      "linear solver iter 575 resid 3.01951e-10 k-eff 1.229412\n",
      "linear solver iter 576 resid 2.93549e-10 k-eff 1.229412\n",
      "linear solver iter 577 resid 2.85381e-10 k-eff 1.229412\n",
      "linear solver iter 578 resid 2.77441e-10 k-eff 1.229412\n",
      "linear solver iter 579 resid 2.69722e-10 k-eff 1.229412\n",
      "linear solver iter 580 resid 2.62218e-10 k-eff 1.229412\n",
      "linear solver iter 581 resid 2.54923e-10 k-eff 1.229412\n",
      "linear solver iter 582 resid 2.47831e-10 k-eff 1.229412\n",
      "linear solver iter 583 resid 2.40937e-10 k-eff 1.229412\n",
      "linear solver iter 584 resid 2.34235e-10 k-eff 1.229412\n",
      "linear solver iter 585 resid 2.27720e-10 k-eff 1.229412\n",
      "linear solver iter 586 resid 2.21386e-10 k-eff 1.229412\n",
      "linear solver iter 587 resid 2.15229e-10 k-eff 1.229412\n",
      "linear solver iter 588 resid 2.09243e-10 k-eff 1.229412\n",
      "linear solver iter 589 resid 2.03424e-10 k-eff 1.229412\n",
      "linear solver iter 590 resid 1.97767e-10 k-eff 1.229412\n",
      "linear solver iter 591 resid 1.92267e-10 k-eff 1.229412\n",
      "linear solver iter 592 resid 1.86921e-10 k-eff 1.229412\n",
      "linear solver iter 593 resid 1.81724e-10 k-eff 1.229412\n",
      "linear solver iter 594 resid 1.76671e-10 k-eff 1.229412\n",
      "linear solver iter 595 resid 1.71759e-10 k-eff 1.229412\n",
      "linear solver iter 596 resid 1.66984e-10 k-eff 1.229412\n",
      "linear solver iter 597 resid 1.62341e-10 k-eff 1.229412\n",
      "linear solver iter 598 resid 1.57828e-10 k-eff 1.229412\n",
      "linear solver iter 599 resid 1.53441e-10 k-eff 1.229412\n",
      "linear solver iter 600 resid 1.49176e-10 k-eff 1.229412\n",
      "linear solver iter 601 resid 1.45029e-10 k-eff 1.229412\n",
      "linear solver iter 602 resid 1.40998e-10 k-eff 1.229412\n",
      "linear solver iter 603 resid 1.37080e-10 k-eff 1.229412\n",
      "linear solver iter 604 resid 1.33270e-10 k-eff 1.229412\n",
      "linear solver iter 605 resid 1.29566e-10 k-eff 1.229412\n",
      "linear solver iter 606 resid 1.25966e-10 k-eff 1.229412\n",
      "linear solver iter 607 resid 1.22465e-10 k-eff 1.229412\n",
      "linear solver iter 608 resid 1.19062e-10 k-eff 1.229412\n",
      "linear solver iter 609 resid 1.15754e-10 k-eff 1.229412\n",
      "linear solver iter 610 resid 1.12538e-10 k-eff 1.229412\n",
      "linear solver iter 611 resid 1.09412e-10 k-eff 1.229412\n",
      "linear solver iter 612 resid 1.06372e-10 k-eff 1.229412\n",
      "linear solver iter 613 resid 1.03417e-10 k-eff 1.229412\n",
      "linear solver iter 614 resid 1.00544e-10 k-eff 1.229412\n",
      "linear solver iter 615 resid 9.77512e-11 k-eff 1.229412\n"
     ]
    }
   ],
   "source": [
    "# Remove old HDF5 (summary, statepoint) files\n",
    "!rm statepoint.*\n",
    "\n",
    "# Run OpenMC\n",
    "solver.compute_initial_flux()"
   ]
  },
  {
   "cell_type": "code",
   "execution_count": 14,
   "metadata": {
    "collapsed": false
   },
   "outputs": [
    {
     "name": "stdout",
     "output_type": "stream",
     "text": [
      "loss matrix source\n",
      "[  2.07727175e+03  -1.50990331e-13   3.04305859e+03   3.35731443e-13\n",
      "   2.24106827e+03  -1.97619698e-13   3.46276531e+03  -8.01136935e-13]\n",
      "prod matrix delayed source\n",
      "[  9.33564702   0.          13.74435615   0.          10.02128735   0.\n",
      "  15.61614315   0.        ]\n",
      "prod matrix prompt source\n",
      "[ 2067.93609951     0.          3029.3142381      0.          2231.04698443\n",
      "     0.          3447.14916846     0.        ]\n"
     ]
    }
   ],
   "source": [
    "state = solver.states['START']\n",
    "flux = state.flux\n",
    "\n",
    "loss_matrix = state.get_destruction_matrix()\n",
    "prod_matrix = state.get_production_matrix()\n",
    "\n",
    "loss = loss_matrix * flux\n",
    "prod = prod_matrix * flux / state.k_crit\n",
    "#print(loss)\n",
    "#print(prod)\n",
    "#print(np.sum(loss) - np.sum(prod))"
   ]
  },
  {
   "cell_type": "code",
   "execution_count": 15,
   "metadata": {
    "collapsed": false
   },
   "outputs": [
    {
     "name": "stdout",
     "output_type": "stream",
     "text": [
      "delayed source\n",
      "[ 12.36568641   0.          12.56401546   0.          12.33498988   0.\n",
      "  12.56712915   0.        ]\n",
      "time source\n",
      "[  4.39254684e+06   3.33236142e+08   6.43813610e+06   4.88641124e+08\n",
      "   4.74785726e+06   3.59831696e+08   7.28723931e+06   5.55305957e+08]\n"
     ]
    },
    {
     "data": {
      "text/plain": [
       "<matplotlib.colorbar.Colorbar at 0x110d04310>"
      ]
     },
     "execution_count": 15,
     "metadata": {},
     "output_type": "execute_result"
    },
    {
     "data": {
      "image/png": "[encoded data removed]",
      "text/plain": [
       "<matplotlib.figure.Figure at 0x110a23450>"
      ]
     },
     "metadata": {},
     "output_type": "display_data"
    }
   ],
   "source": [
    "flux = np.copy(solver.states['START'].flux)\n",
    "flux.shape = (mesh.dimension[0], mesh.dimension[1], mesh.dimension[2], energy_groups.num_groups)\n",
    "flux_plane = flux[:,:,0,:]\n",
    "\n",
    "source = solver.states['START'].get_source()\n",
    "source.shape = (mesh.dimension[0], mesh.dimension[1], mesh.dimension[2], energy_groups.num_groups)\n",
    "source_plane = flux[:,:,0,:]\n",
    "\n",
    "plt.imshow(source_plane[:,:,0],interpolation='none')\n",
    "#plt.imshow(flux_plane[:,:,0],interpolation='none')\n",
    "plt.colorbar()"
   ]
  },
  {
   "cell_type": "markdown",
   "metadata": {},
   "source": [
    "OpenMC has generated all the cross sections we need. Now let's go about importing and inspecting them. First we will look at the diffusion coefficients. There are several different methods to compute the diffusion coefficients. In all cases, we first tally the total and transport cross sections on a fine energy mesh. Then we collapse either $\\Sigma_T$, $\\Sigma_{Tr}$, or $\\frac{1}{3 \\Sigma_{Tr}}$:\n",
    "\n",
    "* **Flux-weighted total cross section**: Collapse $\\Sigma_T$ and take the diffusion coefficient as $\\frac{1}{3 \\Sigma_T}$.\n",
    "* **Flux-weighted transport cross section**: Collapse $\\Sigma_{Tr}$ and take the diffusion coefficient as $\\frac{1}{3 \\Sigma_{Tr}}$.\n",
    "* **Flux-weighted diffusion coefficient**: Collapse $\\frac{1}{3 \\Sigma_{Tr}}$. \n",
    "\n",
    "As we can see from the plot below, the approximation has a large impact on the diffusion coefficients. In future analysis, we will be using the **flux-weighted diffusion coefficient**."
   ]
  },
  {
   "cell_type": "code",
   "execution_count": 16,
   "metadata": {
    "collapsed": false
   },
   "outputs": [
    {
     "data": {
      "text/plain": [
       "(0, 4)"
      ]
     },
     "execution_count": 16,
     "metadata": {},
     "output_type": "execute_result"
    },
    {
     "data": {
      "image/png": "[encoded data removed]",
      "text/plain": [
       "<matplotlib.figure.Figure at 0x110df4510>"
      ]
     },
     "metadata": {},
     "output_type": "display_data"
    }
   ],
   "source": [
    "ng  = energy_groups.num_groups\n",
    "nfg = fine_groups.num_groups\n",
    "\n",
    "flux_wgt_trans  = 1.0 / (3.0 * solver.states['START'].mgxs_lib['transport'].get_xs().flatten())[range(ng)]\n",
    "dif_coef_fine   = solver.states['START'].mgxs_lib['diffusion-coefficient'].get_xs().flatten()[range(nfg)]\n",
    "dif_coef_coarse = solver.states['START'].mgxs_lib['diffusion-coefficient'].get_condensed_xs(energy_groups).get_xs().flatten()[range(ng)]\n",
    "\n",
    "flux_wgt_trans = np.append(flux_wgt_trans, flux_wgt_trans[0])\n",
    "dif_coef_fine = np.append(dif_coef_fine, dif_coef_fine[0])\n",
    "dif_coef_coarse = np.append(dif_coef_coarse, dif_coef_coarse[0])\n",
    "\n",
    "plt.figure()\n",
    "plt.semilogx(energy_groups.group_edges, flux_wgt_trans, drawstyle='steps', color='r', linestyle='-', linewidth=3)\n",
    "plt.semilogx(fine_groups.group_edges, dif_coef_fine, drawstyle='steps', color='b', linestyle='-', linewidth=3)\n",
    "plt.semilogx(energy_groups.group_edges, dif_coef_coarse, drawstyle='steps', color='g', linestyle='-', linewidth=3)\n",
    "\n",
    "plt.title('Coarse and Fine Diffusion Coefficients')\n",
    "plt.legend(['flux wgt trans', 'flux wgt dif fine', 'flux wgt dif coarse'])\n",
    "plt.xlabel('Energy (MeV)')\n",
    "plt.ylabel('Diffusion Coefficient')\n",
    "plt.ylim([0,4])"
   ]
  },
  {
   "cell_type": "markdown",
   "metadata": {},
   "source": [
    "Solving a transient problem requires that we form a balance equation with the streaming, prompt-fission, delayed-fission, absorption, and flux-time-derivative operators. The MGXS module tallies the cross sections based on their various filters, but the data format is not able to properly model the streaming operator so the data needs to be transformed from the filter-based arrangment to a matrix-based arrangement. To show what I mean, let's inspect the difusion coefficient data from the MGXS module and in our transformed matrix-form."
   ]
  },
  {
   "cell_type": "code",
   "execution_count": 17,
   "metadata": {
    "collapsed": false
   },
   "outputs": [
    {
     "name": "stdout",
     "output_type": "stream",
     "text": [
      "loss matrix source\n",
      "[  2.07727175e+03  -1.50990331e-13   3.04305859e+03   3.35731443e-13\n",
      "   2.24106827e+03  -1.97619698e-13   3.46276531e+03  -8.01136935e-13]\n",
      "prod matrix delayed source\n",
      "[  9.33564702   0.          13.74435615   0.          10.02128735   0.\n",
      "  15.61614315   0.        ]\n",
      "prod matrix prompt source\n",
      "[ 2067.93609951     0.          3029.3142381      0.          2231.04698443\n",
      "     0.          3447.14916846     0.        ]\n"
     ]
    },
    {
     "data": {
      "text/plain": [
       "<matplotlib.lines.Line2D at 0x1110e37d0>"
      ]
     },
     "execution_count": 17,
     "metadata": {},
     "output_type": "execute_result"
    },
    {
     "data": {
      "image/png": "[encoded data removed]",
      "text/plain": [
       "<matplotlib.figure.Figure at 0x10baf8490>"
      ]
     },
     "metadata": {},
     "output_type": "display_data"
    }
   ],
   "source": [
    "state = solver.states['START']\n",
    "\n",
    "loss_matrix = state.get_destruction_matrix()\n",
    "prod_matrix = state.get_production_matrix()\n",
    "\n",
    "fig = plt.figure()\n",
    "plt.subplot(1,2,1)\n",
    "plt.spy(loss_matrix, markersize=5)\n",
    "plt.subplot(1,2,2)\n",
    "plt.spy(prod_matrix, markersize=5)"
   ]
  },
  {
   "cell_type": "markdown",
   "metadata": {},
   "source": [
    "Now, we want to form the streaming operator. In order to do this, we need to compute the surface diffusion coefficient coefficients. Below is the plot of the surface diffusion coefficients for our 2x2 mesh with 2 energy groups:"
   ]
  },
  {
   "cell_type": "code",
   "execution_count": 18,
   "metadata": {
    "collapsed": false
   },
   "outputs": [
    {
     "name": "stdout",
     "output_type": "stream",
     "text": [
      "transient delayed production\n",
      "[  3.30237610e-10   0.00000000e+00   4.88575180e-10   0.00000000e+00\n",
      "   3.54605227e-10   0.00000000e+00   5.54868914e-10   0.00000000e+00]\n",
      "transient prompt production\n",
      "[ 2067.93609951     0.          3029.3142381      0.          2231.04698443\n",
      "     0.          3447.14916846     0.        ]\n",
      "transient time source\n",
      "[  4.39254684e+06   3.33236142e+08   6.43813610e+06   4.88641124e+08\n",
      "   4.74785726e+06   3.59831696e+08   7.28723931e+06   5.55305957e+08]\n",
      "transient dest source\n",
      "[  2.07727175e+03  -1.50990331e-13   3.04305859e+03   3.35731443e-13\n",
      "   2.24106827e+03  -1.97619698e-13   3.46276531e+03  -8.01136935e-13]\n",
      "delayed source\n",
      "[ 12.36568641   0.          12.56401546   0.          12.33498988   0.\n",
      "  12.56712915   0.        ]\n",
      "time source\n",
      "[  4.39254684e+06   3.33236142e+08   6.43813610e+06   4.88641124e+08\n",
      "   4.74785726e+06   3.59831696e+08   7.28723931e+06   5.55305957e+08]\n",
      "loss matrix source\n",
      "[  2.07727175e+03  -1.50990331e-13   3.04305859e+03   3.35731443e-13\n",
      "   2.24106827e+03  -1.97619698e-13   3.46276531e+03  -8.01136935e-13]\n",
      "prod matrix delayed source\n",
      "[  9.33564702   0.          13.74435615   0.          10.02128735   0.\n",
      "  15.61614315   0.        ]\n",
      "prod matrix prompt source\n",
      "[ 2067.93609951     0.          3029.3142381      0.          2231.04698443\n",
      "     0.          3447.14916846     0.        ]\n",
      "1.54157420494e-07\n",
      "[ 0.1910881   0.06655073  0.27936892  0.09723116  0.20518487  0.0717481\n",
      "  0.31683757  0.11056439]\n",
      "[ 0.19108797  0.06655073  0.27936897  0.09723116  0.20518477  0.0717481\n",
      "  0.3168377   0.11056439]\n",
      "[ 0.99999931  1.          1.00000018  1.          0.99999951  1.\n",
      "  1.00000042  1.        ]\n"
     ]
    },
    {
     "data": {
      "text/plain": [
       "<matplotlib.lines.Line2D at 0x110f12050>"
      ]
     },
     "execution_count": 18,
     "metadata": {},
     "output_type": "execute_result"
    },
    {
     "data": {
      "image/png": "[encoded data removed]",
      "text/plain": [
       "<matplotlib.figure.Figure at 0x110f41550>"
      ]
     },
     "metadata": {},
     "output_type": "display_data"
    }
   ],
   "source": [
    "state = solver.states['START']\n",
    "transient_matrix = state.get_transient_matrix()\n",
    "flux = state.flux\n",
    "source = state.get_source()\n",
    "loss_matrix = state.get_destruction_matrix()\n",
    "prod_matrix = state.get_production_matrix()\n",
    "\n",
    "#print('loss')\n",
    "#print(loss_matrix * flux)\n",
    "#print('prod')\n",
    "#print(prod_matrix * flux / state.k_crit)\n",
    "\n",
    "x = spsolve(transient_matrix, source)\n",
    "print(np.sqrt(np.sum((x - flux)**2 / 2)))\n",
    "print(x)\n",
    "print(flux)\n",
    "print(flux / x)\n",
    "\n",
    "\n",
    "fig = plt.figure()\n",
    "plt.spy(transient_matrix, markersize=5)"
   ]
  },
  {
   "cell_type": "markdown",
   "metadata": {},
   "source": [
    "In order to maintain balance between our diffusion and transport solves, we need to compute the surface diffusion coefficient correction terms. This is achieved by tallying the currents between coarse mesh cells and computing the correction terms such that the current between mesh cells is preserved."
   ]
  },
  {
   "cell_type": "code",
   "execution_count": 19,
   "metadata": {
    "collapsed": false
   },
   "outputs": [
    {
     "data": {
      "text/plain": [
       "<matplotlib.colorbar.Colorbar at 0x11134ad50>"
      ]
     },
     "execution_count": 19,
     "metadata": {},
     "output_type": "execute_result"
    },
    {
     "data": {
      "image/png": "[encoded data removed]",
      "text/plain": [
       "<matplotlib.figure.Figure at 0x110d99d90>"
      ]
     },
     "metadata": {},
     "output_type": "display_data"
    }
   ],
   "source": [
    "import scipy.sparse as sps\n",
    "\n",
    "# Get matrices for all the other important cross sections\n",
    "state = solver.states['START']\n",
    "matrices = {}\n",
    "matrices['surface-diffusion'], matrices['surface-diffusion-correction'] = state.compute_surface_dif_coefs()\n",
    "for key,mgxs in state.mgxs_lib.items():\n",
    "    if key != 'current':\n",
    "        matrices[key] = mgxs.get_mean_matrix()\n",
    "\n",
    "fig = plt.figure(figsize=(10,4))\n",
    "xs = 'surface-diffusion'\n",
    "matrix = np.abs(matrices[xs].todense())\n",
    "vmin = matrix.min()\n",
    "vmax = matrix.max()\n",
    "matrix[matrix == 0.] = np.nan\n",
    "plt.subplot(1,2,1)\n",
    "plt.imshow(matrix, interpolation='none', cmap='Blues', vmin=vmin, vmax=vmax)\n",
    "plt.title(xs)\n",
    "plt.colorbar()\n",
    "\n",
    "xs = 'surface-diffusion-correction'\n",
    "matrix = np.abs(matrices[xs].todense())\n",
    "matrix[matrix == 0.] = np.nan\n",
    "plt.subplot(1,2,2)\n",
    "plt.imshow(matrix, interpolation='none', cmap='Blues', vmin=vmin, vmax=vmax)\n",
    "plt.title(xs)\n",
    "plt.colorbar()"
   ]
  },
  {
   "cell_type": "markdown",
   "metadata": {},
   "source": [
    "## Extracting and Storing MGXS Data"
   ]
  },
  {
   "cell_type": "markdown",
   "metadata": {},
   "source": [
    "Let's first inspect our delayed-nu-fission section by printing it to the screen after condensing the cross section down to one group."
   ]
  },
  {
   "cell_type": "code",
   "execution_count": 20,
   "metadata": {
    "collapsed": false
   },
   "outputs": [
    {
     "data": {
      "text/plain": [
       "array([[ 1.24966998,  0.50343109],\n",
       "       [ 1.24888066,  0.50023026],\n",
       "       [ 1.24519602,  0.50224375],\n",
       "       [ 1.24848207,  0.50161934]])"
      ]
     },
     "execution_count": 20,
     "metadata": {},
     "output_type": "execute_result"
    }
   ],
   "source": [
    "solver.states['START'].mgxs_lib['diffusion-coefficient'].get_condensed_xs(energy_groups).get_xs()"
   ]
  },
  {
   "cell_type": "markdown",
   "metadata": {},
   "source": [
    "Since the `openmc.mgxs` module uses [tally arithmetic](https://mit-crpg.github.io/openmc/pythonapi/examples/tally-arithmetic.html) under-the-hood, the cross section is stored as a \"derived\" `Tally` object. This means that it can be queried and manipulated using all of the same methods supported for the `Tally` class in the OpenMC Python API. For example, we can construct a [Pandas](http://pandas.pydata.org/) `DataFrame` of the multi-group cross section data."
   ]
  },
  {
   "cell_type": "code",
   "execution_count": 21,
   "metadata": {
    "collapsed": false
   },
   "outputs": [
    {
     "data": {
      "text/html": [
       "<div>\n",
       "<table border=\"1\" class=\"dataframe\">\n",
       "  <thead>\n",
       "    <tr>\n",
       "      <th></th>\n",
       "      <th colspan=\"3\" halign=\"left\">mesh 1</th>\n",
       "      <th>group in</th>\n",
       "      <th>surface</th>\n",
       "      <th>nuclide</th>\n",
       "      <th>mean</th>\n",
       "      <th>std. dev.</th>\n",
       "    </tr>\n",
       "    <tr>\n",
       "      <th></th>\n",
       "      <th>x</th>\n",
       "      <th>y</th>\n",
       "      <th>z</th>\n",
       "      <th></th>\n",
       "      <th></th>\n",
       "      <th></th>\n",
       "      <th></th>\n",
       "      <th></th>\n",
       "    </tr>\n",
       "  </thead>\n",
       "  <tbody>\n",
       "    <tr>\n",
       "      <th>1</th>\n",
       "      <td>1</td>\n",
       "      <td>1</td>\n",
       "      <td>1</td>\n",
       "      <td>1</td>\n",
       "      <td>x-max out</td>\n",
       "      <td>total</td>\n",
       "      <td>0.010940</td>\n",
       "      <td>0.000204</td>\n",
       "    </tr>\n",
       "    <tr>\n",
       "      <th>3</th>\n",
       "      <td>1</td>\n",
       "      <td>1</td>\n",
       "      <td>1</td>\n",
       "      <td>1</td>\n",
       "      <td>y-max out</td>\n",
       "      <td>total</td>\n",
       "      <td>0.005820</td>\n",
       "      <td>0.000176</td>\n",
       "    </tr>\n",
       "    <tr>\n",
       "      <th>5</th>\n",
       "      <td>1</td>\n",
       "      <td>1</td>\n",
       "      <td>1</td>\n",
       "      <td>1</td>\n",
       "      <td>z-max out</td>\n",
       "      <td>total</td>\n",
       "      <td>0.000000</td>\n",
       "      <td>0.000000</td>\n",
       "    </tr>\n",
       "    <tr>\n",
       "      <th>7</th>\n",
       "      <td>1</td>\n",
       "      <td>1</td>\n",
       "      <td>1</td>\n",
       "      <td>1</td>\n",
       "      <td>x-max in</td>\n",
       "      <td>total</td>\n",
       "      <td>0.011156</td>\n",
       "      <td>0.000255</td>\n",
       "    </tr>\n",
       "    <tr>\n",
       "      <th>9</th>\n",
       "      <td>1</td>\n",
       "      <td>1</td>\n",
       "      <td>1</td>\n",
       "      <td>1</td>\n",
       "      <td>y-max in</td>\n",
       "      <td>total</td>\n",
       "      <td>0.005888</td>\n",
       "      <td>0.000195</td>\n",
       "    </tr>\n",
       "    <tr>\n",
       "      <th>11</th>\n",
       "      <td>1</td>\n",
       "      <td>1</td>\n",
       "      <td>1</td>\n",
       "      <td>1</td>\n",
       "      <td>z-max in</td>\n",
       "      <td>total</td>\n",
       "      <td>0.000000</td>\n",
       "      <td>0.000000</td>\n",
       "    </tr>\n",
       "    <tr>\n",
       "      <th>13</th>\n",
       "      <td>1</td>\n",
       "      <td>1</td>\n",
       "      <td>1</td>\n",
       "      <td>1</td>\n",
       "      <td>x-max out</td>\n",
       "      <td>total</td>\n",
       "      <td>0.030140</td>\n",
       "      <td>0.000349</td>\n",
       "    </tr>\n",
       "    <tr>\n",
       "      <th>15</th>\n",
       "      <td>1</td>\n",
       "      <td>1</td>\n",
       "      <td>1</td>\n",
       "      <td>1</td>\n",
       "      <td>y-max out</td>\n",
       "      <td>total</td>\n",
       "      <td>0.017492</td>\n",
       "      <td>0.000270</td>\n",
       "    </tr>\n",
       "    <tr>\n",
       "      <th>17</th>\n",
       "      <td>1</td>\n",
       "      <td>1</td>\n",
       "      <td>1</td>\n",
       "      <td>1</td>\n",
       "      <td>z-max out</td>\n",
       "      <td>total</td>\n",
       "      <td>0.000000</td>\n",
       "      <td>0.000000</td>\n",
       "    </tr>\n",
       "    <tr>\n",
       "      <th>19</th>\n",
       "      <td>1</td>\n",
       "      <td>1</td>\n",
       "      <td>1</td>\n",
       "      <td>1</td>\n",
       "      <td>x-max in</td>\n",
       "      <td>total</td>\n",
       "      <td>0.032564</td>\n",
       "      <td>0.000404</td>\n",
       "    </tr>\n",
       "    <tr>\n",
       "      <th>21</th>\n",
       "      <td>1</td>\n",
       "      <td>1</td>\n",
       "      <td>1</td>\n",
       "      <td>1</td>\n",
       "      <td>y-max in</td>\n",
       "      <td>total</td>\n",
       "      <td>0.017044</td>\n",
       "      <td>0.000307</td>\n",
       "    </tr>\n",
       "    <tr>\n",
       "      <th>23</th>\n",
       "      <td>1</td>\n",
       "      <td>1</td>\n",
       "      <td>1</td>\n",
       "      <td>1</td>\n",
       "      <td>z-max in</td>\n",
       "      <td>total</td>\n",
       "      <td>0.000000</td>\n",
       "      <td>0.000000</td>\n",
       "    </tr>\n",
       "  </tbody>\n",
       "</table>\n",
       "</div>"
      ],
      "text/plain": [
       "   mesh 1       group in    surface nuclide      mean std. dev.\n",
       "        x  y  z                                                \n",
       "1       1  1  1        1  x-max out   total  0.010940  0.000204\n",
       "3       1  1  1        1  y-max out   total  0.005820  0.000176\n",
       "5       1  1  1        1  z-max out   total  0.000000  0.000000\n",
       "7       1  1  1        1   x-max in   total  0.011156  0.000255\n",
       "9       1  1  1        1   y-max in   total  0.005888  0.000195\n",
       "11      1  1  1        1   z-max in   total  0.000000  0.000000\n",
       "13      1  1  1        1  x-max out   total  0.030140  0.000349\n",
       "15      1  1  1        1  y-max out   total  0.017492  0.000270\n",
       "17      1  1  1        1  z-max out   total  0.000000  0.000000\n",
       "19      1  1  1        1   x-max in   total  0.032564  0.000404\n",
       "21      1  1  1        1   y-max in   total  0.017044  0.000307\n",
       "23      1  1  1        1   z-max in   total  0.000000  0.000000"
      ]
     },
     "execution_count": 21,
     "metadata": {},
     "output_type": "execute_result"
    }
   ],
   "source": [
    "df = solver.states['START'].mgxs_lib['current'].get_pandas_dataframe()\n",
    "df.head(12)"
   ]
  },
  {
   "cell_type": "code",
   "execution_count": 22,
   "metadata": {
    "collapsed": false
   },
   "outputs": [
    {
     "data": {
      "text/plain": [
       "array([[[ 0.003832,  0.03014 ,  0.      ,  0.017492,  0.      ,  0.      ,\n",
       "          0.      ,  0.032564,  0.      ,  0.017044,  0.      ,  0.      ],\n",
       "        [ 0.000696,  0.01094 ,  0.      ,  0.00582 ,  0.      ,  0.      ,\n",
       "          0.      ,  0.011156,  0.      ,  0.005888,  0.      ,  0.      ]],\n",
       "\n",
       "       [[ 0.032564,  0.      ,  0.      ,  0.038956,  0.      ,  0.      ,\n",
       "          0.03014 ,  0.      ,  0.      ,  0.038904,  0.      ,  0.      ],\n",
       "        [ 0.011156,  0.      ,  0.      ,  0.013504,  0.      ,  0.      ,\n",
       "          0.01094 ,  0.      ,  0.      ,  0.013648,  0.      ,  0.      ]],\n",
       "\n",
       "       [[ 0.003556,  0.030868,  0.017044,  0.      ,  0.      ,  0.      ,\n",
       "          0.      ,  0.033592,  0.017492,  0.      ,  0.      ,  0.      ],\n",
       "        [ 0.000708,  0.011476,  0.005888,  0.      ,  0.      ,  0.      ,\n",
       "          0.      ,  0.01146 ,  0.00582 ,  0.      ,  0.      ,  0.      ]],\n",
       "\n",
       "       [[ 0.033592,  0.      ,  0.038904,  0.      ,  0.      ,  0.      ,\n",
       "          0.030868,  0.      ,  0.038956,  0.      ,  0.      ,  0.      ],\n",
       "        [ 0.01146 ,  0.      ,  0.013648,  0.      ,  0.      ,  0.      ,\n",
       "          0.011476,  0.      ,  0.013504,  0.      ,  0.      ,  0.      ]]])"
      ]
     },
     "execution_count": 22,
     "metadata": {},
     "output_type": "execute_result"
    }
   ],
   "source": [
    "solver.states['START'].mgxs_lib['current'].get_xs()"
   ]
  },
  {
   "cell_type": "markdown",
   "metadata": {},
   "source": [
    "Each multi-group cross section object can be easily exported to a variety of file formats, including CSV, Excel, and LaTeX for storage or data processing."
   ]
  },
  {
   "cell_type": "markdown",
   "metadata": {},
   "source": [
    "## Using Tally Arithmetic to Compute the Delayed Neutron Precursor Concentrations"
   ]
  },
  {
   "cell_type": "markdown",
   "metadata": {},
   "source": [
    "Finally, we illustrate how one can leverage OpenMC's [tally arithmetic](https://mit-crpg.github.io/openmc/pythonapi/examples/tally-arithmetic.html) data processing feature with `MGXS` objects. The `openmc.mgxs` module uses tally arithmetic to compute multi-group cross sections with automated uncertainty propagation. Each `MGXS` object includes an `xs_tally` attribute which is a \"derived\" `Tally` based on the tallies needed to compute the cross section type of interest. These derived tallies can be used in subsequent tally arithmetic operations. For example, we can use tally artithmetic to compute the delayed neutron precursor concentrations using the `Beta`, `DelayedNuFissionXS`, and `DecayRate` objects. The delayed neutron precursor concentrations are modeled using the following equations:\n",
    "\n",
    "$$\\frac{\\partial}{\\partial t} C_{k,d} (t) = \\int_{0}^{\\infty}\\mathrm{d}E'\\int_{\\mathbf{r} \\in V_{k}}\\mathrm{d}\\mathbf{r} \\nu_d \\sigma_{f,x}(\\mathbf{r},E',t)\\Phi(\\mathbf{r},E',t) - \\lambda_{d} C_{k,d} (t) $$\n",
    "\n",
    "$$C_{k,d} (t=0) = \\frac{1}{\\lambda_{d}} \\int_{0}^{\\infty}\\mathrm{d}E'\\int_{\\mathbf{r} \\in V_{k}}\\mathrm{d}\\mathbf{r} \\nu_d \\sigma_{f,x}(\\mathbf{r},E',t=0)\\Phi(\\mathbf{r},E',t=0) $$\n",
    "\n",
    "First, let's investigate the decay rates. The fraction of the delayed neutron precursors remaining as a function of time after fission for each delayed group have been plotted below."
   ]
  },
  {
   "cell_type": "code",
   "execution_count": 23,
   "metadata": {
    "collapsed": false
   },
   "outputs": [
    {
     "data": {
      "text/plain": [
       "<matplotlib.legend.Legend at 0x110d5a890>"
      ]
     },
     "execution_count": 23,
     "metadata": {},
     "output_type": "execute_result"
    },
    {
     "data": {
      "image/png": "[encoded data removed]",
      "text/plain": [
       "<matplotlib.figure.Figure at 0x110e4cbd0>"
      ]
     },
     "metadata": {},
     "output_type": "display_data"
    }
   ],
   "source": [
    "# Get the decay rate data\n",
    "dr_tally = solver.states['START'].mgxs_lib['decay-rate'].xs_tally\n",
    "dr = dr_tally.get_values().flatten()\n",
    "\n",
    "# Compute the exponential decay of the precursors\n",
    "time = np.logspace(-3,3)\n",
    "dr_points = np.exp(-np.outer(dr, time))\n",
    "\n",
    "# Create a plot of the fraction of the precursors remaining as a f(time)\n",
    "colors = ['b', 'g', 'r', 'c', 'm', 'k']\n",
    "for g,c in enumerate(colors):\n",
    "    plt.semilogx(time, dr_points[g,:], color=c, linestyle='-', linewidth=3)\n",
    "\n",
    "plt.title('Delayed Neutron Precursor Decay Rates')\n",
    "plt.xlabel('Time (s)')\n",
    "plt.ylabel('Fraction Remaining')\n",
    "plt.legend(['delayed-group 1', 'delayed-group 2', 'delayed-group 3', 'delayed-group 4',\n",
    "            'delayed-group 5', 'delayed-group 6'], loc=1, bbox_to_anchor=(1.5, 0.8))"
   ]
  },
  {
   "cell_type": "code",
   "execution_count": 24,
   "metadata": {
    "collapsed": false
   },
   "outputs": [
    {
     "data": {
      "text/plain": [
       "array([  1.31824535e-04,   4.74931458e-04,   9.27707232e-05,\n",
       "         4.65964205e-05,   5.17365072e-06,   9.02299405e-07,\n",
       "         1.42752369e-04,   5.43300434e-04,   8.61208916e-05,\n",
       "         4.14132925e-05,   5.60807253e-06,   1.03854239e-06,\n",
       "         1.32366684e-04,   4.75914681e-04,   9.10431991e-05,\n",
       "         4.64730593e-05,   5.13811773e-06,   9.06368357e-07,\n",
       "         1.43428467e-04,   5.43743254e-04,   8.58058599e-05,\n",
       "         4.15721641e-05,   5.60290913e-06,   1.03585867e-06])"
      ]
     },
     "execution_count": 24,
     "metadata": {},
     "output_type": "execute_result"
    }
   ],
   "source": [
    "# The difference is a derived tally which can generate Pandas DataFrames for inspection\n",
    "solver.states['START'].precursor_conc"
   ]
  },
  {
   "cell_type": "code",
   "execution_count": null,
   "metadata": {
    "collapsed": true
   },
   "outputs": [],
   "source": []
  }
 ],
 "metadata": {
  "kernelspec": {
   "display_name": "Python 2",
   "language": "python",
   "name": "python2"
  },
  "language_info": {
   "codemirror_mode": {
    "name": "ipython",
    "version": 2
   },
   "file_extension": ".py",
   "mimetype": "text/x-python",
   "name": "python",
   "nbconvert_exporter": "python",
   "pygments_lexer": "ipython2",
   "version": "2.7.12"
  }
 },
 "nbformat": 4,
 "nbformat_minor": 0
}
