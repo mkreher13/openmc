{
 "cells": [
  {
   "cell_type": "markdown",
   "metadata": {},
   "source": [
    "This IPython Notebook introduces the use of the `openmc.kinetics` module to perform a transient simulation on an infinite homogeneous medium. In particular, this Notebook introduces the the following features:\n",
    "\n",
    "* Initialization of the openmc.kinetics solver for an **infinite homogeneous medium**\n",
    "* Executing the initial calculation to compute the initial reactor state.\n",
    "* Extracting the cross sections at the initial state.\n",
    "* Computation of the initial delayed neutron precursor concentrations.\n",
    "* Normalization of the flux and precursor concentrations to an initial power level.\n",
    "* Computation of the point kinetics parameters.\n",
    "\n",
    "**Note:** This Notebook illustrates the use of [Pandas](http://pandas.pydata.org/) `DataFrames` to containerize multi-group cross section data. We recommend using [Pandas](http://pandas.pydata.org/) >v0.15.0 or later since OpenMC's Python API leverages the multi-indexing feature included in the most recent releases of [Pandas](http://pandas.pydata.org/)."
   ]
  },
  {
   "cell_type": "markdown",
   "metadata": {},
   "source": [
    "## Introduction to Kinetics (openmc.kinetics)"
   ]
  },
  {
   "cell_type": "markdown",
   "metadata": {},
   "source": [
    "Many Monte Carlo particle transport codes, including OpenMC, compute fixed source and eigenvalue solutions to the neutron flux in a reactor. However, many problems are time dependent and users have in interest in explicitly modeling the change of the reactor over time. Often the reactor is condensed down to a OD point, and the kinetic equations are propagated forward using the \"point kinetic equations\". In this notebook, we show how to set up a kinetics problem in OpenMC and compute the initial point kinetic parameters."
   ]
  },
  {
   "cell_type": "markdown",
   "metadata": {},
   "source": [
    "The `openmc.kinetics` Python module is designed to leverage OpenMC's tally system to calculate the necessary multi-group cross sections and parameters with arbitrary energy group structures and spatial meshes for low-order operator transient neutron transport applications.\n",
    "\n",
    "Before proceeding to illustrate how one may use the `openmc.kinetics` module, it is worthwhile to define the general equations used to calculate kinetics parameters. This is only intended as a brief overview of the methodology used by `openmc.kinetics` - we refer the interested reader to the large body of literature on the subject for a more comprehensive understanding of this complex topic."
   ]
  },
  {
   "cell_type": "markdown",
   "metadata": {},
   "source": [
    "### Introductory Notation\n",
    "The continuous real-valued microscopic cross section may be denoted $\\sigma_{n,x}(\\mathbf{r}, E)$ for position vector $\\mathbf{r}$, energy $E$, nuclide $n$ and interaction type $x$. Similarly, the scalar neutron flux may be denoted by $\\Phi(\\mathbf{r},E)$ for position $\\mathbf{r}$ and energy $E$. **Note**: Although nuclear cross sections are dependent on the temperature $T$ of the interacting medium, the temperature variable is neglected here for brevity."
   ]
  },
  {
   "cell_type": "markdown",
   "metadata": {},
   "source": [
    "### Spatial and Energy Discretization\n",
    "The energy domain for critical systems such as thermal reactors spans more than 10 orders of magnitude of neutron energies from 10$^{-5}$ - 10$^7$ eV. The multi-group approximation discretization divides this energy range into one or more energy groups. In particular, for $G$ total groups, we denote an energy group index $g$ such that $g \\in \\{1, 2, ..., G\\}$. The energy group indices are defined such that the smaller group the higher the energy, and vice versa. The integration over neutron energies across a discrete energy group is commonly referred to as **energy condensation**.\n",
    "\n",
    "The delayed neutrons created from fissions are created from > 30 delayed neutron precursors. Modeling each of the delayed neutron precursors is possible, but this approach has not recieved much attention due to large uncertainties in certain precursors. Therefore, the delayed neutrons are often combined into \"delayed groups\" that have a set time constant, $\\lambda_d$. Some cross section libraries use the same group time constants for all nuclides (e.g. JEFF 3.1) while other libraries use different time constants for all nuclides (e.g. ENDF/B-VII.1). Multi-delayed-group cross sections can either be created with the entire delayed group set, a subset of delayed groups, or integrated over all delayed groups.\n",
    "\n",
    "Multi-group cross sections are computed for discretized spatial zones in the geometry of interest. The spatial zones may be defined on a structured and regular fuel assembly or pin cell mesh, an arbitrary unstructured mesh or the constructive solid geometry used by OpenMC. For a geometry with $K$ distinct spatial zones, we designate each spatial zone an index $k$ such that $k \\in \\{1, 2, ..., K\\}$. The volume of each spatial zone is denoted by $V_{k}$. The integration over discrete spatial zones is commonly referred to as **spatial homogenization**."
   ]
  },
  {
   "cell_type": "markdown",
   "metadata": {},
   "source": [
    "### General Scalar-Flux Weighted MDGXS\n",
    "The multi-group cross sections computed by `openmc.mgxs` are defined as a *scalar flux-weighted average* of the microscopic cross sections across each discrete energy group. This formulation is employed in order to preserve the reaction rates within each energy group and spatial zone. In particular, spatial homogenization and energy condensation are used to compute the general multi-group cross section. For instance, the delayed-nu-fission multi-energy-group and multi-delayed-group cross section, $\\nu_d \\sigma_{f,x,k,g}$, can be computed as follows:\n",
    "\n",
    "$$\\nu_d \\sigma_{n,x,k,g} = \\frac{\\int_{E_{g}}^{E_{g-1}}\\mathrm{d}E'\\int_{\\mathbf{r} \\in V_{k}}\\mathrm{d}\\mathbf{r} \\nu_d \\sigma_{f,x}(\\mathbf{r},E')\\Phi(\\mathbf{r},E')}{\\int_{E_{g}}^{E_{g-1}}\\mathrm{d}E'\\int_{\\mathbf{r} \\in V_{k}}\\mathrm{d}\\mathbf{r}\\Phi(\\mathbf{r},E')}$$\n",
    "\n",
    "This scalar flux-weighted average microscopic cross section is computed by `openmc.mgxs` for only the delayed-nu-fission and delayed neutron fraction reaction type at the moment. These double integrals are stochastically computed with OpenMC's tally system - in particular, [filters](https://mit-crpg.github.io/openmc/pythonapi/filter.html) on the energy range and spatial zone (material, cell, universe, or mesh) define the bounds of integration for both numerator and denominator."
   ]
  },
  {
   "cell_type": "markdown",
   "metadata": {},
   "source": [
    "### Multi-Group Prompt and Delayed Fission Spectrum\n",
    "The energy spectrum of neutrons emitted from fission is denoted by $\\chi_{n}(\\mathbf{r},E' \\rightarrow E'')$ for incoming and outgoing energies $E'$ and $E''$, respectively. Unlike the multi-group cross sections $\\sigma_{n,x,k,g}$ considered up to this point, the fission spectrum is a probability distribution and must sum to unity. The outgoing energy is typically much less dependent on the incoming energy for fission than for scattering interactions. As a result, it is common practice to integrate over the incoming neutron energy when computing the multi-group fission spectrum. The fission spectrum may be simplified as $\\chi_{n}(\\mathbf{r},E)$ with outgoing energy $E$.\n",
    "\n",
    "Computing the cumulative energy spectrum of emitted neutrons, $\\chi_{n}(\\mathbf{r},E)$, has been presented in the `mgxs-part-i.ipynb` notebook. Here, we will present the energy spectrum of prompt and delayed emission neutrons, $\\chi_{n,p}(\\mathbf{r},E)$ and $\\chi_{n,d}(\\mathbf{r},E)$, respectively. Unlike the multi-group cross sections defined up to this point, the multi-group fission spectrum is weighted by the fission production rate rather than the scalar flux. This formulation is intended to preserve the total fission production rate in the multi-group deterministic calculation. In order to mathematically define the multi-group fission spectrum, we denote the microscopic fission cross section as $\\sigma_{n,f}(\\mathbf{r},E)$ and the average number of neutrons emitted from fission interactions with nuclide $n$ as $\\nu_{n,p}(\\mathbf{r},E)$ and $\\nu_{n,d}(\\mathbf{r},E)$ for prompt and delayed neutrons, respectively. The multi-group fission spectrum $\\chi_{n,k,g,d}$ is then the probability of fission neutrons emitted into energy group $g$ and delayed group $d$. There are not prompt groups, so inserting $p$ in place of $d$ just denotes all prompt neutrons. \n",
    "\n",
    "Similar to before, spatial homogenization and energy condensation are used to find the multi-energy-group and multi-delayed-group fission spectrum $\\chi_{n,k,g,d}$ as follows:\n",
    "\n",
    "$$\\chi_{n,k,g',d} = \\frac{\\int_{E_{g'}}^{E_{g'-1}}\\mathrm{d}E''\\int_{0}^{\\infty}\\mathrm{d}E'\\int_{\\mathbf{r} \\in V_{k}}\\mathrm{d}\\mathbf{r}\\chi_{n,d}(\\mathbf{r},E'\\rightarrow E'')\\nu_{n,d}(\\mathbf{r},E')\\sigma_{n,f}(\\mathbf{r},E')\\Phi(\\mathbf{r},E')}{\\int_{0}^{\\infty}\\mathrm{d}E'\\int_{\\mathbf{r} \\in V_{k}}\\mathrm{d}\\mathbf{r}\\nu_{n,d}(\\mathbf{r},E')\\sigma_{n,f}(\\mathbf{r},E')\\Phi(\\mathbf{r},E')}$$\n",
    "\n",
    "The fission production-weighted multi-energy-group and multi-delayed-group fission spectrum for delayed neutrons is computed using OpenMC tallies with energy in, energy out, and delayed group filters. Alternatively, the delayed group filter can be omitted to compute the fission spectrum integrated over all delayed groups.\n",
    "\n",
    "This concludes our brief overview on the methodology to compute multi-energy-group and multi-delayed-group cross sections. The following sections detail more concretely how users may employ the `openmc.mgxs` module to power simulation workflows requiring multi-group cross sections for downstream deterministic calculations."
   ]
  },
  {
   "cell_type": "markdown",
   "metadata": {},
   "source": [
    "## Generate Input Files"
   ]
  },
  {
   "cell_type": "code",
   "execution_count": 1,
   "metadata": {
    "collapsed": false
   },
   "outputs": [],
   "source": [
    "from IPython.display import Image\n",
    "%matplotlib inline\n",
    "import numpy as np\n",
    "import matplotlib.pyplot as plt\n",
    "import scipy.sparse as sps\n",
    "from scipy.sparse.linalg import spsolve\n",
    "\n",
    "import openmc\n",
    "import openmc.mgxs as mgxs\n",
    "import openmc.kinetics as kinetics"
   ]
  },
  {
   "cell_type": "markdown",
   "metadata": {},
   "source": [
    "First we need to define materials that will be used in the problem. Before defining a material, we must create nuclides that are used in the material."
   ]
  },
  {
   "cell_type": "code",
   "execution_count": 2,
   "metadata": {
    "collapsed": false
   },
   "outputs": [],
   "source": [
    "# Instantiate some Nuclides\n",
    "h1 = openmc.Nuclide('H1')\n",
    "o16 = openmc.Nuclide('O16')\n",
    "u235 = openmc.Nuclide('U235')\n",
    "u238 = openmc.Nuclide('U238')\n",
    "pu239 = openmc.Nuclide('Pu239')\n",
    "zr90 = openmc.Nuclide('Zr90')"
   ]
  },
  {
   "cell_type": "markdown",
   "metadata": {},
   "source": [
    "With the nuclides we defined, we will now create a material for the homogeneous medium."
   ]
  },
  {
   "cell_type": "code",
   "execution_count": 3,
   "metadata": {
    "collapsed": false
   },
   "outputs": [],
   "source": [
    "# Instantiate a Material and register the Nuclides\n",
    "inf_medium = openmc.Material(name='moderator')\n",
    "inf_medium.set_density('g/cc', 5.)\n",
    "inf_medium.add_nuclide(h1,  0.03)\n",
    "inf_medium.add_nuclide(o16, 0.015)\n",
    "inf_medium.add_nuclide(u235 , 0.0001)\n",
    "inf_medium.add_nuclide(u238 , 0.007)\n",
    "inf_medium.add_nuclide(pu239, 0.00003)\n",
    "inf_medium.add_nuclide(zr90, 0.002)"
   ]
  },
  {
   "cell_type": "markdown",
   "metadata": {},
   "source": [
    "With our material, we can now create a `Materials` object that can be exported to an actual XML file."
   ]
  },
  {
   "cell_type": "code",
   "execution_count": 4,
   "metadata": {
    "collapsed": false
   },
   "outputs": [],
   "source": [
    "# Instantiate a Materials collection and export to XML\n",
    "materials_file = openmc.Materials([inf_medium])\n",
    "materials_file.default_xs = '71c'"
   ]
  },
  {
   "cell_type": "markdown",
   "metadata": {},
   "source": [
    "Now let's move on to the geometry. This problem will be a simple square cell with reflective boundary conditions to simulate an infinite homogeneous medium. The first step is to create the outer bounding surfaces of the problem."
   ]
  },
  {
   "cell_type": "code",
   "execution_count": 5,
   "metadata": {
    "collapsed": false
   },
   "outputs": [],
   "source": [
    "# Instantiate boundary Planes\n",
    "min_x = openmc.XPlane(boundary_type='vacuum', x0=-50.0)\n",
    "max_x = openmc.XPlane(boundary_type='reflective', x0= 50.0)\n",
    "min_y = openmc.YPlane(boundary_type='reflective', y0=-50.0)\n",
    "max_y = openmc.YPlane(boundary_type='reflective', y0= 50.0)\n",
    "min_z = openmc.ZPlane(boundary_type='reflective', z0=-50.0)\n",
    "max_z = openmc.ZPlane(boundary_type='reflective', z0= 50.0)"
   ]
  },
  {
   "cell_type": "markdown",
   "metadata": {},
   "source": [
    "With the surfaces defined, we can now create a cell that is defined by intersections of half-spaces created by the surfaces."
   ]
  },
  {
   "cell_type": "code",
   "execution_count": 6,
   "metadata": {
    "collapsed": false
   },
   "outputs": [],
   "source": [
    "# Instantiate a Cell\n",
    "cell = openmc.Cell(cell_id=1, name='cell')\n",
    "\n",
    "# Register bounding Surfaces with the Cell\n",
    "cell.region = +min_x & -max_x & +min_y & -max_y & +min_z & -max_z\n",
    "\n",
    "# Fill the Cell with the Material\n",
    "cell.fill = inf_medium"
   ]
  },
  {
   "cell_type": "markdown",
   "metadata": {},
   "source": [
    "OpenMC requires that there is a \"root\" universe. Let us create a root universe and add our square cell to it."
   ]
  },
  {
   "cell_type": "code",
   "execution_count": 7,
   "metadata": {
    "collapsed": false
   },
   "outputs": [],
   "source": [
    "# Instantiate Universe\n",
    "root_universe = openmc.Universe(universe_id=0, name='root universe')\n",
    "root_universe.add_cell(cell)"
   ]
  },
  {
   "cell_type": "markdown",
   "metadata": {},
   "source": [
    "We now must create a geometry that is assigned a root universe and export it to XML."
   ]
  },
  {
   "cell_type": "code",
   "execution_count": 8,
   "metadata": {
    "collapsed": false
   },
   "outputs": [],
   "source": [
    "# Create Geometry and set root Universe\n",
    "openmc_geometry = openmc.Geometry()\n",
    "openmc_geometry.root_universe = root_universe"
   ]
  },
  {
   "cell_type": "markdown",
   "metadata": {},
   "source": [
    "Next, we must define simulation parameters. In this case, we will use 10 inactive batches and 40 active batches each with 2500 particles."
   ]
  },
  {
   "cell_type": "code",
   "execution_count": 9,
   "metadata": {
    "collapsed": false
   },
   "outputs": [],
   "source": [
    "# OpenMC simulation parameters\n",
    "batches = 50\n",
    "inactive = 25\n",
    "particles = 1000\n",
    "\n",
    "# Instantiate a Settings object\n",
    "settings_file = openmc.Settings()\n",
    "settings_file.batches = batches\n",
    "settings_file.inactive = inactive\n",
    "settings_file.particles = particles\n",
    "settings_file.output = {'tallies': True}\n",
    "\n",
    "# Create an initial uniform spatial source distribution over fissionable zones\n",
    "bounds = [-50.0, -50.0, -50.0, 50.0, 50.0, 50.0]\n",
    "uniform_dist = openmc.stats.Box(bounds[:3], bounds[3:], only_fissionable=True)\n",
    "settings_file.source = openmc.source.Source(space=uniform_dist)"
   ]
  },
  {
   "cell_type": "markdown",
   "metadata": {},
   "source": [
    "Now we are ready to generate multi-group cross sections! First, let's define a 100-energy-group structure and 1-energy-group structure using the built-in `EnergyGroups` class. We will also create a 6-delayed-group list."
   ]
  },
  {
   "cell_type": "code",
   "execution_count": 10,
   "metadata": {
    "collapsed": false
   },
   "outputs": [],
   "source": [
    "# Instantiate a 50-group EnergyGroups object\n",
    "fine_groups = mgxs.EnergyGroups()\n",
    "fine_groups.group_edges = np.logspace(-10,1.4,21)\n",
    "\n",
    "# Instantiate a 2-group EnergyGroups object\n",
    "energy_groups = mgxs.EnergyGroups()\n",
    "energy_groups.group_edges = [fine_groups.group_edges[0],  fine_groups.group_edges[10], fine_groups.group_edges[-1]]\n",
    "\n",
    "# Instantiate a 1-group EnergyGroups object\n",
    "one_group = mgxs.EnergyGroups()\n",
    "one_group.group_edges = [fine_groups.group_edges[0], fine_groups.group_edges[-1]]"
   ]
  },
  {
   "cell_type": "markdown",
   "metadata": {},
   "source": [
    "We can now use the `EnergyGroups` object and delayed group list, along with our previously created materials and geometry, to create some `MGXS` libraries for the transient solve using the `openmc.kinetics` module. In particular, the kinetics module will create libraries with the following `MGXS`:\n",
    "\n",
    "* `TotalXS`\n",
    "* `TransportXS`\n",
    "* `AbsorptionXS`\n",
    "* `KappaFissionXS`\n",
    "* `NuScatterMatrixXS`\n",
    "* `NuScatterXS`\n",
    "* `ChiPrompt`\n",
    "* `InverseVelocity`\n",
    "* `PromptNuFissionXS`\n",
    "* `DelayedNuFissionXS`\n",
    "* `NuFissionXS`\n",
    "* `ChiDelayed`\n",
    "* `Chi`\n",
    "* `Beta`\n",
    "\n",
    "These classes provide us with an interface to generate the tally inputs as well as perform post-processing of OpenMC's tally data to compute the respective multi-group cross sections. "
   ]
  },
  {
   "cell_type": "code",
   "execution_count": 11,
   "metadata": {
    "collapsed": false
   },
   "outputs": [],
   "source": [
    "# Instantiate a mesh object\n",
    "mesh = openmc.Mesh(mesh_id=1)\n",
    "mesh.type = 'regular'\n",
    "mesh.dimension = [2, 2, 1]\n",
    "mesh.lower_left = bounds[:3]\n",
    "mesh.width = [(bounds[3] - bounds[0])/mesh.dimension[0],\n",
    "              (bounds[4] - bounds[1])/mesh.dimension[1],\n",
    "              (bounds[5] - bounds[2])/mesh.dimension[2]]\n",
    "\n",
    "\n",
    "# Instantiate a kinetics solver object\n",
    "solver = openmc.kinetics.Solver()\n",
    "solver.num_delayed_groups = 6\n",
    "solver.mesh           = mesh\n",
    "solver.one_group      = one_group\n",
    "solver.energy_groups  = energy_groups\n",
    "solver.fine_groups    = fine_groups\n",
    "solver.geometry       = openmc_geometry\n",
    "solver.settings_file  = settings_file\n",
    "solver.materials_file = materials_file\n",
    "solver.initialize_mgxs()"
   ]
  },
  {
   "cell_type": "markdown",
   "metadata": {},
   "source": [
    "Each multi-group cross section object stores its tallies in a Python dictionary called `tallies`. We can inspect the tallies in the dictionary for our `Beta` object as follows. "
   ]
  },
  {
   "cell_type": "code",
   "execution_count": 12,
   "metadata": {
    "collapsed": false
   },
   "outputs": [
    {
     "data": {
      "text/plain": [
       "OrderedDict([('delayed-nu-fission-in', Tally\n",
       "              \tID             =\t10000\n",
       "              \tName           =\tSTART - chi-delayed\n",
       "              \tFilters        =\t\n",
       "                              \t\tmesh\t[1]\n",
       "                              \t\tenergy\t[  1.00000000e-10   2.51188643e+01]\n",
       "              \tNuclides       =\ttotal \n",
       "              \tScores         =\t['delayed-nu-fission']\n",
       "              \tEstimator      =\tanalog), ('delayed-nu-fission-out', Tally\n",
       "              \tID             =\t10001\n",
       "              \tName           =\tSTART - chi-delayed\n",
       "              \tFilters        =\t\n",
       "                              \t\tmesh\t[1]\n",
       "                              \t\tenergyout\t[  1.00000000e-10   5.01187234e-05   2.51188643e+01]\n",
       "              \tNuclides       =\ttotal \n",
       "              \tScores         =\t['delayed-nu-fission']\n",
       "              \tEstimator      =\tanalog)])"
      ]
     },
     "execution_count": 12,
     "metadata": {},
     "output_type": "execute_result"
    }
   ],
   "source": [
    "solver.mgxs_lib['START']['chi-delayed'].tallies"
   ]
  },
  {
   "cell_type": "markdown",
   "metadata": {},
   "source": [
    "The `Beta` object includes tracklength tallies for the 'nu-fission' and 'delayed-nu-fission' scores in the 100-energy-group and 6-delayed-group structure in cell 1. Now that each `MGXS` and `MDGXS` object contains the tallies that it needs, we must add these tallies to a `Tallies` object to generate the \"tallies.xml\" input file for OpenMC."
   ]
  },
  {
   "cell_type": "markdown",
   "metadata": {},
   "source": [
    "Now we a have a complete set of inputs, so we can go ahead and run our simulation."
   ]
  },
  {
   "cell_type": "code",
   "execution_count": 13,
   "metadata": {
    "collapsed": false
   },
   "outputs": [
    {
     "name": "stdout",
     "output_type": "stream",
     "text": [
      "\n",
      "                               %%%%%%%%%%%%%%%\n",
      "                          %%%%%%%%%%%%%%%%%%%%%%%%\n",
      "                       %%%%%%%%%%%%%%%%%%%%%%%%%%%%%%\n",
      "                     %%%%%%%%%%%%%%%%%%%%%%%%%%%%%%%%%%\n",
      "                   %%%%%%%%%%%%%%%%%%%%%%%%%%%%%%%%%%%%%%\n",
      "                  %%%%%%%%%%%%%%%%%%%%%%%%%%%%%%%%%%%%%%%%\n",
      "                                   %%%%%%%%%%%%%%%%%%%%%%%%\n",
      "                                    %%%%%%%%%%%%%%%%%%%%%%%%\n",
      "                ###############      %%%%%%%%%%%%%%%%%%%%%%%%\n",
      "               ##################     %%%%%%%%%%%%%%%%%%%%%%%\n",
      "               ###################     %%%%%%%%%%%%%%%%%%%%%%%\n",
      "               ####################     %%%%%%%%%%%%%%%%%%%%%%\n",
      "               #####################     %%%%%%%%%%%%%%%%%%%%%\n",
      "               ######################     %%%%%%%%%%%%%%%%%%%%\n",
      "               #######################     %%%%%%%%%%%%%%%%%%\n",
      "                #######################     %%%%%%%%%%%%%%%%%\n",
      "                ######################     %%%%%%%%%%%%%%%%%\n",
      "                 ####################     %%%%%%%%%%%%%%%%%\n",
      "                   #################     %%%%%%%%%%%%%%%%%\n",
      "                    ###############     %%%%%%%%%%%%%%%%\n",
      "                      ############     %%%%%%%%%%%%%%%\n",
      "                         ########     %%%%%%%%%%%%%%\n",
      "                                     %%%%%%%%%%%\n",
      "\n",
      "                   | The OpenMC Monte Carlo Code\n",
      "         Copyright | 2011-2016 Massachusetts Institute of Technology\n",
      "           License | http://openmc.readthedocs.io/en/latest/license.html\n",
      "           Version | 0.8.0\n",
      "          Git SHA1 | 1daf6ae32dd70907d1c6d6ba83ec7bdaa0c7ccf7\n",
      "         Date/Time | 2016-08-28 14:33:35\n",
      "     MPI Processes | 8\n",
      "\n",
      " ===========================================================================\n",
      " ========================>     INITIALIZATION     <=========================\n",
      " ===========================================================================\n",
      "\n",
      " Reading settings XML file...\n",
      " Reading geometry XML file...\n",
      " Reading cross sections XML file...\n",
      " Reading materials XML file...\n",
      " Reading H1.71c from /Users/sam/git/openmc-sam/data/nndc_hdf5/H1_71c.h5\n",
      " Reading O16.71c from /Users/sam/git/openmc-sam/data/nndc_hdf5/O16_71c.h5\n",
      " Reading U235.71c from /Users/sam/git/openmc-sam/data/nndc_hdf5/U235_71c.h5\n",
      " Reading U238.71c from /Users/sam/git/openmc-sam/data/nndc_hdf5/U238_71c.h5\n",
      " Reading Pu239.71c from /Users/sam/git/openmc-sam/data/nndc_hdf5/Pu239_71c.h5\n",
      " Reading Zr90.71c from /Users/sam/git/openmc-sam/data/nndc_hdf5/Zr90_71c.h5\n",
      " Maximum neutron transport energy: 20.0000 MeV for H1.71c\n",
      " Reading tallies XML file...\n",
      " Building neighboring cells lists for each surface...\n",
      " Initializing source particles...\n",
      "\n",
      " ===========================================================================\n",
      " ====================>     K EIGENVALUE SIMULATION     <====================\n",
      " ===========================================================================\n",
      "\n",
      "  Bat./Gen.      k            Average k         \n",
      "  =========   ========   ====================   \n",
      "        1/1    1.24897                       \n",
      "        2/1    1.18781                       \n",
      "        3/1    1.20924                       \n",
      "        4/1    1.23186                       \n",
      "        5/1    1.24911                       \n",
      "        6/1    1.24300                       \n",
      "        7/1    1.24104                       \n",
      "        8/1    1.24674                       \n",
      "        9/1    1.21040                       \n",
      "       10/1    1.24365                       \n",
      "       11/1    1.22102                       \n",
      "       12/1    1.23278                       \n",
      "       13/1    1.21221                       \n",
      "       14/1    1.18556                       \n",
      "       15/1    1.25747                       \n",
      "       16/1    1.19613                       \n",
      "       17/1    1.13938                       \n",
      "       18/1    1.16184                       \n",
      "       19/1    1.27326                       \n",
      "       20/1    1.11412                       \n",
      "       21/1    1.26079                       \n",
      "       22/1    1.19801                       \n",
      "       23/1    1.19429                       \n",
      "       24/1    1.23281                       \n",
      "       25/1    1.24870                       \n",
      "       26/1    1.23715                       \n",
      "       27/1    1.25687    1.24701 +/- 0.00986\n",
      "       28/1    1.11387    1.20263 +/- 0.04475\n",
      "       29/1    1.22736    1.20881 +/- 0.03224\n",
      "       30/1    1.33441    1.23393 +/- 0.03542\n",
      "       31/1    1.32306    1.24879 +/- 0.03251\n",
      "       32/1    1.12145    1.23060 +/- 0.03295\n",
      "       33/1    1.30896    1.24039 +/- 0.03017\n",
      "       34/1    1.25536    1.24205 +/- 0.02666\n",
      "       35/1    1.23437    1.24129 +/- 0.02386\n",
      "       36/1    1.25156    1.24222 +/- 0.02160\n",
      "       37/1    1.20060    1.23875 +/- 0.02002\n",
      "       38/1    1.10389    1.22838 +/- 0.02114\n",
      "       39/1    1.19499    1.22599 +/- 0.01972\n",
      "       40/1    1.33614    1.23334 +/- 0.01977\n",
      "       41/1    1.18257    1.23016 +/- 0.01876\n",
      "       42/1    1.20312    1.22857 +/- 0.01770\n",
      "       43/1    1.23138    1.22873 +/- 0.01668\n",
      "       44/1    1.21081    1.22779 +/- 0.01581\n",
      "       45/1    1.23959    1.22838 +/- 0.01501\n",
      "       46/1    1.27598    1.23064 +/- 0.01446\n",
      "       47/1    1.23362    1.23078 +/- 0.01378\n",
      "       48/1    1.19222    1.22910 +/- 0.01328\n",
      "       49/1    1.15609    1.22606 +/- 0.01307\n",
      "       50/1    1.21701    1.22570 +/- 0.01254\n",
      " Creating state point statepoint.50.h5...\n",
      "\n",
      " ===========================================================================\n",
      " ======================>     SIMULATION FINISHED     <======================\n",
      " ===========================================================================\n",
      "\n",
      "\n",
      " =======================>     TIMING STATISTICS     <=======================\n",
      "\n",
      " Total time for initialization     =  1.3630E+00 seconds\n",
      "   Reading cross sections          =  8.3800E-01 seconds\n",
      " Total time in simulation          =  5.3740E+00 seconds\n",
      "   Time in transport only          =  4.7270E+00 seconds\n",
      "   Time in inactive batches        =  1.0240E+00 seconds\n",
      "   Time in active batches          =  4.3500E+00 seconds\n",
      "   Time synchronizing fission bank =  5.4200E-01 seconds\n",
      "     Sampling source sites         =  1.8000E-02 seconds\n",
      "     SEND/RECV source sites        =  3.0000E-03 seconds\n",
      "   Time accumulating tallies       =  1.9000E-02 seconds\n",
      " Total time for finalization       =  6.6000E-02 seconds\n",
      " Total time elapsed                =  6.8070E+00 seconds\n",
      " Calculation Rate (inactive)       =  24414.1 neutrons/second\n",
      " Calculation Rate (active)         =  5747.13 neutrons/second\n",
      "\n",
      " ============================>     RESULTS     <============================\n",
      "\n",
      " k-effective (Collision)     =  1.22594 +/-  0.01256\n",
      " k-effective (Track-length)  =  1.22570 +/-  0.01254\n",
      " k-effective (Absorption)    =  1.22090 +/-  0.00732\n",
      " Combined k-effective        =  1.22166 +/-  0.00742\n",
      " Leakage Fraction            =  0.00684 +/-  0.00068\n",
      "\n"
     ]
    }
   ],
   "source": [
    "# Remove old HDF5 (summary, statepoint) files\n",
    "!rm statepoint.*\n",
    "\n",
    "# Run OpenMC\n",
    "solver.run_openmc('START')"
   ]
  },
  {
   "cell_type": "code",
   "execution_count": 14,
   "metadata": {
    "collapsed": false
   },
   "outputs": [
    {
     "name": "stdout",
     "output_type": "stream",
     "text": [
      "linear solver iter 0 resid 9.04786e-03 k-eff 1.235155\n",
      "linear solver iter 1 resid 8.65612e-03 k-eff 1.235122\n",
      "linear solver iter 2 resid 8.28799e-03 k-eff 1.235090\n",
      "linear solver iter 3 resid 7.94145e-03 k-eff 1.235059\n",
      "linear solver iter 4 resid 7.61471e-03 k-eff 1.235028\n",
      "linear solver iter 5 resid 7.30619e-03 k-eff 1.234999\n",
      "linear solver iter 6 resid 7.01446e-03 k-eff 1.234970\n",
      "linear solver iter 7 resid 6.73824e-03 k-eff 1.234942\n",
      "linear solver iter 8 resid 6.47637e-03 k-eff 1.234914\n",
      "linear solver iter 9 resid 6.22783e-03 k-eff 1.234888\n",
      "linear solver iter 10 resid 5.99167e-03 k-eff 1.234862\n",
      "linear solver iter 11 resid 5.76703e-03 k-eff 1.234837\n",
      "linear solver iter 12 resid 5.55314e-03 k-eff 1.234812\n",
      "linear solver iter 13 resid 5.34931e-03 k-eff 1.234788\n",
      "linear solver iter 14 resid 5.15487e-03 k-eff 1.234765\n",
      "linear solver iter 15 resid 4.96925e-03 k-eff 1.234743\n",
      "linear solver iter 16 resid 4.79190e-03 k-eff 1.234721\n",
      "linear solver iter 17 resid 4.62233e-03 k-eff 1.234699\n",
      "linear solver iter 18 resid 4.46008e-03 k-eff 1.234679\n",
      "linear solver iter 19 resid 4.30473e-03 k-eff 1.234659\n",
      "linear solver iter 20 resid 4.15589e-03 k-eff 1.234639\n",
      "linear solver iter 21 resid 4.01320e-03 k-eff 1.234620\n",
      "linear solver iter 22 resid 3.87633e-03 k-eff 1.234601\n",
      "linear solver iter 23 resid 3.74497e-03 k-eff 1.234583\n",
      "linear solver iter 24 resid 3.61884e-03 k-eff 1.234566\n",
      "linear solver iter 25 resid 3.49766e-03 k-eff 1.234548\n",
      "linear solver iter 26 resid 3.38119e-03 k-eff 1.234532\n",
      "linear solver iter 27 resid 3.26919e-03 k-eff 1.234516\n",
      "linear solver iter 28 resid 3.16146e-03 k-eff 1.234500\n",
      "linear solver iter 29 resid 3.05777e-03 k-eff 1.234485\n",
      "linear solver iter 30 resid 2.95795e-03 k-eff 1.234470\n",
      "linear solver iter 31 resid 2.86182e-03 k-eff 1.234455\n",
      "linear solver iter 32 resid 2.76921e-03 k-eff 1.234441\n",
      "linear solver iter 33 resid 2.67995e-03 k-eff 1.234427\n",
      "linear solver iter 34 resid 2.59391e-03 k-eff 1.234414\n",
      "linear solver iter 35 resid 2.51094e-03 k-eff 1.234401\n",
      "linear solver iter 36 resid 2.43091e-03 k-eff 1.234388\n",
      "linear solver iter 37 resid 2.35369e-03 k-eff 1.234376\n",
      "linear solver iter 38 resid 2.27918e-03 k-eff 1.234364\n",
      "linear solver iter 39 resid 2.20724e-03 k-eff 1.234352\n",
      "linear solver iter 40 resid 2.13779e-03 k-eff 1.234341\n",
      "linear solver iter 41 resid 2.07072e-03 k-eff 1.234330\n",
      "linear solver iter 42 resid 2.00593e-03 k-eff 1.234319\n",
      "linear solver iter 43 resid 1.94334e-03 k-eff 1.234309\n",
      "linear solver iter 44 resid 1.88285e-03 k-eff 1.234299\n",
      "linear solver iter 45 resid 1.82439e-03 k-eff 1.234289\n",
      "linear solver iter 46 resid 1.76788e-03 k-eff 1.234280\n",
      "linear solver iter 47 resid 1.71325e-03 k-eff 1.234270\n",
      "linear solver iter 48 resid 1.66042e-03 k-eff 1.234261\n",
      "linear solver iter 49 resid 1.60933e-03 k-eff 1.234252\n",
      "linear solver iter 50 resid 1.55991e-03 k-eff 1.234244\n",
      "linear solver iter 51 resid 1.51210e-03 k-eff 1.234235\n",
      "linear solver iter 52 resid 1.46585e-03 k-eff 1.234227\n",
      "linear solver iter 53 resid 1.42109e-03 k-eff 1.234219\n",
      "linear solver iter 54 resid 1.37778e-03 k-eff 1.234212\n",
      "linear solver iter 55 resid 1.33586e-03 k-eff 1.234204\n",
      "linear solver iter 56 resid 1.29528e-03 k-eff 1.234197\n",
      "linear solver iter 57 resid 1.25599e-03 k-eff 1.234190\n",
      "linear solver iter 58 resid 1.21796e-03 k-eff 1.234183\n",
      "linear solver iter 59 resid 1.18113e-03 k-eff 1.234176\n",
      "linear solver iter 60 resid 1.14547e-03 k-eff 1.234170\n",
      "linear solver iter 61 resid 1.11094e-03 k-eff 1.234164\n",
      "linear solver iter 62 resid 1.07749e-03 k-eff 1.234157\n",
      "linear solver iter 63 resid 1.04509e-03 k-eff 1.234151\n",
      "linear solver iter 64 resid 1.01370e-03 k-eff 1.234146\n",
      "linear solver iter 65 resid 9.83296e-04 k-eff 1.234140\n",
      "linear solver iter 66 resid 9.53839e-04 k-eff 1.234134\n",
      "linear solver iter 67 resid 9.25297e-04 k-eff 1.234129\n",
      "linear solver iter 68 resid 8.97641e-04 k-eff 1.234124\n",
      "linear solver iter 69 resid 8.70842e-04 k-eff 1.234119\n",
      "linear solver iter 70 resid 8.44870e-04 k-eff 1.234114\n",
      "linear solver iter 71 resid 8.19700e-04 k-eff 1.234109\n",
      "linear solver iter 72 resid 7.95304e-04 k-eff 1.234104\n",
      "linear solver iter 73 resid 7.71658e-04 k-eff 1.234100\n",
      "linear solver iter 74 resid 7.48737e-04 k-eff 1.234095\n",
      "linear solver iter 75 resid 7.26519e-04 k-eff 1.234091\n",
      "linear solver iter 76 resid 7.04979e-04 k-eff 1.234087\n",
      "linear solver iter 77 resid 6.84097e-04 k-eff 1.234083\n",
      "linear solver iter 78 resid 6.63852e-04 k-eff 1.234079\n",
      "linear solver iter 79 resid 6.44222e-04 k-eff 1.234075\n",
      "linear solver iter 80 resid 6.25189e-04 k-eff 1.234071\n",
      "linear solver iter 81 resid 6.06734e-04 k-eff 1.234068\n",
      "linear solver iter 82 resid 5.88838e-04 k-eff 1.234064\n",
      "linear solver iter 83 resid 5.71483e-04 k-eff 1.234061\n",
      "linear solver iter 84 resid 5.54653e-04 k-eff 1.234057\n",
      "linear solver iter 85 resid 5.38331e-04 k-eff 1.234054\n",
      "linear solver iter 86 resid 5.22501e-04 k-eff 1.234051\n",
      "linear solver iter 87 resid 5.07148e-04 k-eff 1.234048\n",
      "linear solver iter 88 resid 4.92257e-04 k-eff 1.234045\n",
      "linear solver iter 89 resid 4.77813e-04 k-eff 1.234042\n",
      "linear solver iter 90 resid 4.63803e-04 k-eff 1.234039\n",
      "linear solver iter 91 resid 4.50212e-04 k-eff 1.234036\n",
      "linear solver iter 92 resid 4.37029e-04 k-eff 1.234034\n",
      "linear solver iter 93 resid 4.24240e-04 k-eff 1.234031\n",
      "linear solver iter 94 resid 4.11834e-04 k-eff 1.234028\n",
      "linear solver iter 95 resid 3.99798e-04 k-eff 1.234026\n",
      "linear solver iter 96 resid 3.88121e-04 k-eff 1.234023\n",
      "linear solver iter 97 resid 3.76792e-04 k-eff 1.234021\n",
      "linear solver iter 98 resid 3.65801e-04 k-eff 1.234019\n",
      "linear solver iter 99 resid 3.55136e-04 k-eff 1.234017\n",
      "linear solver iter 100 resid 3.44789e-04 k-eff 1.234014\n",
      "linear solver iter 101 resid 3.34749e-04 k-eff 1.234012\n",
      "linear solver iter 102 resid 3.25007e-04 k-eff 1.234010\n",
      "linear solver iter 103 resid 3.15553e-04 k-eff 1.234008\n",
      "linear solver iter 104 resid 3.06380e-04 k-eff 1.234006\n",
      "linear solver iter 105 resid 2.97479e-04 k-eff 1.234004\n",
      "linear solver iter 106 resid 2.88841e-04 k-eff 1.234003\n",
      "linear solver iter 107 resid 2.80458e-04 k-eff 1.234001\n",
      "linear solver iter 108 resid 2.72323e-04 k-eff 1.233999\n",
      "linear solver iter 109 resid 2.64428e-04 k-eff 1.233997\n",
      "linear solver iter 110 resid 2.56767e-04 k-eff 1.233996\n",
      "linear solver iter 111 resid 2.49330e-04 k-eff 1.233994\n",
      "linear solver iter 112 resid 2.42114e-04 k-eff 1.233993\n",
      "linear solver iter 113 resid 2.35109e-04 k-eff 1.233991\n",
      "linear solver iter 114 resid 2.28311e-04 k-eff 1.233990\n",
      "linear solver iter 115 resid 2.21712e-04 k-eff 1.233988\n",
      "linear solver iter 116 resid 2.15308e-04 k-eff 1.233987\n",
      "linear solver iter 117 resid 2.09091e-04 k-eff 1.233986\n",
      "linear solver iter 118 resid 2.03057e-04 k-eff 1.233984\n",
      "linear solver iter 119 resid 1.97200e-04 k-eff 1.233983\n",
      "linear solver iter 120 resid 1.91515e-04 k-eff 1.233982\n",
      "linear solver iter 121 resid 1.85996e-04 k-eff 1.233980\n",
      "linear solver iter 122 resid 1.80639e-04 k-eff 1.233979\n",
      "linear solver iter 123 resid 1.75438e-04 k-eff 1.233978\n",
      "linear solver iter 124 resid 1.70390e-04 k-eff 1.233977\n",
      "linear solver iter 125 resid 1.65489e-04 k-eff 1.233976\n",
      "linear solver iter 126 resid 1.60732e-04 k-eff 1.233975\n",
      "linear solver iter 127 resid 1.56113e-04 k-eff 1.233974\n",
      "linear solver iter 128 resid 1.51629e-04 k-eff 1.233973\n",
      "linear solver iter 129 resid 1.47276e-04 k-eff 1.233972\n",
      "linear solver iter 130 resid 1.43050e-04 k-eff 1.233971\n",
      "linear solver iter 131 resid 1.38947e-04 k-eff 1.233970\n",
      "linear solver iter 132 resid 1.34963e-04 k-eff 1.233969\n",
      "linear solver iter 133 resid 1.31095e-04 k-eff 1.233968\n",
      "linear solver iter 134 resid 1.27340e-04 k-eff 1.233967\n",
      "linear solver iter 135 resid 1.23694e-04 k-eff 1.233967\n",
      "linear solver iter 136 resid 1.20154e-04 k-eff 1.233966\n",
      "linear solver iter 137 resid 1.16717e-04 k-eff 1.233965\n",
      "linear solver iter 138 resid 1.13380e-04 k-eff 1.233964\n",
      "linear solver iter 139 resid 1.10139e-04 k-eff 1.233963\n",
      "linear solver iter 140 resid 1.06993e-04 k-eff 1.233963\n",
      "linear solver iter 141 resid 1.03938e-04 k-eff 1.233962\n",
      "linear solver iter 142 resid 1.00971e-04 k-eff 1.233961\n",
      "linear solver iter 143 resid 9.80902e-05 k-eff 1.233961\n",
      "linear solver iter 144 resid 9.52928e-05 k-eff 1.233960\n",
      "linear solver iter 145 resid 9.25764e-05 k-eff 1.233959\n",
      "linear solver iter 146 resid 8.99386e-05 k-eff 1.233959\n",
      "linear solver iter 147 resid 8.73770e-05 k-eff 1.233958\n",
      "linear solver iter 148 resid 8.48894e-05 k-eff 1.233958\n",
      "linear solver iter 149 resid 8.24737e-05 k-eff 1.233957\n",
      "linear solver iter 150 resid 8.01278e-05 k-eff 1.233956\n",
      "linear solver iter 151 resid 7.78496e-05 k-eff 1.233956\n",
      "linear solver iter 152 resid 7.56370e-05 k-eff 1.233955\n",
      "linear solver iter 153 resid 7.34883e-05 k-eff 1.233955\n",
      "linear solver iter 154 resid 7.14015e-05 k-eff 1.233954\n",
      "linear solver iter 155 resid 6.93749e-05 k-eff 1.233954\n",
      "linear solver iter 156 resid 6.74066e-05 k-eff 1.233953\n",
      "linear solver iter 157 resid 6.54949e-05 k-eff 1.233953\n",
      "linear solver iter 158 resid 6.36383e-05 k-eff 1.233953\n",
      "linear solver iter 159 resid 6.18350e-05 k-eff 1.233952\n",
      "linear solver iter 160 resid 6.00836e-05 k-eff 1.233952\n",
      "linear solver iter 161 resid 5.83826e-05 k-eff 1.233951\n",
      "linear solver iter 162 resid 5.67303e-05 k-eff 1.233951\n",
      "linear solver iter 163 resid 5.51256e-05 k-eff 1.233951\n",
      "linear solver iter 164 resid 5.35668e-05 k-eff 1.233950\n",
      "linear solver iter 165 resid 5.20528e-05 k-eff 1.233950\n",
      "linear solver iter 166 resid 5.05822e-05 k-eff 1.233949\n",
      "linear solver iter 167 resid 4.91538e-05 k-eff 1.233949\n",
      "linear solver iter 168 resid 4.77663e-05 k-eff 1.233949\n",
      "linear solver iter 169 resid 4.64185e-05 k-eff 1.233948\n",
      "linear solver iter 170 resid 4.51093e-05 k-eff 1.233948\n",
      "linear solver iter 171 resid 4.38376e-05 k-eff 1.233948\n",
      "linear solver iter 172 resid 4.26022e-05 k-eff 1.233947\n",
      "linear solver iter 173 resid 4.14022e-05 k-eff 1.233947\n",
      "linear solver iter 174 resid 4.02364e-05 k-eff 1.233947\n",
      "linear solver iter 175 resid 3.91040e-05 k-eff 1.233947\n",
      "linear solver iter 176 resid 3.80039e-05 k-eff 1.233946\n",
      "linear solver iter 177 resid 3.69352e-05 k-eff 1.233946\n",
      "linear solver iter 178 resid 3.58969e-05 k-eff 1.233946\n",
      "linear solver iter 179 resid 3.48883e-05 k-eff 1.233946\n",
      "linear solver iter 180 resid 3.39085e-05 k-eff 1.233945\n",
      "linear solver iter 181 resid 3.29566e-05 k-eff 1.233945\n",
      "linear solver iter 182 resid 3.20317e-05 k-eff 1.233945\n",
      "linear solver iter 183 resid 3.11333e-05 k-eff 1.233945\n",
      "linear solver iter 184 resid 3.02604e-05 k-eff 1.233944\n",
      "linear solver iter 185 resid 2.94123e-05 k-eff 1.233944\n",
      "linear solver iter 186 resid 2.85883e-05 k-eff 1.233944\n",
      "linear solver iter 187 resid 2.77878e-05 k-eff 1.233944\n",
      "linear solver iter 188 resid 2.70100e-05 k-eff 1.233944\n",
      "linear solver iter 189 resid 2.62543e-05 k-eff 1.233943\n",
      "linear solver iter 190 resid 2.55200e-05 k-eff 1.233943\n",
      "linear solver iter 191 resid 2.48066e-05 k-eff 1.233943\n",
      "linear solver iter 192 resid 2.41135e-05 k-eff 1.233943\n",
      "linear solver iter 193 resid 2.34400e-05 k-eff 1.233943\n",
      "linear solver iter 194 resid 2.27855e-05 k-eff 1.233943\n",
      "linear solver iter 195 resid 2.21496e-05 k-eff 1.233942\n",
      "linear solver iter 196 resid 2.15318e-05 k-eff 1.233942\n",
      "linear solver iter 197 resid 2.09314e-05 k-eff 1.233942\n",
      "linear solver iter 198 resid 2.03480e-05 k-eff 1.233942\n",
      "linear solver iter 199 resid 1.97811e-05 k-eff 1.233942\n",
      "linear solver iter 200 resid 1.92302e-05 k-eff 1.233942\n",
      "linear solver iter 201 resid 1.86949e-05 k-eff 1.233942\n",
      "linear solver iter 202 resid 1.81748e-05 k-eff 1.233941\n",
      "linear solver iter 203 resid 1.76693e-05 k-eff 1.233941\n",
      "linear solver iter 204 resid 1.71781e-05 k-eff 1.233941\n",
      "linear solver iter 205 resid 1.67007e-05 k-eff 1.233941\n",
      "linear solver iter 206 resid 1.62368e-05 k-eff 1.233941\n",
      "linear solver iter 207 resid 1.57860e-05 k-eff 1.233941\n",
      "linear solver iter 208 resid 1.53479e-05 k-eff 1.233941\n",
      "linear solver iter 209 resid 1.49221e-05 k-eff 1.233941\n",
      "linear solver iter 210 resid 1.45083e-05 k-eff 1.233940\n",
      "linear solver iter 211 resid 1.41062e-05 k-eff 1.233940\n",
      "linear solver iter 212 resid 1.37154e-05 k-eff 1.233940\n",
      "linear solver iter 213 resid 1.33355e-05 k-eff 1.233940\n",
      "linear solver iter 214 resid 1.29664e-05 k-eff 1.233940\n",
      "linear solver iter 215 resid 1.26076e-05 k-eff 1.233940\n",
      "linear solver iter 216 resid 1.22589e-05 k-eff 1.233940\n",
      "linear solver iter 217 resid 1.19200e-05 k-eff 1.233940\n",
      "linear solver iter 218 resid 1.15906e-05 k-eff 1.233940\n",
      "linear solver iter 219 resid 1.12704e-05 k-eff 1.233940\n",
      "linear solver iter 220 resid 1.09592e-05 k-eff 1.233939\n",
      "linear solver iter 221 resid 1.06567e-05 k-eff 1.233939\n",
      "linear solver iter 222 resid 1.03627e-05 k-eff 1.233939\n",
      "linear solver iter 223 resid 1.00770e-05 k-eff 1.233939\n",
      "linear solver iter 224 resid 9.79921e-06 k-eff 1.233939\n",
      "linear solver iter 225 resid 9.52922e-06 k-eff 1.233939\n",
      "linear solver iter 226 resid 9.26678e-06 k-eff 1.233939\n",
      "linear solver iter 227 resid 9.01167e-06 k-eff 1.233939\n",
      "linear solver iter 228 resid 8.76370e-06 k-eff 1.233939\n",
      "linear solver iter 229 resid 8.52265e-06 k-eff 1.233939\n",
      "linear solver iter 230 resid 8.28833e-06 k-eff 1.233939\n",
      "linear solver iter 231 resid 8.06056e-06 k-eff 1.233939\n",
      "linear solver iter 232 resid 7.83913e-06 k-eff 1.233939\n",
      "linear solver iter 233 resid 7.62388e-06 k-eff 1.233939\n",
      "linear solver iter 234 resid 7.41463e-06 k-eff 1.233939\n",
      "linear solver iter 235 resid 7.21121e-06 k-eff 1.233938\n",
      "linear solver iter 236 resid 7.01346e-06 k-eff 1.233938\n",
      "linear solver iter 237 resid 6.82121e-06 k-eff 1.233938\n",
      "linear solver iter 238 resid 6.63431e-06 k-eff 1.233938\n",
      "linear solver iter 239 resid 6.45260e-06 k-eff 1.233938\n",
      "linear solver iter 240 resid 6.27595e-06 k-eff 1.233938\n",
      "linear solver iter 241 resid 6.10421e-06 k-eff 1.233938\n",
      "linear solver iter 242 resid 5.93724e-06 k-eff 1.233938\n",
      "linear solver iter 243 resid 5.77491e-06 k-eff 1.233938\n",
      "linear solver iter 244 resid 5.61708e-06 k-eff 1.233938\n",
      "linear solver iter 245 resid 5.46363e-06 k-eff 1.233938\n",
      "linear solver iter 246 resid 5.31443e-06 k-eff 1.233938\n",
      "linear solver iter 247 resid 5.16937e-06 k-eff 1.233938\n",
      "linear solver iter 248 resid 5.02833e-06 k-eff 1.233938\n",
      "linear solver iter 249 resid 4.89120e-06 k-eff 1.233938\n",
      "linear solver iter 250 resid 4.75786e-06 k-eff 1.233938\n",
      "linear solver iter 251 resid 4.62821e-06 k-eff 1.233938\n",
      "linear solver iter 252 resid 4.50215e-06 k-eff 1.233938\n",
      "linear solver iter 253 resid 4.37957e-06 k-eff 1.233938\n",
      "linear solver iter 254 resid 4.26038e-06 k-eff 1.233938\n",
      "linear solver iter 255 resid 4.14448e-06 k-eff 1.233938\n",
      "linear solver iter 256 resid 4.03178e-06 k-eff 1.233938\n",
      "linear solver iter 257 resid 3.92219e-06 k-eff 1.233938\n",
      "linear solver iter 258 resid 3.81563e-06 k-eff 1.233938\n",
      "linear solver iter 259 resid 3.71201e-06 k-eff 1.233938\n",
      "linear solver iter 260 resid 3.61124e-06 k-eff 1.233937\n",
      "linear solver iter 261 resid 3.51324e-06 k-eff 1.233937\n",
      "linear solver iter 262 resid 3.41795e-06 k-eff 1.233937\n",
      "linear solver iter 263 resid 3.32528e-06 k-eff 1.233937\n",
      "linear solver iter 264 resid 3.23516e-06 k-eff 1.233937\n",
      "linear solver iter 265 resid 3.14752e-06 k-eff 1.233937\n",
      "linear solver iter 266 resid 3.06228e-06 k-eff 1.233937\n",
      "linear solver iter 267 resid 2.97939e-06 k-eff 1.233937\n",
      "linear solver iter 268 resid 2.89878e-06 k-eff 1.233937\n",
      "linear solver iter 269 resid 2.82038e-06 k-eff 1.233937\n",
      "linear solver iter 270 resid 2.74413e-06 k-eff 1.233937\n",
      "linear solver iter 271 resid 2.66998e-06 k-eff 1.233937\n",
      "linear solver iter 272 resid 2.59785e-06 k-eff 1.233937\n",
      "linear solver iter 273 resid 2.52771e-06 k-eff 1.233937\n",
      "linear solver iter 274 resid 2.45948e-06 k-eff 1.233937\n",
      "linear solver iter 275 resid 2.39313e-06 k-eff 1.233937\n",
      "linear solver iter 276 resid 2.32859e-06 k-eff 1.233937\n",
      "linear solver iter 277 resid 2.26581e-06 k-eff 1.233937\n",
      "linear solver iter 278 resid 2.20476e-06 k-eff 1.233937\n",
      "linear solver iter 279 resid 2.14537e-06 k-eff 1.233937\n",
      "linear solver iter 280 resid 2.08761e-06 k-eff 1.233937\n",
      "linear solver iter 281 resid 2.03142e-06 k-eff 1.233937\n",
      "linear solver iter 282 resid 1.97677e-06 k-eff 1.233937\n",
      "linear solver iter 283 resid 1.92361e-06 k-eff 1.233937\n",
      "linear solver iter 284 resid 1.87190e-06 k-eff 1.233937\n",
      "linear solver iter 285 resid 1.82160e-06 k-eff 1.233937\n",
      "linear solver iter 286 resid 1.77267e-06 k-eff 1.233937\n",
      "linear solver iter 287 resid 1.72507e-06 k-eff 1.233937\n",
      "linear solver iter 288 resid 1.67877e-06 k-eff 1.233937\n",
      "linear solver iter 289 resid 1.63373e-06 k-eff 1.233937\n",
      "linear solver iter 290 resid 1.58992e-06 k-eff 1.233937\n",
      "linear solver iter 291 resid 1.54730e-06 k-eff 1.233937\n",
      "linear solver iter 292 resid 1.50584e-06 k-eff 1.233937\n",
      "linear solver iter 293 resid 1.46550e-06 k-eff 1.233937\n",
      "linear solver iter 294 resid 1.42626e-06 k-eff 1.233937\n",
      "linear solver iter 295 resid 1.38808e-06 k-eff 1.233937\n",
      "linear solver iter 296 resid 1.35095e-06 k-eff 1.233937\n",
      "linear solver iter 297 resid 1.31481e-06 k-eff 1.233937\n",
      "linear solver iter 298 resid 1.27966e-06 k-eff 1.233937\n",
      "linear solver iter 299 resid 1.24546e-06 k-eff 1.233937\n",
      "linear solver iter 300 resid 1.21219e-06 k-eff 1.233937\n",
      "linear solver iter 301 resid 1.17982e-06 k-eff 1.233937\n",
      "linear solver iter 302 resid 1.14833e-06 k-eff 1.233937\n",
      "linear solver iter 303 resid 1.11769e-06 k-eff 1.233937\n",
      "linear solver iter 304 resid 1.08787e-06 k-eff 1.233937\n",
      "linear solver iter 305 resid 1.05887e-06 k-eff 1.233937\n",
      "linear solver iter 306 resid 1.03064e-06 k-eff 1.233937\n",
      "linear solver iter 307 resid 1.00318e-06 k-eff 1.233937\n",
      "linear solver iter 308 resid 9.76466e-07 k-eff 1.233937\n",
      "k-eff MC 1.221665 -- DIFFUSION 1.233937\n"
     ]
    }
   ],
   "source": [
    "solver.compute_initial_flux()"
   ]
  },
  {
   "cell_type": "code",
   "execution_count": 15,
   "metadata": {
    "collapsed": false
   },
   "outputs": [
    {
     "data": {
      "text/plain": [
       "<matplotlib.colorbar.Colorbar at 0x1171da1d0>"
      ]
     },
     "execution_count": 15,
     "metadata": {},
     "output_type": "execute_result"
    },
    {
     "data": {
      "image/png": "[encoded data removed]",
      "text/plain": [
       "<matplotlib.figure.Figure at 0x116e610d0>"
      ]
     },
     "metadata": {},
     "output_type": "display_data"
    }
   ],
   "source": [
    "flux = np.copy(solver.flux['START'])\n",
    "flux.shape = (mesh.dimension[0], mesh.dimension[1], mesh.dimension[2], energy_groups.num_groups)\n",
    "flux_plane = flux[:,:,0,:]\n",
    "\n",
    "plt.imshow(flux_plane[:,:,0],interpolation='none')\n",
    "plt.colorbar()"
   ]
  },
  {
   "cell_type": "markdown",
   "metadata": {},
   "source": [
    "OpenMC has generated all the cross sections we need. Now let's go about importing and inspecting them. First we will look at the diffusion coefficients. There are several different methods to compute the diffusion coefficients. In all cases, we first tally the total and transport cross sections on a fine energy mesh. Then we collapse either $\\Sigma_T$, $\\Sigma_{Tr}$, or $\\frac{1}{3 \\Sigma_{Tr}}$:\n",
    "\n",
    "* **Flux-weighted total cross section**: Collapse $\\Sigma_T$ and take the diffusion coefficient as $\\frac{1}{3 \\Sigma_T}$.\n",
    "* **Flux-weighted transport cross section**: Collapse $\\Sigma_{Tr}$ and take the diffusion coefficient as $\\frac{1}{3 \\Sigma_{Tr}}$.\n",
    "* **Flux-weighted diffusion coefficient**: Collapse $\\frac{1}{3 \\Sigma_{Tr}}$. \n",
    "\n",
    "As we can see from the plot below, the approximation has a large impact on the diffusion coefficients. In future analysis, we will be using the **flux-weighted diffusion coefficient**."
   ]
  },
  {
   "cell_type": "code",
   "execution_count": 16,
   "metadata": {
    "collapsed": false
   },
   "outputs": [
    {
     "data": {
      "text/plain": [
       "(0, 4)"
      ]
     },
     "execution_count": 16,
     "metadata": {},
     "output_type": "execute_result"
    },
    {
     "data": {
      "image/png": "[encoded data removed]",
      "text/plain": [
       "<matplotlib.figure.Figure at 0x11728d850>"
      ]
     },
     "metadata": {},
     "output_type": "display_data"
    }
   ],
   "source": [
    "ng  = energy_groups.num_groups\n",
    "nfg = fine_groups.num_groups\n",
    "\n",
    "flux_wgt_trans  = 1.0 / (3.0 * solver.mgxs_lib['START']['transport'].get_xs().flatten())[range(ng)]\n",
    "dif_coef_fine   = solver.mgxs_lib['START']['diffusion-coefficient'].get_xs().flatten()[range(nfg)]\n",
    "dif_coef_coarse = solver.mgxs_lib['START']['diffusion-coefficient'].get_condensed_xs(energy_groups).get_xs().flatten()[range(ng)]\n",
    "\n",
    "flux_wgt_trans = np.append(flux_wgt_trans, flux_wgt_trans[0])\n",
    "dif_coef_fine = np.append(dif_coef_fine, dif_coef_fine[0])\n",
    "dif_coef_coarse = np.append(dif_coef_coarse, dif_coef_coarse[0])\n",
    "\n",
    "plt.figure()\n",
    "plt.semilogx(energy_groups.group_edges, flux_wgt_trans, drawstyle='steps', color='r', linestyle='-', linewidth=3)\n",
    "plt.semilogx(fine_groups.group_edges, dif_coef_fine, drawstyle='steps', color='b', linestyle='-', linewidth=3)\n",
    "plt.semilogx(energy_groups.group_edges, dif_coef_coarse, drawstyle='steps', color='g', linestyle='-', linewidth=3)\n",
    "\n",
    "plt.title('Coarse and Fine Diffusion Coefficients')\n",
    "plt.legend(['flux wgt trans', 'flux wgt dif fine', 'flux wgt dif coarse'])\n",
    "plt.xlabel('Energy (MeV)')\n",
    "plt.ylabel('Diffusion Coefficient')\n",
    "plt.ylim([0,4])"
   ]
  },
  {
   "cell_type": "markdown",
   "metadata": {},
   "source": [
    "Solving a transient problem requires that we form a balance equation with the streaming, prompt-fission, delayed-fission, absorption, and flux-time-derivative operators. The MGXS module tallies the cross sections based on their various filters, but the data format is not able to properly model the streaming operator so the data needs to be transformed from the filter-based arrangment to a matrix-based arrangement. To show what I mean, let's inspect the difusion coefficient data from the MGXS module and in our transformed matrix-form."
   ]
  },
  {
   "cell_type": "code",
   "execution_count": 17,
   "metadata": {
    "collapsed": false
   },
   "outputs": [
    {
     "data": {
      "text/plain": [
       "<matplotlib.lines.Line2D at 0x11764a650>"
      ]
     },
     "execution_count": 17,
     "metadata": {},
     "output_type": "execute_result"
    },
    {
     "data": {
      "image/png": "[encoded data removed]",
      "text/plain": [
       "<matplotlib.figure.Figure at 0x117507dd0>"
      ]
     },
     "metadata": {},
     "output_type": "display_data"
    }
   ],
   "source": [
    "dx, dy, dz = solver.mesh.width\n",
    "dxyz = dx * dy * dz\n",
    "\n",
    "inscatter = solver.mgxs_lib['START']['nu-scatter matrix'].get_mean_matrix()\n",
    "absorb = solver.mgxs_lib['START']['absorption'].get_mean_matrix()\n",
    "chi_p = solver.mgxs_lib['START']['chi-prompt'].get_mean_matrix()\n",
    "chi_d = solver.mgxs_lib['START']['chi-delayed'].get_mean_matrix()\n",
    "nu_fis_p = solver.mgxs_lib['START']['prompt-nu-fission'].get_mean_matrix()\n",
    "nu_fis_d = solver.mgxs_lib['START']['delayed-nu-fission'].get_mean_matrix()\n",
    "stream, stream_corr = solver.compute_surface_dif_coefs('START')\n",
    "flux = solver.mgxs_lib['START']['absorption'].tallies['flux'].get_values()\n",
    "outscatter = sps.diags(np.asarray(inscatter.sum(axis=0)).flatten(), 0)\n",
    "\n",
    "if isinstance(nu_fis_d, list):\n",
    "    nu_fis_d = sum(nu_fis_d)\n",
    "\n",
    "# Form the A and M matrices                                                                                                                                                          \n",
    "loss_matrix = dxyz * (absorb + outscatter - inscatter) + stream + stream_corr\n",
    "prod_matrix = dxyz * (chi_p * nu_fis_p + chi_d * nu_fis_d)\n",
    "flux = flux.flatten()\n",
    "\n",
    "fig = plt.figure()\n",
    "plt.subplot(1,2,1)\n",
    "plt.spy(loss_matrix, markersize=5)\n",
    "plt.subplot(1,2,2)\n",
    "plt.spy(prod_matrix, markersize=5)"
   ]
  },
  {
   "cell_type": "markdown",
   "metadata": {},
   "source": [
    "Now, we want to form the streaming operator. In order to do this, we need to compute the surface diffusion coefficient coefficients. Below is the plot of the surface diffusion coefficients for our 2x2 mesh with 2 energy groups:"
   ]
  },
  {
   "cell_type": "code",
   "execution_count": 18,
   "metadata": {
    "collapsed": false
   },
   "outputs": [
    {
     "data": {
      "text/plain": [
       "<matplotlib.lines.Line2D at 0x1174d9650>"
      ]
     },
     "execution_count": 18,
     "metadata": {},
     "output_type": "execute_result"
    },
    {
     "data": {
      "image/png": "[encoded data removed]",
      "text/plain": [
       "<matplotlib.figure.Figure at 0x117371210>"
      ]
     },
     "metadata": {},
     "output_type": "display_data"
    }
   ],
   "source": [
    "sdc_matrix, sdc_corr_matrix = solver.compute_surface_dif_coefs('START')\n",
    "\n",
    "fig = plt.figure()\n",
    "plt.spy(sdc_corr_matrix, markersize=5)"
   ]
  },
  {
   "cell_type": "markdown",
   "metadata": {},
   "source": [
    "In order to maintain balance between our diffusion and transport solves, we need to compute the surface diffusion coefficient correction terms. This is achieved by tallying the currents between coarse mesh cells and computing the correction terms such that the current between mesh cells is preserved."
   ]
  },
  {
   "cell_type": "code",
   "execution_count": 19,
   "metadata": {
    "collapsed": false
   },
   "outputs": [
    {
     "data": {
      "text/plain": [
       "<matplotlib.colorbar.Colorbar at 0x117869190>"
      ]
     },
     "execution_count": 19,
     "metadata": {},
     "output_type": "execute_result"
    },
    {
     "data": {
      "image/png": "[encoded data removed]",
      "text/plain": [
       "<matplotlib.figure.Figure at 0x117314c10>"
      ]
     },
     "metadata": {},
     "output_type": "display_data"
    }
   ],
   "source": [
    "import scipy.sparse as sps\n",
    "\n",
    "# Get matrices for all the other important cross sections\n",
    "matrices = {}\n",
    "matrices['surface-diffusion'], matrices['surface-diffusion-correction'] = solver.compute_surface_dif_coefs('START')\n",
    "for key,mgxs in solver.mgxs_lib['START'].items():\n",
    "    if key != 'current':\n",
    "        matrices[key] = mgxs.get_mean_matrix()\n",
    "\n",
    "fig = plt.figure(figsize=(10,4))\n",
    "xs = 'surface-diffusion'\n",
    "matrix = np.abs(matrices[xs].todense())\n",
    "vmin = matrix.min()\n",
    "vmax = matrix.max()\n",
    "matrix[matrix == 0.] = np.nan\n",
    "plt.subplot(1,2,1)\n",
    "plt.imshow(matrix, interpolation='none', cmap='Blues', vmin=vmin, vmax=vmax)\n",
    "plt.title(xs)\n",
    "plt.colorbar()\n",
    "\n",
    "xs = 'surface-diffusion-correction'\n",
    "matrix = np.abs(matrices[xs].todense())\n",
    "matrix[matrix == 0.] = np.nan\n",
    "plt.subplot(1,2,2)\n",
    "plt.imshow(matrix, interpolation='none', cmap='Blues', vmin=vmin, vmax=vmax)\n",
    "plt.title(xs)\n",
    "plt.colorbar()"
   ]
  },
  {
   "cell_type": "markdown",
   "metadata": {},
   "source": [
    "## Extracting and Storing MGXS Data"
   ]
  },
  {
   "cell_type": "markdown",
   "metadata": {},
   "source": [
    "Let's first inspect our delayed-nu-fission section by printing it to the screen after condensing the cross section down to one group."
   ]
  },
  {
   "cell_type": "code",
   "execution_count": 20,
   "metadata": {
    "collapsed": false
   },
   "outputs": [
    {
     "data": {
      "text/plain": [
       "array([[ 1.27353933,  0.51740358],\n",
       "       [ 1.27603657,  0.5115101 ],\n",
       "       [ 1.28626128,  0.51027817],\n",
       "       [ 1.28804747,  0.51040921]])"
      ]
     },
     "execution_count": 20,
     "metadata": {},
     "output_type": "execute_result"
    }
   ],
   "source": [
    "solver.mgxs_lib['START']['diffusion-coefficient'].get_condensed_xs(energy_groups).get_xs()"
   ]
  },
  {
   "cell_type": "markdown",
   "metadata": {},
   "source": [
    "Since the `openmc.mgxs` module uses [tally arithmetic](https://mit-crpg.github.io/openmc/pythonapi/examples/tally-arithmetic.html) under-the-hood, the cross section is stored as a \"derived\" `Tally` object. This means that it can be queried and manipulated using all of the same methods supported for the `Tally` class in the OpenMC Python API. For example, we can construct a [Pandas](http://pandas.pydata.org/) `DataFrame` of the multi-group cross section data."
   ]
  },
  {
   "cell_type": "code",
   "execution_count": 21,
   "metadata": {
    "collapsed": false
   },
   "outputs": [
    {
     "data": {
      "text/html": [
       "<div>\n",
       "<table border=\"1\" class=\"dataframe\">\n",
       "  <thead>\n",
       "    <tr>\n",
       "      <th></th>\n",
       "      <th colspan=\"3\" halign=\"left\">mesh 1</th>\n",
       "      <th>group in</th>\n",
       "      <th>surface</th>\n",
       "      <th>nuclide</th>\n",
       "      <th>mean</th>\n",
       "      <th>std. dev.</th>\n",
       "    </tr>\n",
       "    <tr>\n",
       "      <th></th>\n",
       "      <th>x</th>\n",
       "      <th>y</th>\n",
       "      <th>z</th>\n",
       "      <th></th>\n",
       "      <th></th>\n",
       "      <th></th>\n",
       "      <th></th>\n",
       "      <th></th>\n",
       "    </tr>\n",
       "  </thead>\n",
       "  <tbody>\n",
       "    <tr>\n",
       "      <th>1</th>\n",
       "      <td>1</td>\n",
       "      <td>1</td>\n",
       "      <td>1</td>\n",
       "      <td>1</td>\n",
       "      <td>x-max out</td>\n",
       "      <td>total</td>\n",
       "      <td>0.00976</td>\n",
       "      <td>0.000644</td>\n",
       "    </tr>\n",
       "    <tr>\n",
       "      <th>3</th>\n",
       "      <td>1</td>\n",
       "      <td>1</td>\n",
       "      <td>1</td>\n",
       "      <td>1</td>\n",
       "      <td>y-max out</td>\n",
       "      <td>total</td>\n",
       "      <td>0.00504</td>\n",
       "      <td>0.000481</td>\n",
       "    </tr>\n",
       "    <tr>\n",
       "      <th>5</th>\n",
       "      <td>1</td>\n",
       "      <td>1</td>\n",
       "      <td>1</td>\n",
       "      <td>1</td>\n",
       "      <td>z-max out</td>\n",
       "      <td>total</td>\n",
       "      <td>0.00000</td>\n",
       "      <td>0.000000</td>\n",
       "    </tr>\n",
       "    <tr>\n",
       "      <th>7</th>\n",
       "      <td>1</td>\n",
       "      <td>1</td>\n",
       "      <td>1</td>\n",
       "      <td>1</td>\n",
       "      <td>x-max in</td>\n",
       "      <td>total</td>\n",
       "      <td>0.01092</td>\n",
       "      <td>0.000603</td>\n",
       "    </tr>\n",
       "    <tr>\n",
       "      <th>9</th>\n",
       "      <td>1</td>\n",
       "      <td>1</td>\n",
       "      <td>1</td>\n",
       "      <td>1</td>\n",
       "      <td>y-max in</td>\n",
       "      <td>total</td>\n",
       "      <td>0.00480</td>\n",
       "      <td>0.000432</td>\n",
       "    </tr>\n",
       "    <tr>\n",
       "      <th>11</th>\n",
       "      <td>1</td>\n",
       "      <td>1</td>\n",
       "      <td>1</td>\n",
       "      <td>1</td>\n",
       "      <td>z-max in</td>\n",
       "      <td>total</td>\n",
       "      <td>0.00000</td>\n",
       "      <td>0.000000</td>\n",
       "    </tr>\n",
       "    <tr>\n",
       "      <th>13</th>\n",
       "      <td>1</td>\n",
       "      <td>1</td>\n",
       "      <td>1</td>\n",
       "      <td>1</td>\n",
       "      <td>x-max out</td>\n",
       "      <td>total</td>\n",
       "      <td>0.03148</td>\n",
       "      <td>0.001286</td>\n",
       "    </tr>\n",
       "    <tr>\n",
       "      <th>15</th>\n",
       "      <td>1</td>\n",
       "      <td>1</td>\n",
       "      <td>1</td>\n",
       "      <td>1</td>\n",
       "      <td>y-max out</td>\n",
       "      <td>total</td>\n",
       "      <td>0.01508</td>\n",
       "      <td>0.001143</td>\n",
       "    </tr>\n",
       "    <tr>\n",
       "      <th>17</th>\n",
       "      <td>1</td>\n",
       "      <td>1</td>\n",
       "      <td>1</td>\n",
       "      <td>1</td>\n",
       "      <td>z-max out</td>\n",
       "      <td>total</td>\n",
       "      <td>0.00000</td>\n",
       "      <td>0.000000</td>\n",
       "    </tr>\n",
       "    <tr>\n",
       "      <th>19</th>\n",
       "      <td>1</td>\n",
       "      <td>1</td>\n",
       "      <td>1</td>\n",
       "      <td>1</td>\n",
       "      <td>x-max in</td>\n",
       "      <td>total</td>\n",
       "      <td>0.03480</td>\n",
       "      <td>0.001450</td>\n",
       "    </tr>\n",
       "    <tr>\n",
       "      <th>21</th>\n",
       "      <td>1</td>\n",
       "      <td>1</td>\n",
       "      <td>1</td>\n",
       "      <td>1</td>\n",
       "      <td>y-max in</td>\n",
       "      <td>total</td>\n",
       "      <td>0.01572</td>\n",
       "      <td>0.001166</td>\n",
       "    </tr>\n",
       "    <tr>\n",
       "      <th>23</th>\n",
       "      <td>1</td>\n",
       "      <td>1</td>\n",
       "      <td>1</td>\n",
       "      <td>1</td>\n",
       "      <td>z-max in</td>\n",
       "      <td>total</td>\n",
       "      <td>0.00000</td>\n",
       "      <td>0.000000</td>\n",
       "    </tr>\n",
       "  </tbody>\n",
       "</table>\n",
       "</div>"
      ],
      "text/plain": [
       "   mesh 1       group in    surface nuclide     mean std. dev.\n",
       "        x  y  z                                               \n",
       "1       1  1  1        1  x-max out   total  0.00976  0.000644\n",
       "3       1  1  1        1  y-max out   total  0.00504  0.000481\n",
       "5       1  1  1        1  z-max out   total  0.00000  0.000000\n",
       "7       1  1  1        1   x-max in   total  0.01092  0.000603\n",
       "9       1  1  1        1   y-max in   total  0.00480  0.000432\n",
       "11      1  1  1        1   z-max in   total  0.00000  0.000000\n",
       "13      1  1  1        1  x-max out   total  0.03148  0.001286\n",
       "15      1  1  1        1  y-max out   total  0.01508  0.001143\n",
       "17      1  1  1        1  z-max out   total  0.00000  0.000000\n",
       "19      1  1  1        1   x-max in   total  0.03480  0.001450\n",
       "21      1  1  1        1   y-max in   total  0.01572  0.001166\n",
       "23      1  1  1        1   z-max in   total  0.00000  0.000000"
      ]
     },
     "execution_count": 21,
     "metadata": {},
     "output_type": "execute_result"
    }
   ],
   "source": [
    "df = solver.mgxs_lib['START']['current'].get_pandas_dataframe()\n",
    "df.head(12)"
   ]
  },
  {
   "cell_type": "code",
   "execution_count": 22,
   "metadata": {
    "collapsed": false
   },
   "outputs": [
    {
     "data": {
      "text/plain": [
       "array([[[ 0.00292,  0.03148,  0.     ,  0.01508,  0.     ,  0.     ,\n",
       "          0.     ,  0.0348 ,  0.     ,  0.01572,  0.     ,  0.     ],\n",
       "        [ 0.00052,  0.00976,  0.     ,  0.00504,  0.     ,  0.     ,\n",
       "          0.     ,  0.01092,  0.     ,  0.0048 ,  0.     ,  0.     ]],\n",
       "\n",
       "       [[ 0.0348 ,  0.     ,  0.     ,  0.0426 ,  0.     ,  0.     ,\n",
       "          0.03148,  0.     ,  0.     ,  0.04212,  0.     ,  0.     ],\n",
       "        [ 0.01092,  0.     ,  0.     ,  0.01396,  0.     ,  0.     ,\n",
       "          0.00976,  0.     ,  0.     ,  0.01356,  0.     ,  0.     ]],\n",
       "\n",
       "       [[ 0.00272,  0.02884,  0.01572,  0.     ,  0.     ,  0.     ,\n",
       "          0.     ,  0.03252,  0.01508,  0.     ,  0.     ,  0.     ],\n",
       "        [ 0.00068,  0.01168,  0.0048 ,  0.     ,  0.     ,  0.     ,\n",
       "          0.     ,  0.01148,  0.00504,  0.     ,  0.     ,  0.     ]],\n",
       "\n",
       "       [[ 0.03252,  0.     ,  0.04212,  0.     ,  0.     ,  0.     ,\n",
       "          0.02884,  0.     ,  0.0426 ,  0.     ,  0.     ,  0.     ],\n",
       "        [ 0.01148,  0.     ,  0.01356,  0.     ,  0.     ,  0.     ,\n",
       "          0.01168,  0.     ,  0.01396,  0.     ,  0.     ,  0.     ]]])"
      ]
     },
     "execution_count": 22,
     "metadata": {},
     "output_type": "execute_result"
    }
   ],
   "source": [
    "solver.mgxs_lib['START']['current'].get_xs()"
   ]
  },
  {
   "cell_type": "markdown",
   "metadata": {},
   "source": [
    "Each multi-group cross section object can be easily exported to a variety of file formats, including CSV, Excel, and LaTeX for storage or data processing."
   ]
  },
  {
   "cell_type": "markdown",
   "metadata": {},
   "source": [
    "## Using Tally Arithmetic to Compute the Delayed Neutron Precursor Concentrations"
   ]
  },
  {
   "cell_type": "markdown",
   "metadata": {},
   "source": [
    "Finally, we illustrate how one can leverage OpenMC's [tally arithmetic](https://mit-crpg.github.io/openmc/pythonapi/examples/tally-arithmetic.html) data processing feature with `MGXS` objects. The `openmc.mgxs` module uses tally arithmetic to compute multi-group cross sections with automated uncertainty propagation. Each `MGXS` object includes an `xs_tally` attribute which is a \"derived\" `Tally` based on the tallies needed to compute the cross section type of interest. These derived tallies can be used in subsequent tally arithmetic operations. For example, we can use tally artithmetic to compute the delayed neutron precursor concentrations using the `Beta`, `DelayedNuFissionXS`, and `DecayRate` objects. The delayed neutron precursor concentrations are modeled using the following equations:\n",
    "\n",
    "$$\\frac{\\partial}{\\partial t} C_{k,d} (t) = \\int_{0}^{\\infty}\\mathrm{d}E'\\int_{\\mathbf{r} \\in V_{k}}\\mathrm{d}\\mathbf{r} \\nu_d \\sigma_{f,x}(\\mathbf{r},E',t)\\Phi(\\mathbf{r},E',t) - \\lambda_{d} C_{k,d} (t) $$\n",
    "\n",
    "$$C_{k,d} (t=0) = \\frac{1}{\\lambda_{d}} \\int_{0}^{\\infty}\\mathrm{d}E'\\int_{\\mathbf{r} \\in V_{k}}\\mathrm{d}\\mathbf{r} \\nu_d \\sigma_{f,x}(\\mathbf{r},E',t=0)\\Phi(\\mathbf{r},E',t=0) $$\n",
    "\n",
    "First, let's investigate the decay rates. The fraction of the delayed neutron precursors remaining as a function of time after fission for each delayed group have been plotted below."
   ]
  },
  {
   "cell_type": "code",
   "execution_count": 23,
   "metadata": {
    "collapsed": false
   },
   "outputs": [
    {
     "data": {
      "text/plain": [
       "<matplotlib.legend.Legend at 0x1174a5510>"
      ]
     },
     "execution_count": 23,
     "metadata": {},
     "output_type": "execute_result"
    },
    {
     "data": {
      "image/png": "[encoded data removed]",
      "text/plain": [
       "<matplotlib.figure.Figure at 0x11791a090>"
      ]
     },
     "metadata": {},
     "output_type": "display_data"
    }
   ],
   "source": [
    "# Get the decay rate data\n",
    "dr_tally = solver.mgxs_lib['START']['decay-rate'].xs_tally\n",
    "dr = dr_tally.get_values().flatten()\n",
    "\n",
    "# Compute the exponential decay of the precursors\n",
    "time = np.logspace(-3,3)\n",
    "dr_points = np.exp(-np.outer(dr, time))\n",
    "\n",
    "# Create a plot of the fraction of the precursors remaining as a f(time)\n",
    "colors = ['b', 'g', 'r', 'c', 'm', 'k']\n",
    "for g,c in enumerate(colors):\n",
    "    plt.semilogx(time, dr_points[g,:], color=c, linestyle='-', linewidth=3)\n",
    "\n",
    "plt.title('Delayed Neutron Precursor Decay Rates')\n",
    "plt.xlabel('Time (s)')\n",
    "plt.ylabel('Fraction Remaining')\n",
    "plt.legend(['delayed-group 1', 'delayed-group 2', 'delayed-group 3', 'delayed-group 4',\n",
    "            'delayed-group 5', 'delayed-group 6'], loc=1, bbox_to_anchor=(1.5, 0.8))"
   ]
  },
  {
   "cell_type": "code",
   "execution_count": 24,
   "metadata": {
    "collapsed": false
   },
   "outputs": [
    {
     "data": {
      "text/html": [
       "<div>\n",
       "<table border=\"1\" class=\"dataframe\">\n",
       "  <thead>\n",
       "    <tr>\n",
       "      <th></th>\n",
       "      <th colspan=\"3\" halign=\"left\">mesh 1</th>\n",
       "      <th>delayedgroup</th>\n",
       "      <th>nuclide</th>\n",
       "      <th>score</th>\n",
       "      <th>mean</th>\n",
       "      <th>std. dev.</th>\n",
       "    </tr>\n",
       "    <tr>\n",
       "      <th></th>\n",
       "      <th>x</th>\n",
       "      <th>y</th>\n",
       "      <th>z</th>\n",
       "      <th></th>\n",
       "      <th></th>\n",
       "      <th></th>\n",
       "      <th></th>\n",
       "      <th></th>\n",
       "    </tr>\n",
       "  </thead>\n",
       "  <tbody>\n",
       "    <tr>\n",
       "      <th>0</th>\n",
       "      <td>1</td>\n",
       "      <td>1</td>\n",
       "      <td>1</td>\n",
       "      <td>1</td>\n",
       "      <td>total</td>\n",
       "      <td>(delayed-nu-fission / (decay-rate / delayed-nu...</td>\n",
       "      <td>0.001664</td>\n",
       "      <td>0.002354</td>\n",
       "    </tr>\n",
       "    <tr>\n",
       "      <th>1</th>\n",
       "      <td>1</td>\n",
       "      <td>1</td>\n",
       "      <td>1</td>\n",
       "      <td>2</td>\n",
       "      <td>total</td>\n",
       "      <td>(delayed-nu-fission / (decay-rate / delayed-nu...</td>\n",
       "      <td>0.003821</td>\n",
       "      <td>0.002990</td>\n",
       "    </tr>\n",
       "    <tr>\n",
       "      <th>2</th>\n",
       "      <td>1</td>\n",
       "      <td>1</td>\n",
       "      <td>1</td>\n",
       "      <td>3</td>\n",
       "      <td>total</td>\n",
       "      <td>(delayed-nu-fission / (decay-rate / delayed-nu...</td>\n",
       "      <td>0.000974</td>\n",
       "      <td>0.000954</td>\n",
       "    </tr>\n",
       "    <tr>\n",
       "      <th>3</th>\n",
       "      <td>1</td>\n",
       "      <td>1</td>\n",
       "      <td>1</td>\n",
       "      <td>4</td>\n",
       "      <td>total</td>\n",
       "      <td>(delayed-nu-fission / (decay-rate / delayed-nu...</td>\n",
       "      <td>0.000868</td>\n",
       "      <td>0.000397</td>\n",
       "    </tr>\n",
       "    <tr>\n",
       "      <th>4</th>\n",
       "      <td>1</td>\n",
       "      <td>1</td>\n",
       "      <td>1</td>\n",
       "      <td>5</td>\n",
       "      <td>total</td>\n",
       "      <td>(delayed-nu-fission / (decay-rate / delayed-nu...</td>\n",
       "      <td>0.000149</td>\n",
       "      <td>0.000117</td>\n",
       "    </tr>\n",
       "    <tr>\n",
       "      <th>5</th>\n",
       "      <td>1</td>\n",
       "      <td>1</td>\n",
       "      <td>1</td>\n",
       "      <td>6</td>\n",
       "      <td>total</td>\n",
       "      <td>(delayed-nu-fission / (decay-rate / delayed-nu...</td>\n",
       "      <td>0.000018</td>\n",
       "      <td>0.000017</td>\n",
       "    </tr>\n",
       "    <tr>\n",
       "      <th>6</th>\n",
       "      <td>1</td>\n",
       "      <td>2</td>\n",
       "      <td>1</td>\n",
       "      <td>1</td>\n",
       "      <td>total</td>\n",
       "      <td>(delayed-nu-fission / (decay-rate / delayed-nu...</td>\n",
       "      <td>0.004833</td>\n",
       "      <td>0.006835</td>\n",
       "    </tr>\n",
       "    <tr>\n",
       "      <th>7</th>\n",
       "      <td>1</td>\n",
       "      <td>2</td>\n",
       "      <td>1</td>\n",
       "      <td>2</td>\n",
       "      <td>total</td>\n",
       "      <td>(delayed-nu-fission / (decay-rate / delayed-nu...</td>\n",
       "      <td>0.011481</td>\n",
       "      <td>0.004836</td>\n",
       "    </tr>\n",
       "    <tr>\n",
       "      <th>8</th>\n",
       "      <td>1</td>\n",
       "      <td>2</td>\n",
       "      <td>1</td>\n",
       "      <td>3</td>\n",
       "      <td>total</td>\n",
       "      <td>(delayed-nu-fission / (decay-rate / delayed-nu...</td>\n",
       "      <td>0.002818</td>\n",
       "      <td>0.001627</td>\n",
       "    </tr>\n",
       "    <tr>\n",
       "      <th>9</th>\n",
       "      <td>1</td>\n",
       "      <td>2</td>\n",
       "      <td>1</td>\n",
       "      <td>4</td>\n",
       "      <td>total</td>\n",
       "      <td>(delayed-nu-fission / (decay-rate / delayed-nu...</td>\n",
       "      <td>0.002554</td>\n",
       "      <td>0.000770</td>\n",
       "    </tr>\n",
       "    <tr>\n",
       "      <th>10</th>\n",
       "      <td>1</td>\n",
       "      <td>2</td>\n",
       "      <td>1</td>\n",
       "      <td>5</td>\n",
       "      <td>total</td>\n",
       "      <td>(delayed-nu-fission / (decay-rate / delayed-nu...</td>\n",
       "      <td>0.000422</td>\n",
       "      <td>0.000191</td>\n",
       "    </tr>\n",
       "    <tr>\n",
       "      <th>11</th>\n",
       "      <td>1</td>\n",
       "      <td>2</td>\n",
       "      <td>1</td>\n",
       "      <td>6</td>\n",
       "      <td>total</td>\n",
       "      <td>(delayed-nu-fission / (decay-rate / delayed-nu...</td>\n",
       "      <td>0.000050</td>\n",
       "      <td>0.000031</td>\n",
       "    </tr>\n",
       "    <tr>\n",
       "      <th>12</th>\n",
       "      <td>2</td>\n",
       "      <td>1</td>\n",
       "      <td>1</td>\n",
       "      <td>1</td>\n",
       "      <td>total</td>\n",
       "      <td>(delayed-nu-fission / (decay-rate / delayed-nu...</td>\n",
       "      <td>0.001811</td>\n",
       "      <td>0.002561</td>\n",
       "    </tr>\n",
       "    <tr>\n",
       "      <th>13</th>\n",
       "      <td>2</td>\n",
       "      <td>1</td>\n",
       "      <td>1</td>\n",
       "      <td>2</td>\n",
       "      <td>total</td>\n",
       "      <td>(delayed-nu-fission / (decay-rate / delayed-nu...</td>\n",
       "      <td>0.004163</td>\n",
       "      <td>0.004077</td>\n",
       "    </tr>\n",
       "    <tr>\n",
       "      <th>14</th>\n",
       "      <td>2</td>\n",
       "      <td>1</td>\n",
       "      <td>1</td>\n",
       "      <td>3</td>\n",
       "      <td>total</td>\n",
       "      <td>(delayed-nu-fission / (decay-rate / delayed-nu...</td>\n",
       "      <td>0.001063</td>\n",
       "      <td>0.001041</td>\n",
       "    </tr>\n",
       "    <tr>\n",
       "      <th>15</th>\n",
       "      <td>2</td>\n",
       "      <td>1</td>\n",
       "      <td>1</td>\n",
       "      <td>4</td>\n",
       "      <td>total</td>\n",
       "      <td>(delayed-nu-fission / (decay-rate / delayed-nu...</td>\n",
       "      <td>0.000982</td>\n",
       "      <td>0.000694</td>\n",
       "    </tr>\n",
       "    <tr>\n",
       "      <th>16</th>\n",
       "      <td>2</td>\n",
       "      <td>1</td>\n",
       "      <td>1</td>\n",
       "      <td>5</td>\n",
       "      <td>total</td>\n",
       "      <td>(delayed-nu-fission / (decay-rate / delayed-nu...</td>\n",
       "      <td>0.000163</td>\n",
       "      <td>0.000128</td>\n",
       "    </tr>\n",
       "    <tr>\n",
       "      <th>17</th>\n",
       "      <td>2</td>\n",
       "      <td>1</td>\n",
       "      <td>1</td>\n",
       "      <td>6</td>\n",
       "      <td>total</td>\n",
       "      <td>(delayed-nu-fission / (decay-rate / delayed-nu...</td>\n",
       "      <td>0.000019</td>\n",
       "      <td>0.000027</td>\n",
       "    </tr>\n",
       "    <tr>\n",
       "      <th>18</th>\n",
       "      <td>2</td>\n",
       "      <td>2</td>\n",
       "      <td>1</td>\n",
       "      <td>1</td>\n",
       "      <td>total</td>\n",
       "      <td>(delayed-nu-fission / (decay-rate / delayed-nu...</td>\n",
       "      <td>0.004559</td>\n",
       "      <td>0.004463</td>\n",
       "    </tr>\n",
       "    <tr>\n",
       "      <th>19</th>\n",
       "      <td>2</td>\n",
       "      <td>2</td>\n",
       "      <td>1</td>\n",
       "      <td>2</td>\n",
       "      <td>total</td>\n",
       "      <td>(delayed-nu-fission / (decay-rate / delayed-nu...</td>\n",
       "      <td>0.010781</td>\n",
       "      <td>0.005396</td>\n",
       "    </tr>\n",
       "    <tr>\n",
       "      <th>20</th>\n",
       "      <td>2</td>\n",
       "      <td>2</td>\n",
       "      <td>1</td>\n",
       "      <td>3</td>\n",
       "      <td>total</td>\n",
       "      <td>(delayed-nu-fission / (decay-rate / delayed-nu...</td>\n",
       "      <td>0.002693</td>\n",
       "      <td>0.001366</td>\n",
       "    </tr>\n",
       "    <tr>\n",
       "      <th>21</th>\n",
       "      <td>2</td>\n",
       "      <td>2</td>\n",
       "      <td>1</td>\n",
       "      <td>4</td>\n",
       "      <td>total</td>\n",
       "      <td>(delayed-nu-fission / (decay-rate / delayed-nu...</td>\n",
       "      <td>0.002370</td>\n",
       "      <td>0.000919</td>\n",
       "    </tr>\n",
       "    <tr>\n",
       "      <th>22</th>\n",
       "      <td>2</td>\n",
       "      <td>2</td>\n",
       "      <td>1</td>\n",
       "      <td>5</td>\n",
       "      <td>total</td>\n",
       "      <td>(delayed-nu-fission / (decay-rate / delayed-nu...</td>\n",
       "      <td>0.000397</td>\n",
       "      <td>0.000263</td>\n",
       "    </tr>\n",
       "    <tr>\n",
       "      <th>23</th>\n",
       "      <td>2</td>\n",
       "      <td>2</td>\n",
       "      <td>1</td>\n",
       "      <td>6</td>\n",
       "      <td>total</td>\n",
       "      <td>(delayed-nu-fission / (decay-rate / delayed-nu...</td>\n",
       "      <td>0.000047</td>\n",
       "      <td>0.000036</td>\n",
       "    </tr>\n",
       "  </tbody>\n",
       "</table>\n",
       "</div>"
      ],
      "text/plain": [
       "   mesh 1       delayedgroup nuclide  \\\n",
       "        x  y  z                        \n",
       "0       1  1  1            1   total   \n",
       "1       1  1  1            2   total   \n",
       "2       1  1  1            3   total   \n",
       "3       1  1  1            4   total   \n",
       "4       1  1  1            5   total   \n",
       "5       1  1  1            6   total   \n",
       "6       1  2  1            1   total   \n",
       "7       1  2  1            2   total   \n",
       "8       1  2  1            3   total   \n",
       "9       1  2  1            4   total   \n",
       "10      1  2  1            5   total   \n",
       "11      1  2  1            6   total   \n",
       "12      2  1  1            1   total   \n",
       "13      2  1  1            2   total   \n",
       "14      2  1  1            3   total   \n",
       "15      2  1  1            4   total   \n",
       "16      2  1  1            5   total   \n",
       "17      2  1  1            6   total   \n",
       "18      2  2  1            1   total   \n",
       "19      2  2  1            2   total   \n",
       "20      2  2  1            3   total   \n",
       "21      2  2  1            4   total   \n",
       "22      2  2  1            5   total   \n",
       "23      2  2  1            6   total   \n",
       "\n",
       "                                                score     mean std. dev.  \n",
       "                                                                          \n",
       "0   (delayed-nu-fission / (decay-rate / delayed-nu... 1.66e-03  2.35e-03  \n",
       "1   (delayed-nu-fission / (decay-rate / delayed-nu... 3.82e-03  2.99e-03  \n",
       "2   (delayed-nu-fission / (decay-rate / delayed-nu... 9.74e-04  9.54e-04  \n",
       "3   (delayed-nu-fission / (decay-rate / delayed-nu... 8.68e-04  3.97e-04  \n",
       "4   (delayed-nu-fission / (decay-rate / delayed-nu... 1.49e-04  1.17e-04  \n",
       "5   (delayed-nu-fission / (decay-rate / delayed-nu... 1.77e-05  1.73e-05  \n",
       "6   (delayed-nu-fission / (decay-rate / delayed-nu... 4.83e-03  6.84e-03  \n",
       "7   (delayed-nu-fission / (decay-rate / delayed-nu... 1.15e-02  4.84e-03  \n",
       "8   (delayed-nu-fission / (decay-rate / delayed-nu... 2.82e-03  1.63e-03  \n",
       "9   (delayed-nu-fission / (decay-rate / delayed-nu... 2.55e-03  7.70e-04  \n",
       "10  (delayed-nu-fission / (decay-rate / delayed-nu... 4.22e-04  1.91e-04  \n",
       "11  (delayed-nu-fission / (decay-rate / delayed-nu... 4.97e-05  3.07e-05  \n",
       "12  (delayed-nu-fission / (decay-rate / delayed-nu... 1.81e-03  2.56e-03  \n",
       "13  (delayed-nu-fission / (decay-rate / delayed-nu... 4.16e-03  4.08e-03  \n",
       "14  (delayed-nu-fission / (decay-rate / delayed-nu... 1.06e-03  1.04e-03  \n",
       "15  (delayed-nu-fission / (decay-rate / delayed-nu... 9.82e-04  6.94e-04  \n",
       "16  (delayed-nu-fission / (decay-rate / delayed-nu... 1.63e-04  1.28e-04  \n",
       "17  (delayed-nu-fission / (decay-rate / delayed-nu... 1.94e-05  2.75e-05  \n",
       "18  (delayed-nu-fission / (decay-rate / delayed-nu... 4.56e-03  4.46e-03  \n",
       "19  (delayed-nu-fission / (decay-rate / delayed-nu... 1.08e-02  5.40e-03  \n",
       "20  (delayed-nu-fission / (decay-rate / delayed-nu... 2.69e-03  1.37e-03  \n",
       "21  (delayed-nu-fission / (decay-rate / delayed-nu... 2.37e-03  9.19e-04  \n",
       "22  (delayed-nu-fission / (decay-rate / delayed-nu... 3.97e-04  2.63e-04  \n",
       "23  (delayed-nu-fission / (decay-rate / delayed-nu... 4.66e-05  3.65e-05  "
      ]
     },
     "execution_count": 24,
     "metadata": {},
     "output_type": "execute_result"
    }
   ],
   "source": [
    "# Create a tally object with only the delayed group filter for the time constants\n",
    "delayed_nu_fission = solver.mgxs_lib['START']['delayed-nu-fission']\n",
    "decay_rate = solver.mgxs_lib['START']['decay-rate']\n",
    "\n",
    "# Use tally arithmetic to compute the precursor concentrations\n",
    "precursor_conc = delayed_nu_fission.get_condensed_xs(one_group).tallies['delayed-nu-fission'].summation(filter_type='energy', remove_filter=True) / \\\n",
    "    decay_rate.xs_tally.summation(filter_type='energy', remove_filter=True) / solver.k_crit\n",
    "\n",
    "# The difference is a derived tally which can generate Pandas DataFrames for inspection\n",
    "precursor_conc.get_pandas_dataframe()"
   ]
  },
  {
   "cell_type": "code",
   "execution_count": null,
   "metadata": {
    "collapsed": true
   },
   "outputs": [],
   "source": []
  }
 ],
 "metadata": {
  "kernelspec": {
   "display_name": "Python 2",
   "language": "python",
   "name": "python2"
  },
  "language_info": {
   "codemirror_mode": {
    "name": "ipython",
    "version": 2
   },
   "file_extension": ".py",
   "mimetype": "text/x-python",
   "name": "python",
   "nbconvert_exporter": "python",
   "pygments_lexer": "ipython2",
   "version": "2.7.12"
  }
 },
 "nbformat": 4,
 "nbformat_minor": 0
}
