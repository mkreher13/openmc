{
 "cells": [
  {
   "cell_type": "markdown",
   "metadata": {},
   "source": [
    "This IPython Notebook introduces the use of the `openmc.kinetics` module to perform a transient simulation on an infinite homogeneous medium. In particular, this Notebook introduces the the following features:\n",
    "\n",
    "* Initialization of the openmc.kinetics solver for an **infinite homogeneous medium**\n",
    "* Executing the initial calculation to compute the initial reactor state.\n",
    "* Extracting the cross sections at the initial state.\n",
    "* Computation of the initial delayed neutron precursor concentrations.\n",
    "* Normalization of the flux and precursor concentrations to an initial power level.\n",
    "* Computation of the point kinetics parameters.\n",
    "\n",
    "**Note:** This Notebook illustrates the use of [Pandas](http://pandas.pydata.org/) `DataFrames` to containerize multi-group cross section data. We recommend using [Pandas](http://pandas.pydata.org/) >v0.15.0 or later since OpenMC's Python API leverages the multi-indexing feature included in the most recent releases of [Pandas](http://pandas.pydata.org/)."
   ]
  },
  {
   "cell_type": "markdown",
   "metadata": {},
   "source": [
    "## Introduction to Kinetics (openmc.kinetics)"
   ]
  },
  {
   "cell_type": "markdown",
   "metadata": {},
   "source": [
    "Many Monte Carlo particle transport codes, including OpenMC, compute fixed source and eigenvalue solutions to the neutron flux in a reactor. However, many problems are time dependent and users have in interest in explicitly modeling the change of the reactor over time. Often the reactor is condensed down to a OD point, and the kinetic equations are propagated forward using the \"point kinetic equations\". In this notebook, we show how to set up a kinetics problem in OpenMC and compute the initial point kinetic parameters."
   ]
  },
  {
   "cell_type": "markdown",
   "metadata": {},
   "source": [
    "The `openmc.kinetics` Python module is designed to leverage OpenMC's tally system to calculate the necessary multi-group cross sections and parameters with arbitrary energy group structures and spatial meshes for low-order operator transient neutron transport applications.\n",
    "\n",
    "Before proceeding to illustrate how one may use the `openmc.kinetics` module, it is worthwhile to define the general equations used to calculate kinetics parameters. This is only intended as a brief overview of the methodology used by `openmc.kinetics` - we refer the interested reader to the large body of literature on the subject for a more comprehensive understanding of this complex topic."
   ]
  },
  {
   "cell_type": "markdown",
   "metadata": {},
   "source": [
    "### Introductory Notation\n",
    "The continuous real-valued microscopic cross section may be denoted $\\sigma_{n,x}(\\mathbf{r}, E)$ for position vector $\\mathbf{r}$, energy $E$, nuclide $n$ and interaction type $x$. Similarly, the scalar neutron flux may be denoted by $\\Phi(\\mathbf{r},E)$ for position $\\mathbf{r}$ and energy $E$. **Note**: Although nuclear cross sections are dependent on the temperature $T$ of the interacting medium, the temperature variable is neglected here for brevity."
   ]
  },
  {
   "cell_type": "markdown",
   "metadata": {},
   "source": [
    "### Spatial and Energy Discretization\n",
    "The energy domain for critical systems such as thermal reactors spans more than 10 orders of magnitude of neutron energies from 10$^{-5}$ - 10$^7$ eV. The multi-group approximation discretization divides this energy range into one or more energy groups. In particular, for $G$ total groups, we denote an energy group index $g$ such that $g \\in \\{1, 2, ..., G\\}$. The energy group indices are defined such that the smaller group the higher the energy, and vice versa. The integration over neutron energies across a discrete energy group is commonly referred to as **energy condensation**.\n",
    "\n",
    "The delayed neutrons created from fissions are created from > 30 delayed neutron precursors. Modeling each of the delayed neutron precursors is possible, but this approach has not recieved much attention due to large uncertainties in certain precursors. Therefore, the delayed neutrons are often combined into \"delayed groups\" that have a set time constant, $\\lambda_d$. Some cross section libraries use the same group time constants for all nuclides (e.g. JEFF 3.1) while other libraries use different time constants for all nuclides (e.g. ENDF/B-VII.1). Multi-delayed-group cross sections can either be created with the entire delayed group set, a subset of delayed groups, or integrated over all delayed groups.\n",
    "\n",
    "Multi-group cross sections are computed for discretized spatial zones in the geometry of interest. The spatial zones may be defined on a structured and regular fuel assembly or pin cell mesh, an arbitrary unstructured mesh or the constructive solid geometry used by OpenMC. For a geometry with $K$ distinct spatial zones, we designate each spatial zone an index $k$ such that $k \\in \\{1, 2, ..., K\\}$. The volume of each spatial zone is denoted by $V_{k}$. The integration over discrete spatial zones is commonly referred to as **spatial homogenization**."
   ]
  },
  {
   "cell_type": "markdown",
   "metadata": {},
   "source": [
    "### General Scalar-Flux Weighted MDGXS\n",
    "The multi-group cross sections computed by `openmc.mgxs` are defined as a *scalar flux-weighted average* of the microscopic cross sections across each discrete energy group. This formulation is employed in order to preserve the reaction rates within each energy group and spatial zone. In particular, spatial homogenization and energy condensation are used to compute the general multi-group cross section. For instance, the delayed-nu-fission multi-energy-group and multi-delayed-group cross section, $\\nu_d \\sigma_{f,x,k,g}$, can be computed as follows:\n",
    "\n",
    "$$\\nu_d \\sigma_{n,x,k,g} = \\frac{\\int_{E_{g}}^{E_{g-1}}\\mathrm{d}E'\\int_{\\mathbf{r} \\in V_{k}}\\mathrm{d}\\mathbf{r} \\nu_d \\sigma_{f,x}(\\mathbf{r},E')\\Phi(\\mathbf{r},E')}{\\int_{E_{g}}^{E_{g-1}}\\mathrm{d}E'\\int_{\\mathbf{r} \\in V_{k}}\\mathrm{d}\\mathbf{r}\\Phi(\\mathbf{r},E')}$$\n",
    "\n",
    "This scalar flux-weighted average microscopic cross section is computed by `openmc.mgxs` for only the delayed-nu-fission and delayed neutron fraction reaction type at the moment. These double integrals are stochastically computed with OpenMC's tally system - in particular, [filters](https://mit-crpg.github.io/openmc/pythonapi/filter.html) on the energy range and spatial zone (material, cell, universe, or mesh) define the bounds of integration for both numerator and denominator."
   ]
  },
  {
   "cell_type": "markdown",
   "metadata": {},
   "source": [
    "### Multi-Group Prompt and Delayed Fission Spectrum\n",
    "The energy spectrum of neutrons emitted from fission is denoted by $\\chi_{n}(\\mathbf{r},E' \\rightarrow E'')$ for incoming and outgoing energies $E'$ and $E''$, respectively. Unlike the multi-group cross sections $\\sigma_{n,x,k,g}$ considered up to this point, the fission spectrum is a probability distribution and must sum to unity. The outgoing energy is typically much less dependent on the incoming energy for fission than for scattering interactions. As a result, it is common practice to integrate over the incoming neutron energy when computing the multi-group fission spectrum. The fission spectrum may be simplified as $\\chi_{n}(\\mathbf{r},E)$ with outgoing energy $E$.\n",
    "\n",
    "Computing the cumulative energy spectrum of emitted neutrons, $\\chi_{n}(\\mathbf{r},E)$, has been presented in the `mgxs-part-i.ipynb` notebook. Here, we will present the energy spectrum of prompt and delayed emission neutrons, $\\chi_{n,p}(\\mathbf{r},E)$ and $\\chi_{n,d}(\\mathbf{r},E)$, respectively. Unlike the multi-group cross sections defined up to this point, the multi-group fission spectrum is weighted by the fission production rate rather than the scalar flux. This formulation is intended to preserve the total fission production rate in the multi-group deterministic calculation. In order to mathematically define the multi-group fission spectrum, we denote the microscopic fission cross section as $\\sigma_{n,f}(\\mathbf{r},E)$ and the average number of neutrons emitted from fission interactions with nuclide $n$ as $\\nu_{n,p}(\\mathbf{r},E)$ and $\\nu_{n,d}(\\mathbf{r},E)$ for prompt and delayed neutrons, respectively. The multi-group fission spectrum $\\chi_{n,k,g,d}$ is then the probability of fission neutrons emitted into energy group $g$ and delayed group $d$. There are not prompt groups, so inserting $p$ in place of $d$ just denotes all prompt neutrons. \n",
    "\n",
    "Similar to before, spatial homogenization and energy condensation are used to find the multi-energy-group and multi-delayed-group fission spectrum $\\chi_{n,k,g,d}$ as follows:\n",
    "\n",
    "$$\\chi_{n,k,g',d} = \\frac{\\int_{E_{g'}}^{E_{g'-1}}\\mathrm{d}E''\\int_{0}^{\\infty}\\mathrm{d}E'\\int_{\\mathbf{r} \\in V_{k}}\\mathrm{d}\\mathbf{r}\\chi_{n,d}(\\mathbf{r},E'\\rightarrow E'')\\nu_{n,d}(\\mathbf{r},E')\\sigma_{n,f}(\\mathbf{r},E')\\Phi(\\mathbf{r},E')}{\\int_{0}^{\\infty}\\mathrm{d}E'\\int_{\\mathbf{r} \\in V_{k}}\\mathrm{d}\\mathbf{r}\\nu_{n,d}(\\mathbf{r},E')\\sigma_{n,f}(\\mathbf{r},E')\\Phi(\\mathbf{r},E')}$$\n",
    "\n",
    "The fission production-weighted multi-energy-group and multi-delayed-group fission spectrum for delayed neutrons is computed using OpenMC tallies with energy in, energy out, and delayed group filters. Alternatively, the delayed group filter can be omitted to compute the fission spectrum integrated over all delayed groups.\n",
    "\n",
    "This concludes our brief overview on the methodology to compute multi-energy-group and multi-delayed-group cross sections. The following sections detail more concretely how users may employ the `openmc.mgxs` module to power simulation workflows requiring multi-group cross sections for downstream deterministic calculations."
   ]
  },
  {
   "cell_type": "markdown",
   "metadata": {},
   "source": [
    "## Generate Input Files"
   ]
  },
  {
   "cell_type": "code",
   "execution_count": 1,
   "metadata": {
    "collapsed": false
   },
   "outputs": [],
   "source": [
    "from IPython.display import Image\n",
    "%matplotlib inline\n",
    "import numpy as np\n",
    "import matplotlib.pyplot as plt\n",
    "import scipy.sparse as sps\n",
    "from scipy.sparse.linalg import spsolve\n",
    "\n",
    "import openmc\n",
    "import openmc.mgxs as mgxs\n",
    "import openmc.kinetics as kinetics"
   ]
  },
  {
   "cell_type": "markdown",
   "metadata": {},
   "source": [
    "First we need to define materials that will be used in the problem. Before defining a material, we must create nuclides that are used in the material."
   ]
  },
  {
   "cell_type": "code",
   "execution_count": 2,
   "metadata": {
    "collapsed": false
   },
   "outputs": [],
   "source": [
    "# Instantiate some Nuclides\n",
    "h1 = openmc.Nuclide('H1')\n",
    "o16 = openmc.Nuclide('O16')\n",
    "u235 = openmc.Nuclide('U235')\n",
    "u238 = openmc.Nuclide('U238')\n",
    "pu239 = openmc.Nuclide('Pu239')\n",
    "zr90 = openmc.Nuclide('Zr90')"
   ]
  },
  {
   "cell_type": "markdown",
   "metadata": {},
   "source": [
    "With the nuclides we defined, we will now create a material for the homogeneous medium."
   ]
  },
  {
   "cell_type": "code",
   "execution_count": 3,
   "metadata": {
    "collapsed": false
   },
   "outputs": [],
   "source": [
    "# Instantiate a Material and register the Nuclides\n",
    "inf_medium = openmc.Material(name='moderator')\n",
    "inf_medium.set_density('g/cc', 5.)\n",
    "inf_medium.add_nuclide(h1,  0.03)\n",
    "inf_medium.add_nuclide(o16, 0.015)\n",
    "inf_medium.add_nuclide(u235 , 0.0001)\n",
    "inf_medium.add_nuclide(u238 , 0.007)\n",
    "inf_medium.add_nuclide(pu239, 0.00003)\n",
    "inf_medium.add_nuclide(zr90, 0.002)"
   ]
  },
  {
   "cell_type": "markdown",
   "metadata": {},
   "source": [
    "With our material, we can now create a `Materials` object that can be exported to an actual XML file."
   ]
  },
  {
   "cell_type": "code",
   "execution_count": 4,
   "metadata": {
    "collapsed": false
   },
   "outputs": [],
   "source": [
    "# Instantiate a Materials collection and export to XML\n",
    "materials_file = openmc.Materials([inf_medium])\n",
    "materials_file.default_xs = '71c'"
   ]
  },
  {
   "cell_type": "markdown",
   "metadata": {},
   "source": [
    "Now let's move on to the geometry. This problem will be a simple square cell with reflective boundary conditions to simulate an infinite homogeneous medium. The first step is to create the outer bounding surfaces of the problem."
   ]
  },
  {
   "cell_type": "code",
   "execution_count": 5,
   "metadata": {
    "collapsed": false
   },
   "outputs": [],
   "source": [
    "# Instantiate boundary Planes\n",
    "min_x = openmc.XPlane(boundary_type='vacuum', x0=-50.0)\n",
    "max_x = openmc.XPlane(boundary_type='reflective', x0= 50.0)\n",
    "min_y = openmc.YPlane(boundary_type='reflective', y0=-50.0)\n",
    "max_y = openmc.YPlane(boundary_type='reflective', y0= 50.0)\n",
    "min_z = openmc.ZPlane(boundary_type='reflective', z0=-50.0)\n",
    "max_z = openmc.ZPlane(boundary_type='reflective', z0= 50.0)"
   ]
  },
  {
   "cell_type": "markdown",
   "metadata": {},
   "source": [
    "With the surfaces defined, we can now create a cell that is defined by intersections of half-spaces created by the surfaces."
   ]
  },
  {
   "cell_type": "code",
   "execution_count": 6,
   "metadata": {
    "collapsed": false
   },
   "outputs": [],
   "source": [
    "# Instantiate a Cell\n",
    "cell = openmc.Cell(cell_id=1, name='cell')\n",
    "\n",
    "# Register bounding Surfaces with the Cell\n",
    "cell.region = +min_x & -max_x & +min_y & -max_y & +min_z & -max_z\n",
    "\n",
    "# Fill the Cell with the Material\n",
    "cell.fill = inf_medium"
   ]
  },
  {
   "cell_type": "markdown",
   "metadata": {},
   "source": [
    "OpenMC requires that there is a \"root\" universe. Let us create a root universe and add our square cell to it."
   ]
  },
  {
   "cell_type": "code",
   "execution_count": 7,
   "metadata": {
    "collapsed": false
   },
   "outputs": [],
   "source": [
    "# Instantiate Universe\n",
    "root_universe = openmc.Universe(universe_id=0, name='root universe')\n",
    "root_universe.add_cell(cell)"
   ]
  },
  {
   "cell_type": "markdown",
   "metadata": {},
   "source": [
    "We now must create a geometry that is assigned a root universe and export it to XML."
   ]
  },
  {
   "cell_type": "code",
   "execution_count": 8,
   "metadata": {
    "collapsed": false
   },
   "outputs": [],
   "source": [
    "# Create Geometry and set root Universe\n",
    "openmc_geometry = openmc.Geometry()\n",
    "openmc_geometry.root_universe = root_universe"
   ]
  },
  {
   "cell_type": "markdown",
   "metadata": {},
   "source": [
    "Next, we must define simulation parameters. In this case, we will use 10 inactive batches and 40 active batches each with 2500 particles."
   ]
  },
  {
   "cell_type": "code",
   "execution_count": 9,
   "metadata": {
    "collapsed": false
   },
   "outputs": [],
   "source": [
    "# OpenMC simulation parameters\n",
    "batches = 100\n",
    "inactive = 50\n",
    "particles = 2500\n",
    "\n",
    "# Instantiate a Settings object\n",
    "settings_file = openmc.Settings()\n",
    "settings_file.batches = batches\n",
    "settings_file.inactive = inactive\n",
    "settings_file.particles = particles\n",
    "settings_file.output = {'tallies': True}\n",
    "\n",
    "# Create an initial uniform spatial source distribution over fissionable zones\n",
    "bounds = [-50.0, -50.0, -50.0, 50.0, 50.0, 50.0]\n",
    "uniform_dist = openmc.stats.Box(bounds[:3], bounds[3:], only_fissionable=True)\n",
    "settings_file.source = openmc.source.Source(space=uniform_dist)"
   ]
  },
  {
   "cell_type": "markdown",
   "metadata": {},
   "source": [
    "Now we are ready to generate multi-group cross sections! First, let's define a 100-energy-group structure and 1-energy-group structure using the built-in `EnergyGroups` class. We will also create a 6-delayed-group list."
   ]
  },
  {
   "cell_type": "code",
   "execution_count": 10,
   "metadata": {
    "collapsed": false
   },
   "outputs": [],
   "source": [
    "# Instantiate a 50-group EnergyGroups object\n",
    "fine_groups = mgxs.EnergyGroups()\n",
    "fine_groups.group_edges = np.logspace(-10,1.4,21)\n",
    "\n",
    "# Instantiate a 2-group EnergyGroups object\n",
    "energy_groups = mgxs.EnergyGroups()\n",
    "energy_groups.group_edges = [fine_groups.group_edges[0],  fine_groups.group_edges[10], fine_groups.group_edges[-1]]\n",
    "#energy_groups.group_edges = [fine_groups.group_edges[0], fine_groups.group_edges[-1]]\n",
    "\n",
    "# Instantiate a 1-group EnergyGroups object\n",
    "one_group = mgxs.EnergyGroups()\n",
    "one_group.group_edges = [fine_groups.group_edges[0], fine_groups.group_edges[-1]]"
   ]
  },
  {
   "cell_type": "markdown",
   "metadata": {},
   "source": [
    "We can now use the `EnergyGroups` object and delayed group list, along with our previously created materials and geometry, to create some `MGXS` libraries for the transient solve using the `openmc.kinetics` module. In particular, the kinetics module will create libraries with the following `MGXS`:\n",
    "\n",
    "* `TotalXS`\n",
    "* `TransportXS`\n",
    "* `AbsorptionXS`\n",
    "* `KappaFissionXS`\n",
    "* `NuScatterMatrixXS`\n",
    "* `NuScatterXS`\n",
    "* `ChiPrompt`\n",
    "* `InverseVelocity`\n",
    "* `PromptNuFissionXS`\n",
    "* `DelayedNuFissionXS`\n",
    "* `NuFissionXS`\n",
    "* `ChiDelayed`\n",
    "* `Chi`\n",
    "* `Beta`\n",
    "\n",
    "These classes provide us with an interface to generate the tally inputs as well as perform post-processing of OpenMC's tally data to compute the respective multi-group cross sections. "
   ]
  },
  {
   "cell_type": "code",
   "execution_count": 11,
   "metadata": {
    "collapsed": false
   },
   "outputs": [],
   "source": [
    "# Instantiate a mesh object\n",
    "mesh = openmc.Mesh(mesh_id=1)\n",
    "mesh.type = 'regular'\n",
    "mesh.dimension = [1, 1, 1]\n",
    "mesh.lower_left = bounds[:3]\n",
    "mesh.width = [(bounds[3] - bounds[0])/mesh.dimension[0],\n",
    "              (bounds[4] - bounds[1])/mesh.dimension[1],\n",
    "              (bounds[5] - bounds[2])/mesh.dimension[2]]\n",
    "\n",
    "\n",
    "# Instantiate a kinetics solver object\n",
    "solver = openmc.kinetics.Solver()\n",
    "solver.num_delayed_groups = 6\n",
    "solver.mesh           = mesh\n",
    "solver.one_group      = one_group\n",
    "solver.energy_groups  = energy_groups\n",
    "solver.fine_groups    = fine_groups\n",
    "solver.geometry       = openmc_geometry\n",
    "solver.settings_file  = settings_file\n",
    "solver.materials_file = materials_file\n",
    "solver.initialize_mgxs()"
   ]
  },
  {
   "cell_type": "markdown",
   "metadata": {},
   "source": [
    "Each multi-group cross section object stores its tallies in a Python dictionary called `tallies`. We can inspect the tallies in the dictionary for our `Beta` object as follows. "
   ]
  },
  {
   "cell_type": "code",
   "execution_count": 12,
   "metadata": {
    "collapsed": false
   },
   "outputs": [
    {
     "data": {
      "text/plain": [
       "OrderedDict([('delayed-nu-fission-in', Tally\n",
       "              \tID             =\t10000\n",
       "              \tName           =\tSTART - chi-delayed\n",
       "              \tFilters        =\t\n",
       "                              \t\tmesh\t[1]\n",
       "                              \t\tenergy\t[  1.00000000e-10   2.51188643e+01]\n",
       "              \tNuclides       =\ttotal \n",
       "              \tScores         =\t['delayed-nu-fission']\n",
       "              \tEstimator      =\tanalog), ('delayed-nu-fission-out', Tally\n",
       "              \tID             =\t10001\n",
       "              \tName           =\tSTART - chi-delayed\n",
       "              \tFilters        =\t\n",
       "                              \t\tmesh\t[1]\n",
       "                              \t\tenergyout\t[  1.00000000e-10   5.01187234e-05   2.51188643e+01]\n",
       "              \tNuclides       =\ttotal \n",
       "              \tScores         =\t['delayed-nu-fission']\n",
       "              \tEstimator      =\tanalog)])"
      ]
     },
     "execution_count": 12,
     "metadata": {},
     "output_type": "execute_result"
    }
   ],
   "source": [
    "solver.mgxs_lib['START']['chi-delayed'].tallies"
   ]
  },
  {
   "cell_type": "markdown",
   "metadata": {},
   "source": [
    "The `Beta` object includes tracklength tallies for the 'nu-fission' and 'delayed-nu-fission' scores in the 100-energy-group and 6-delayed-group structure in cell 1. Now that each `MGXS` and `MDGXS` object contains the tallies that it needs, we must add these tallies to a `Tallies` object to generate the \"tallies.xml\" input file for OpenMC."
   ]
  },
  {
   "cell_type": "markdown",
   "metadata": {},
   "source": [
    "Now we a have a complete set of inputs, so we can go ahead and run our simulation."
   ]
  },
  {
   "cell_type": "code",
   "execution_count": 13,
   "metadata": {
    "collapsed": false
   },
   "outputs": [
    {
     "name": "stdout",
     "output_type": "stream",
     "text": [
      "\n",
      "                               %%%%%%%%%%%%%%%\n",
      "                          %%%%%%%%%%%%%%%%%%%%%%%%\n",
      "                       %%%%%%%%%%%%%%%%%%%%%%%%%%%%%%\n",
      "                     %%%%%%%%%%%%%%%%%%%%%%%%%%%%%%%%%%\n",
      "                   %%%%%%%%%%%%%%%%%%%%%%%%%%%%%%%%%%%%%%\n",
      "                  %%%%%%%%%%%%%%%%%%%%%%%%%%%%%%%%%%%%%%%%\n",
      "                                   %%%%%%%%%%%%%%%%%%%%%%%%\n",
      "                                    %%%%%%%%%%%%%%%%%%%%%%%%\n",
      "                ###############      %%%%%%%%%%%%%%%%%%%%%%%%\n",
      "               ##################     %%%%%%%%%%%%%%%%%%%%%%%\n",
      "               ###################     %%%%%%%%%%%%%%%%%%%%%%%\n",
      "               ####################     %%%%%%%%%%%%%%%%%%%%%%\n",
      "               #####################     %%%%%%%%%%%%%%%%%%%%%\n",
      "               ######################     %%%%%%%%%%%%%%%%%%%%\n",
      "               #######################     %%%%%%%%%%%%%%%%%%\n",
      "                #######################     %%%%%%%%%%%%%%%%%\n",
      "                ######################     %%%%%%%%%%%%%%%%%\n",
      "                 ####################     %%%%%%%%%%%%%%%%%\n",
      "                   #################     %%%%%%%%%%%%%%%%%\n",
      "                    ###############     %%%%%%%%%%%%%%%%\n",
      "                      ############     %%%%%%%%%%%%%%%\n",
      "                         ########     %%%%%%%%%%%%%%\n",
      "                                     %%%%%%%%%%%\n",
      "\n",
      "                   | The OpenMC Monte Carlo Code\n",
      "         Copyright | 2011-2016 Massachusetts Institute of Technology\n",
      "           License | http://openmc.readthedocs.io/en/latest/license.html\n",
      "           Version | 0.8.0\n",
      "          Git SHA1 | 1daf6ae32dd70907d1c6d6ba83ec7bdaa0c7ccf7\n",
      "         Date/Time | 2016-08-27 15:16:15\n",
      "     MPI Processes | 8\n",
      "\n",
      " ===========================================================================\n",
      " ========================>     INITIALIZATION     <=========================\n",
      " ===========================================================================\n",
      "\n",
      " Reading settings XML file...\n",
      " Reading geometry XML file...\n",
      " Reading cross sections XML file...\n",
      " Reading materials XML file...\n",
      " Reading H1.71c from /Users/sam/git/openmc-sam/data/nndc_hdf5/H1_71c.h5\n",
      " Reading O16.71c from /Users/sam/git/openmc-sam/data/nndc_hdf5/O16_71c.h5\n",
      " Reading U235.71c from /Users/sam/git/openmc-sam/data/nndc_hdf5/U235_71c.h5\n",
      " Reading U238.71c from /Users/sam/git/openmc-sam/data/nndc_hdf5/U238_71c.h5\n",
      " Reading Pu239.71c from /Users/sam/git/openmc-sam/data/nndc_hdf5/Pu239_71c.h5\n",
      " Reading Zr90.71c from /Users/sam/git/openmc-sam/data/nndc_hdf5/Zr90_71c.h5\n",
      " Maximum neutron transport energy: 20.0000 MeV for H1.71c\n",
      " Reading tallies XML file...\n",
      " WARNING: A delayedgroup filter was used on a total nuclide tally. Cross section\n",
      "          libraries are not guaranteed to have the same delayed group structure\n",
      "          across all isotopes. In particular, ENDF/B-VII.1 does not have a\n",
      "          consistent delayed group structure across all isotopes while the JEFF\n",
      "          3.1.1 library has the same delayed group structure across all\n",
      "          isotopes. Use with caution!\n",
      " WARNING: A delayedgroup filter was used on a total nuclide tally. Cross section\n",
      "          libraries are not guaranteed to have the same delayed group structure\n",
      "          across all isotopes. In particular, ENDF/B-VII.1 does not have a\n",
      "          consistent delayed group structure across all isotopes while the JEFF\n",
      "          3.1.1 library has the same delayed group structure across all\n",
      "          isotopes. Use with caution!\n",
      " WARNING: A delayedgroup filter was used on a total nuclide tally. Cross section\n",
      "          libraries are not guaranteed to have the same delayed group structure\n",
      "          across all isotopes. In particular, ENDF/B-VII.1 does not have a\n",
      "          consistent delayed group structure across all isotopes while the JEFF\n",
      "          3.1.1 library has the same delayed group structure across all\n",
      "          isotopes. Use with caution!\n",
      " WARNING: A delayedgroup filter was used on a total nuclide tally. Cross section\n",
      "          libraries are not guaranteed to have the same delayed group structure\n",
      "          across all isotopes. In particular, ENDF/B-VII.1 does not have a\n",
      "          consistent delayed group structure across all isotopes while the JEFF\n",
      "          3.1.1 library has the same delayed group structure across all\n",
      "          isotopes. Use with caution!\n",
      " WARNING: A delayedgroup filter was used on a total nuclide tally. Cross section\n",
      "          libraries are not guaranteed to have the same delayed group structure\n",
      "          across all isotopes. In particular, ENDF/B-VII.1 does not have a\n",
      "          consistent delayed group structure across all isotopes while the JEFF\n",
      "          3.1.1 library has the same delayed group structure across all\n",
      "          isotopes. Use with caution!\n",
      " WARNING: A delayedgroup filter was used on a total nuclide tally. Cross section\n",
      "          libraries are not guaranteed to have the same delayed group structure\n",
      "          across all isotopes. In particular, ENDF/B-VII.1 does not have a\n",
      "          consistent delayed group structure across all isotopes while the JEFF\n",
      "          3.1.1 library has the same delayed group structure across all\n",
      "          isotopes. Use with caution!\n",
      " WARNING: A delayedgroup filter was used on a total nuclide tally. Cross section\n",
      "          libraries are not guaranteed to have the same delayed group structure\n",
      "          across all isotopes. In particular, ENDF/B-VII.1 does not have a\n",
      "          consistent delayed group structure across all isotopes while the JEFF\n",
      "          3.1.1 library has the same delayed group structure across all\n",
      "          isotopes. Use with caution!\n",
      " WARNING: A delayedgroup filter was used on a total nuclide tally. Cross section\n",
      "          libraries are not guaranteed to have the same delayed group structure\n",
      "          across all isotopes. In particular, ENDF/B-VII.1 does not have a\n",
      "          consistent delayed group structure across all isotopes while the JEFF\n",
      "          3.1.1 library has the same delayed group structure across all\n",
      "          isotopes. Use with caution!\n",
      " WARNING: A delayedgroup filter was used on a total nuclide tally. Cross section\n",
      "          libraries are not guaranteed to have the same delayed group structure\n",
      "          across all isotopes. In particular, ENDF/B-VII.1 does not have a\n",
      "          consistent delayed group structure across all isotopes while the JEFF\n",
      "          3.1.1 library has the same delayed group structure across all\n",
      "          isotopes. Use with caution!\n",
      " WARNING: A delayedgroup filter was used on a total nuclide tally. Cross section\n",
      "          libraries are not guaranteed to have the same delayed group structure\n",
      "          across all isotopes. In particular, ENDF/B-VII.1 does not have a\n",
      "          consistent delayed group structure across all isotopes while the JEFF\n",
      "          3.1.1 library has the same delayed group structure across all\n",
      "          isotopes. Use with caution!\n",
      " Building neighboring cells lists for each surface...\n",
      " WARNING: A delayedgroup filter was used on a total nuclide tally. Cross section\n",
      "          libraries are not guaranteed to have the same delayed group structure\n",
      "          across all isotopes. In particular, ENDF/B-VII.1 does not have a\n",
      "          consistent delayed group structure across all isotopes while the JEFF\n",
      "          3.1.1 library has the same delayed group structure across all\n",
      "          isotopes. Use with caution!\n",
      " WARNING: A delayedgroup filter was used on a total nuclide tally. Cross section\n",
      "          libraries are not guaranteed to have the same delayed group structure\n",
      "          across all isotopes. In particular, ENDF/B-VII.1 does not have a\n",
      "          consistent delayed group structure across all isotopes while the JEFF\n",
      "          3.1.1 library has the same delayed group structure across all\n",
      "          isotopes. Use with caution!\n",
      " WARNING: A delayedgroup filter was used on a total nuclide tally. Cross section\n",
      "          libraries are not guaranteed to have the same delayed group structure\n",
      "          across all isotopes. In particular, ENDF/B-VII.1 does not have a\n",
      "          consistent delayed group structure across all isotopes while the JEFF\n",
      "          3.1.1 library has the same delayed group structure across all\n",
      "          isotopes. Use with caution!\n",
      " WARNING: A delayedgroup filter was used on a total nuclide tally. Cross section\n",
      "          libraries are not guaranteed to have the same delayed group structure\n",
      "          across all isotopes. In particular, ENDF/B-VII.1 does not have a\n",
      "          consistent delayed group structure across all isotopes while the JEFF\n",
      "          3.1.1 library has the same delayed group structure across all\n",
      "          isotopes. Use with caution!\n",
      " WARNING: A delayedgroup filter was used on a total nuclide tally. Cross section\n",
      "          libraries are not guaranteed to have the same delayed group structure\n",
      "          across all isotopes. In particular, ENDF/B-VII.1 does not have a\n",
      "          consistent delayed group structure across all isotopes while the JEFF\n",
      "          3.1.1 library has the same delayed group structure across all\n",
      "          isotopes. Use with caution!\n",
      " WARNING: A delayedgroup filter was used on a total nuclide tally. Cross section\n",
      "          libraries are not guaranteed to have the same delayed group structure\n",
      "          across all isotopes. In particular, ENDF/B-VII.1 does not have a\n",
      "          consistent delayed group structure across all isotopes while the JEFF\n",
      "          3.1.1 library has the same delayed group structure across all\n",
      "          isotopes. Use with caution!\n",
      " WARNING: A delayedgroup filter was used on a total nuclide tally. Cross section\n",
      "          libraries are not guaranteed to have the same delayed group structure\n",
      "          across all isotopes. In particular, ENDF/B-VII.1 does not have a\n",
      "          consistent delayed group structure across all isotopes while the JEFF\n",
      "          3.1.1 library has the same delayed group structure across all\n",
      "          isotopes. Use with caution!\n",
      " WARNING: A delayedgroup filter was used on a total nuclide tally. Cross section\n",
      "          libraries are not guaranteed to have the same delayed group structure\n",
      "          across all isotopes. In particular, ENDF/B-VII.1 does not have a\n",
      "          consistent delayed group structure across all isotopes while the JEFF\n",
      "          3.1.1 library has the same delayed group structure across all\n",
      "          isotopes. Use with caution!\n",
      " WARNING: A delayedgroup filter was used on a total nuclide tally. Cross section\n",
      "          libraries are not guaranteed to have the same delayed group structure\n",
      "          across all isotopes. In particular, ENDF/B-VII.1 does not have a\n",
      "          consistent delayed group structure across all isotopes while the JEFF\n",
      "          3.1.1 library has the same delayed group structure across all\n",
      "          isotopes. Use with caution!\n",
      " WARNING: A delayedgroup filter was used on a total nuclide tally. Cross section\n",
      "          libraries are not guaranteed to have the same delayed group structure\n",
      "          across all isotopes. In particular, ENDF/B-VII.1 does not have a\n",
      "          consistent delayed group structure across all isotopes while the JEFF\n",
      "          3.1.1 library has the same delayed group structure across all\n",
      "          isotopes. Use with caution!\n",
      " WARNING: A delayedgroup filter was used on a total nuclide tally. Cross section\n",
      "          libraries are not guaranteed to have the same delayed group structure\n",
      "          across all isotopes. In particular, ENDF/B-VII.1 does not have a\n",
      "          consistent delayed group structure across all isotopes while the JEFF\n",
      "          3.1.1 library has the same delayed group structure across all\n",
      "          isotopes. Use with caution!\n",
      " WARNING: A delayedgroup filter was used on a total nuclide tally. Cross section\n",
      "          libraries are not guaranteed to have the same delayed group structure\n",
      "          across all isotopes. In particular, ENDF/B-VII.1 does not have a\n",
      "          consistent delayed group structure across all isotopes while the JEFF\n",
      "          3.1.1 library has the same delayed group structure across all\n",
      "          isotopes. Use with caution!\n",
      " WARNING: A delayedgroup filter was used on a total nuclide tally. Cross section\n",
      "          libraries are not guaranteed to have the same delayed group structure\n",
      "          across all isotopes. In particular, ENDF/B-VII.1 does not have a\n",
      "          consistent delayed group structure across all isotopes while the JEFF\n",
      "          3.1.1 library has the same delayed group structure across all\n",
      "          isotopes. Use with caution!\n",
      " WARNING: A delayedgroup filter was used on a total nuclide tally. Cross section\n",
      "          libraries are not guaranteed to have the same delayed group structure\n",
      "          across all isotopes. In particular, ENDF/B-VII.1 does not have a\n",
      "          consistent delayed group structure across all isotopes while the JEFF\n",
      "          3.1.1 library has the same delayed group structure across all\n",
      "          isotopes. Use with caution!\n",
      " Initializing source particles...\n",
      "\n",
      " ===========================================================================\n",
      " ====================>     K EIGENVALUE SIMULATION     <====================\n",
      " ===========================================================================\n",
      "\n",
      "  Bat./Gen.      k            Average k         \n",
      "  =========   ========   ====================   \n",
      " WARNING: A delayedgroup filter was used on a total nuclide tally. Cross section\n",
      "          libraries are not guaranteed to have the same delayed group structure\n",
      "          across all isotopes. In particular, ENDF/B-VII.1 does not have a\n",
      "          consistent delayed group structure across all isotopes while the JEFF\n",
      "          3.1.1 library has the same delayed group structure across all\n",
      "          isotopes. Use with caution!\n",
      " WARNING: A delayedgroup filter was used on a total nuclide tally. Cross section\n",
      "          libraries are not guaranteed to have the same delayed group structure\n",
      "          across all isotopes. In particular, ENDF/B-VII.1 does not have a\n",
      "          consistent delayed group structure across all isotopes while the JEFF\n",
      "          3.1.1 library has the same delayed group structure across all\n",
      "          isotopes. Use with caution!\n",
      " WARNING: A delayedgroup filter was used on a total nuclide tally. Cross section\n",
      "          libraries are not guaranteed to have the same delayed group structure\n",
      "          across all isotopes. In particular, ENDF/B-VII.1 does not have a\n",
      "          consistent delayed group structure across all isotopes while the JEFF\n",
      "          3.1.1 library has the same delayed group structure across all\n",
      "          isotopes. Use with caution!\n",
      " WARNING: A delayedgroup filter was used on a total nuclide tally. Cross section\n",
      "          libraries are not guaranteed to have the same delayed group structure\n",
      "          across all isotopes. In particular, ENDF/B-VII.1 does not have a\n",
      "          consistent delayed group structure across all isotopes while the JEFF\n",
      "          3.1.1 library has the same delayed group structure across all\n",
      "          isotopes. Use with caution!\n",
      " WARNING: A delayedgroup filter was used on a total nuclide tally. Cross section\n",
      "          libraries are not guaranteed to have the same delayed group structure\n",
      "          across all isotopes. In particular, ENDF/B-VII.1 does not have a\n",
      "          consistent delayed group structure across all isotopes while the JEFF\n",
      "          3.1.1 library has the same delayed group structure across all\n",
      "          isotopes. Use with caution!\n",
      " WARNING: A delayedgroup filter was used on a total nuclide tally. Cross section\n",
      "          libraries are not guaranteed to have the same delayed group structure\n",
      "          across all isotopes. In particular, ENDF/B-VII.1 does not have a\n",
      "          consistent delayed group structure across all isotopes while the JEFF\n",
      "          3.1.1 library has the same delayed group structure across all\n",
      "          isotopes. Use with caution!\n",
      " WARNING: A delayedgroup filter was used on a total nuclide tally. Cross section\n",
      "          libraries are not guaranteed to have the same delayed group structure\n",
      "          across all isotopes. In particular, ENDF/B-VII.1 does not have a\n",
      "          consistent delayed group structure across all isotopes while the JEFF\n",
      "          3.1.1 library has the same delayed group structure across all\n",
      "          isotopes. Use with caution!\n",
      " WARNING: A delayedgroup filter was used on a total nuclide tally. Cross section\n",
      "          libraries are not guaranteed to have the same delayed group structure\n",
      "          across all isotopes. In particular, ENDF/B-VII.1 does not have a\n",
      "          consistent delayed group structure across all isotopes while the JEFF\n",
      "          3.1.1 library has the same delayed group structure across all\n",
      "          isotopes. Use with caution!\n",
      "        1/1    1.25500                       \n",
      "        2/1    1.19412                       \n",
      "        3/1    1.33175                       \n",
      "        4/1    1.23820                       \n",
      "        5/1    1.23185                       \n",
      "        6/1    1.26732                       \n",
      "        7/1    1.19422                       \n",
      "        8/1    1.20605                       \n",
      "        9/1    1.17687                       \n",
      "       10/1    1.23676                       \n",
      "       11/1    1.25109                       \n",
      "       12/1    1.18314                       \n",
      "       13/1    1.20654                       \n",
      "       14/1    1.24237                       \n",
      "       15/1    1.21384                       \n",
      "       16/1    1.21783                       \n",
      "       17/1    1.22325                       \n",
      "       18/1    1.21659                       \n",
      "       19/1    1.22649                       \n",
      "       20/1    1.21280                       \n",
      "       21/1    1.21053                       \n",
      "       22/1    1.22404                       \n",
      "       23/1    1.23108                       \n",
      "       24/1    1.22566                       \n",
      "       25/1    1.23669                       \n",
      "       26/1    1.22221                       \n",
      "       27/1    1.18782                       \n",
      "       28/1    1.23800                       \n",
      "       29/1    1.19172                       \n",
      "       30/1    1.18077                       \n",
      "       31/1    1.22643                       \n",
      "       32/1    1.23528                       \n",
      "       33/1    1.20203                       \n",
      "       34/1    1.22318                       \n",
      "       35/1    1.24525                       \n",
      "       36/1    1.29179                       \n",
      "       37/1    1.20650                       \n",
      "       38/1    1.19796                       \n",
      "       39/1    1.20141                       \n",
      "       40/1    1.24553                       \n",
      "       41/1    1.23995                       \n",
      "       42/1    1.25622                       \n",
      "       43/1    1.20903                       \n",
      "       44/1    1.20492                       \n",
      "       45/1    1.23356                       \n",
      "       46/1    1.24733                       \n",
      "       47/1    1.17824                       \n",
      "       48/1    1.19669                       \n",
      "       49/1    1.25681                       \n",
      "       50/1    1.25363                       \n",
      "       51/1    1.18136                       \n",
      "       52/1    1.21360    1.19748 +/- 0.01612\n",
      "       53/1    1.22388    1.20628 +/- 0.01281\n",
      "       54/1    1.21322    1.20802 +/- 0.00922\n",
      "       55/1    1.19848    1.20611 +/- 0.00739\n",
      "       56/1    1.19330    1.20397 +/- 0.00640\n",
      "       57/1    1.24894    1.21040 +/- 0.00840\n",
      "       58/1    1.17564    1.20605 +/- 0.00847\n",
      "       59/1    1.21597    1.20716 +/- 0.00755\n",
      "       60/1    1.19656    1.20610 +/- 0.00684\n",
      "       61/1    1.21897    1.20727 +/- 0.00630\n",
      "       62/1    1.24282    1.21023 +/- 0.00647\n",
      "       63/1    1.19086    1.20874 +/- 0.00613\n",
      "       64/1    1.20822    1.20870 +/- 0.00568\n",
      "       65/1    1.29632    1.21454 +/- 0.00788\n",
      "       66/1    1.22981    1.21550 +/- 0.00743\n",
      "       67/1    1.18132    1.21349 +/- 0.00726\n",
      "       68/1    1.25954    1.21605 +/- 0.00731\n",
      "       69/1    1.26277    1.21851 +/- 0.00734\n",
      "       70/1    1.26509    1.22083 +/- 0.00734\n",
      "       71/1    1.21500    1.22056 +/- 0.00699\n",
      "       72/1    1.17125    1.21832 +/- 0.00703\n",
      "       73/1    1.19315    1.21722 +/- 0.00681\n",
      "       74/1    1.22656    1.21761 +/- 0.00653\n",
      "       75/1    1.22998    1.21811 +/- 0.00628\n",
      "       76/1    1.24706    1.21922 +/- 0.00614\n",
      "       77/1    1.18659    1.21801 +/- 0.00603\n",
      "       78/1    1.22552    1.21828 +/- 0.00581\n",
      "       79/1    1.26599    1.21992 +/- 0.00585\n",
      "       80/1    1.20736    1.21951 +/- 0.00566\n",
      "       81/1    1.21498    1.21936 +/- 0.00548\n",
      "       82/1    1.21431    1.21920 +/- 0.00531\n",
      "       83/1    1.20360    1.21873 +/- 0.00517\n",
      "       84/1    1.18427    1.21772 +/- 0.00511\n",
      "       85/1    1.20438    1.21733 +/- 0.00498\n",
      "       86/1    1.28731    1.21928 +/- 0.00522\n",
      "       87/1    1.22370    1.21940 +/- 0.00507\n",
      "       88/1    1.19640    1.21879 +/- 0.00498\n",
      "       89/1    1.20477    1.21843 +/- 0.00486\n",
      "       90/1    1.29267    1.22029 +/- 0.00509\n",
      "       91/1    1.23198    1.22057 +/- 0.00497\n",
      "       92/1    1.23757    1.22098 +/- 0.00487\n",
      "       93/1    1.16720    1.21973 +/- 0.00491\n",
      "       94/1    1.23407    1.22005 +/- 0.00481\n",
      "       95/1    1.22559    1.22018 +/- 0.00471\n",
      "       96/1    1.19487    1.21963 +/- 0.00464\n",
      "       97/1    1.19820    1.21917 +/- 0.00456\n",
      "       98/1    1.20402    1.21886 +/- 0.00447\n",
      "       99/1    1.18518    1.21817 +/- 0.00443\n",
      "      100/1    1.25260    1.21886 +/- 0.00440\n",
      " Creating state point statepoint.100.h5...\n",
      "\n",
      " ===========================================================================\n",
      " ======================>     SIMULATION FINISHED     <======================\n",
      " ===========================================================================\n",
      "\n",
      "\n",
      " =======================>     TIMING STATISTICS     <=======================\n",
      "\n",
      " Total time for initialization     =  1.1260E+00 seconds\n",
      "   Reading cross sections          =  6.3700E-01 seconds\n",
      " Total time in simulation          =  3.4121E+01 seconds\n",
      "   Time in transport only          =  3.2071E+01 seconds\n",
      "   Time in inactive batches        =  3.4630E+00 seconds\n",
      "   Time in active batches          =  3.0658E+01 seconds\n",
      "   Time synchronizing fission bank =  1.9100E+00 seconds\n",
      "     Sampling source sites         =  3.4000E-02 seconds\n",
      "     SEND/RECV source sites        =  2.0000E-03 seconds\n",
      "   Time accumulating tallies       =  3.1000E-02 seconds\n",
      " Total time for finalization       =  4.8000E-02 seconds\n",
      " Total time elapsed                =  3.5297E+01 seconds\n",
      " Calculation Rate (inactive)       =  36095.9 neutrons/second\n",
      " Calculation Rate (active)         =  4077.24 neutrons/second\n",
      "\n",
      " ============================>     RESULTS     <============================\n",
      "\n",
      " k-effective (Collision)     =  1.21663 +/-  0.00436\n",
      " k-effective (Track-length)  =  1.21886 +/-  0.00440\n",
      " k-effective (Absorption)    =  1.22409 +/-  0.00279\n",
      " Combined k-effective        =  1.22290 +/-  0.00282\n",
      " Leakage Fraction            =  0.00771 +/-  0.00029\n",
      "\n"
     ]
    }
   ],
   "source": [
    "# Remove old HDF5 (summary, statepoint) files\n",
    "#!rm statepoint.*\n",
    "\n",
    "# Run OpenMC\n",
    "solver.run_openmc('START')"
   ]
  },
  {
   "cell_type": "code",
   "execution_count": 14,
   "metadata": {
    "collapsed": false
   },
   "outputs": [
    {
     "name": "stdout",
     "output_type": "stream",
     "text": [
      "('balance k-eff: {0:1.6f}', '1.30686811994')\n",
      "linear solver iter 0 resid 0.00000e+00 k-eff 1.229531\n",
      "linear solver iter 1 resid 0.00000e+00 k-eff 1.229531\n",
      "linear solver iter 2 resid 0.00000e+00 k-eff 1.229531\n",
      "linear solver iter 3 resid 0.00000e+00 k-eff 1.229531\n",
      "linear solver iter 4 resid 0.00000e+00 k-eff 1.229531\n",
      "linear solver iter 5 resid 0.00000e+00 k-eff 1.229531\n",
      "linear solver iter 6 resid 0.00000e+00 k-eff 1.229531\n",
      "k-eff MC 1.222902 -- DIFFUSION 1.229531\n"
     ]
    }
   ],
   "source": [
    "solver.compute_initial_shape()"
   ]
  },
  {
   "cell_type": "code",
   "execution_count": 15,
   "metadata": {
    "collapsed": false
   },
   "outputs": [
    {
     "data": {
      "text/plain": [
       "<matplotlib.colorbar.Colorbar at 0x1142d5ad0>"
      ]
     },
     "execution_count": 15,
     "metadata": {},
     "output_type": "execute_result"
    },
    {
     "data": {
      "image/png": "[encoded data removed]",
      "text/plain": [
       "<matplotlib.figure.Figure at 0x10dc6a150>"
      ]
     },
     "metadata": {},
     "output_type": "display_data"
    }
   ],
   "source": [
    "flux = np.copy(solver.flux['START'])\n",
    "flux.shape = (mesh.dimension[0], mesh.dimension[1], mesh.dimension[2], energy_groups.num_groups)\n",
    "flux_plane = flux[:,:,0,:]\n",
    "\n",
    "plt.imshow(flux_plane[:,:,0],interpolation='none')\n",
    "plt.colorbar()"
   ]
  },
  {
   "cell_type": "markdown",
   "metadata": {},
   "source": [
    "OpenMC has generated all the cross sections we need. Now let's go about importing and inspecting them. First we will look at the diffusion coefficients. There are several different methods to compute the diffusion coefficients. In all cases, we first tally the total and transport cross sections on a fine energy mesh. Then we collapse either $\\Sigma_T$, $\\Sigma_{Tr}$, or $\\frac{1}{3 \\Sigma_{Tr}}$:\n",
    "\n",
    "* **Flux-weighted total cross section**: Collapse $\\Sigma_T$ and take the diffusion coefficient as $\\frac{1}{3 \\Sigma_T}$.\n",
    "* **Flux-weighted transport cross section**: Collapse $\\Sigma_{Tr}$ and take the diffusion coefficient as $\\frac{1}{3 \\Sigma_{Tr}}$.\n",
    "* **Flux-weighted diffusion coefficient**: Collapse $\\frac{1}{3 \\Sigma_{Tr}}$. \n",
    "\n",
    "As we can see from the plot below, the approximation has a large impact on the diffusion coefficients. In future analysis, we will be using the **flux-weighted diffusion coefficient**."
   ]
  },
  {
   "cell_type": "code",
   "execution_count": 16,
   "metadata": {
    "collapsed": false
   },
   "outputs": [
    {
     "data": {
      "text/plain": [
       "(0, 4)"
      ]
     },
     "execution_count": 16,
     "metadata": {},
     "output_type": "execute_result"
    },
    {
     "data": {
      "image/png": "[encoded data removed]",
      "text/plain": [
       "<matplotlib.figure.Figure at 0x1143ea9d0>"
      ]
     },
     "metadata": {},
     "output_type": "display_data"
    }
   ],
   "source": [
    "ng  = energy_groups.num_groups\n",
    "nfg = fine_groups.num_groups\n",
    "\n",
    "flux_wgt_total  = 1.0 / (3.0 * solver.mgxs_lib['START']['total'].get_xs().flatten())[range(ng)]\n",
    "flux_wgt_trans  = 1.0 / (3.0 * solver.mgxs_lib['START']['transport'].get_xs().flatten())[range(ng)]\n",
    "dif_coef_fine   = solver.mgxs_lib['START']['diffusion-coefficient'].get_xs().flatten()[range(nfg)]\n",
    "dif_coef_coarse = solver.mgxs_lib['START']['diffusion-coefficient'].get_condensed_xs(energy_groups).get_xs().flatten()[range(ng)]\n",
    "\n",
    "flux_wgt_total = np.append(flux_wgt_total, flux_wgt_total[0])\n",
    "flux_wgt_trans = np.append(flux_wgt_trans, flux_wgt_trans[0])\n",
    "dif_coef_fine = np.append(dif_coef_fine, dif_coef_fine[0])\n",
    "dif_coef_coarse = np.append(dif_coef_coarse, dif_coef_coarse[0])\n",
    "\n",
    "plt.figure()\n",
    "plt.semilogx(energy_groups.group_edges, flux_wgt_total, drawstyle='steps', color='m', linestyle='-', linewidth=3)\n",
    "plt.semilogx(energy_groups.group_edges, flux_wgt_trans, drawstyle='steps', color='r', linestyle='-', linewidth=3)\n",
    "plt.semilogx(fine_groups.group_edges, dif_coef_fine, drawstyle='steps', color='b', linestyle='-', linewidth=3)\n",
    "plt.semilogx(energy_groups.group_edges, dif_coef_coarse, drawstyle='steps', color='g', linestyle='-', linewidth=3)\n",
    "\n",
    "plt.title('Coarse and Fine Diffusion Coefficients')\n",
    "plt.legend(['flux wgt total', 'flux wgt trans', 'flux wgt dif fine', 'flux wgt dif coarse'])\n",
    "plt.xlabel('Energy (MeV)')\n",
    "plt.ylabel('Diffusion Coefficient')\n",
    "plt.ylim([0,4])"
   ]
  },
  {
   "cell_type": "markdown",
   "metadata": {},
   "source": [
    "Solving a transient problem requires that we form a balance equation with the streaming, prompt-fission, delayed-fission, absorption, and flux-time-derivative operators. The MGXS module tallies the cross sections based on their various filters, but the data format is not able to properly model the streaming operator so the data needs to be transformed from the filter-based arrangment to a matrix-based arrangement. To show what I mean, let's inspect the difusion coefficient data from the MGXS module and in our transformed matrix-form."
   ]
  },
  {
   "cell_type": "code",
   "execution_count": 17,
   "metadata": {
    "collapsed": false
   },
   "outputs": [
    {
     "data": {
      "text/plain": [
       "<matplotlib.lines.Line2D at 0x114744d90>"
      ]
     },
     "execution_count": 17,
     "metadata": {},
     "output_type": "execute_result"
    },
    {
     "data": {
      "image/png": "[encoded data removed]",
      "text/plain": [
       "<matplotlib.figure.Figure at 0x1143ea2d0>"
      ]
     },
     "metadata": {},
     "output_type": "display_data"
    }
   ],
   "source": [
    "outscatter = solver.mgxs_lib['START']['nu-scatter'].get_mean_matrix()\n",
    "inscatter = solver.mgxs_lib['START']['nu-scatter matrix'].get_mean_matrix()\n",
    "absorb = solver.mgxs_lib['START']['absorption'].get_mean_matrix()\n",
    "chi = solver.mgxs_lib['START']['chi'].get_mean_matrix()\n",
    "nu_fis = solver.mgxs_lib['START']['nu-fission'].get_mean_matrix()\n",
    "flux = solver.mgxs_lib['START']['absorption'].tallies['flux'].get_values().flatten()\n",
    "\n",
    "loss_matrix = absorb + outscatter - inscatter\n",
    "prod_matrix = chi * nu_fis\n",
    "fiss_rate = prod_matrix * flux\n",
    "\n",
    "fig = plt.figure()\n",
    "plt.subplot(1,2,1)\n",
    "plt.spy(loss_matrix, markersize=5)\n",
    "plt.subplot(1,2,2)\n",
    "plt.spy(prod_matrix, markersize=5)"
   ]
  },
  {
   "cell_type": "markdown",
   "metadata": {},
   "source": [
    "Now, we want to form the streaming operator. In order to do this, we need to compute the surface diffusion coefficient coefficients. Below is the plot of the surface diffusion coefficients for our 2x2 mesh with 2 energy groups:"
   ]
  },
  {
   "cell_type": "code",
   "execution_count": 18,
   "metadata": {
    "collapsed": false
   },
   "outputs": [
    {
     "data": {
      "text/plain": [
       "<matplotlib.lines.Line2D at 0x11453d050>"
      ]
     },
     "execution_count": 18,
     "metadata": {},
     "output_type": "execute_result"
    },
    {
     "data": {
      "image/png": "[encoded data removed]",
      "text/plain": [
       "<matplotlib.figure.Figure at 0x114510610>"
      ]
     },
     "metadata": {},
     "output_type": "display_data"
    }
   ],
   "source": [
    "sdc_corr_matrix = solver.compute_surface_dif_coefs_corr('START')\n",
    "\n",
    "fig = plt.figure()\n",
    "plt.spy(sdc_corr_matrix, markersize=5)"
   ]
  },
  {
   "cell_type": "markdown",
   "metadata": {},
   "source": [
    "In order to maintain balance between our diffusion and transport solves, we need to compute the surface diffusion coefficient correction terms. This is achieved by tallying the currents between coarse mesh cells and computing the correction terms such that the current between mesh cells is preserved."
   ]
  },
  {
   "cell_type": "code",
   "execution_count": 19,
   "metadata": {
    "collapsed": false
   },
   "outputs": [
    {
     "data": {
      "text/plain": [
       "<matplotlib.colorbar.Colorbar at 0x1148d1150>"
      ]
     },
     "execution_count": 19,
     "metadata": {},
     "output_type": "execute_result"
    },
    {
     "data": {
      "image/png": "[encoded data removed]",
      "text/plain": [
       "<matplotlib.figure.Figure at 0x1144fe890>"
      ]
     },
     "metadata": {},
     "output_type": "display_data"
    }
   ],
   "source": [
    "import scipy.sparse as sps\n",
    "\n",
    "# Get matrices for all the other important cross sections\n",
    "matrices = {}\n",
    "matrices['surface-diffusion'] = solver.compute_surface_dif_coefs('START')\n",
    "matrices['surface-diffusion-correction'] = solver.compute_surface_dif_coefs_corr('START') \n",
    "for key,mgxs in solver.mgxs_lib['START'].items():\n",
    "    if key != 'current':\n",
    "        matrices[key] = mgxs.get_mean_matrix()\n",
    "\n",
    "fig = plt.figure(figsize=(10,4))\n",
    "xs = 'surface-diffusion'\n",
    "matrix = np.abs(matrices[xs].todense())\n",
    "vmin = matrix.min()\n",
    "vmax = matrix.max()\n",
    "matrix[matrix == 0.] = np.nan\n",
    "plt.subplot(1,2,1)\n",
    "plt.imshow(matrix, interpolation='none', cmap='Blues', vmin=vmin, vmax=vmax)\n",
    "plt.title(xs)\n",
    "plt.colorbar()\n",
    "\n",
    "xs = 'surface-diffusion-correction'\n",
    "matrix = np.abs(matrices[xs].todense())\n",
    "matrix[matrix == 0.] = np.nan\n",
    "plt.subplot(1,2,2)\n",
    "plt.imshow(matrix, interpolation='none', cmap='Blues', vmin=vmin, vmax=vmax)\n",
    "plt.title(xs)\n",
    "plt.colorbar()"
   ]
  },
  {
   "cell_type": "markdown",
   "metadata": {},
   "source": [
    "## Extracting and Storing MGXS Data"
   ]
  },
  {
   "cell_type": "markdown",
   "metadata": {},
   "source": [
    "Let's first inspect our delayed-nu-fission section by printing it to the screen after condensing the cross section down to one group."
   ]
  },
  {
   "cell_type": "code",
   "execution_count": 20,
   "metadata": {
    "collapsed": false
   },
   "outputs": [
    {
     "data": {
      "text/plain": [
       "array([ 1.27207578,  0.50870695])"
      ]
     },
     "execution_count": 20,
     "metadata": {},
     "output_type": "execute_result"
    }
   ],
   "source": [
    "solver.mgxs_lib['START']['diffusion-coefficient'].get_condensed_xs(energy_groups).get_xs()"
   ]
  },
  {
   "cell_type": "markdown",
   "metadata": {},
   "source": [
    "Since the `openmc.mgxs` module uses [tally arithmetic](https://mit-crpg.github.io/openmc/pythonapi/examples/tally-arithmetic.html) under-the-hood, the cross section is stored as a \"derived\" `Tally` object. This means that it can be queried and manipulated using all of the same methods supported for the `Tally` class in the OpenMC Python API. For example, we can construct a [Pandas](http://pandas.pydata.org/) `DataFrame` of the multi-group cross section data."
   ]
  },
  {
   "cell_type": "code",
   "execution_count": 21,
   "metadata": {
    "collapsed": false
   },
   "outputs": [
    {
     "data": {
      "text/html": [
       "<div>\n",
       "<table border=\"1\" class=\"dataframe\">\n",
       "  <thead>\n",
       "    <tr>\n",
       "      <th></th>\n",
       "      <th colspan=\"3\" halign=\"left\">mesh 1</th>\n",
       "      <th>group in</th>\n",
       "      <th>surface</th>\n",
       "      <th>nuclide</th>\n",
       "      <th>mean</th>\n",
       "      <th>std. dev.</th>\n",
       "    </tr>\n",
       "    <tr>\n",
       "      <th></th>\n",
       "      <th>x</th>\n",
       "      <th>y</th>\n",
       "      <th>z</th>\n",
       "      <th></th>\n",
       "      <th></th>\n",
       "      <th></th>\n",
       "      <th></th>\n",
       "      <th></th>\n",
       "    </tr>\n",
       "  </thead>\n",
       "  <tbody>\n",
       "    <tr>\n",
       "      <th>1</th>\n",
       "      <td>1</td>\n",
       "      <td>1</td>\n",
       "      <td>1</td>\n",
       "      <td>1</td>\n",
       "      <td>x-max out</td>\n",
       "      <td>total</td>\n",
       "      <td>0.0</td>\n",
       "      <td>0.0</td>\n",
       "    </tr>\n",
       "    <tr>\n",
       "      <th>3</th>\n",
       "      <td>1</td>\n",
       "      <td>1</td>\n",
       "      <td>1</td>\n",
       "      <td>1</td>\n",
       "      <td>y-max out</td>\n",
       "      <td>total</td>\n",
       "      <td>0.0</td>\n",
       "      <td>0.0</td>\n",
       "    </tr>\n",
       "    <tr>\n",
       "      <th>5</th>\n",
       "      <td>1</td>\n",
       "      <td>1</td>\n",
       "      <td>1</td>\n",
       "      <td>1</td>\n",
       "      <td>z-max out</td>\n",
       "      <td>total</td>\n",
       "      <td>0.0</td>\n",
       "      <td>0.0</td>\n",
       "    </tr>\n",
       "    <tr>\n",
       "      <th>7</th>\n",
       "      <td>1</td>\n",
       "      <td>1</td>\n",
       "      <td>1</td>\n",
       "      <td>1</td>\n",
       "      <td>x-max in</td>\n",
       "      <td>total</td>\n",
       "      <td>0.0</td>\n",
       "      <td>0.0</td>\n",
       "    </tr>\n",
       "    <tr>\n",
       "      <th>9</th>\n",
       "      <td>1</td>\n",
       "      <td>1</td>\n",
       "      <td>1</td>\n",
       "      <td>1</td>\n",
       "      <td>y-max in</td>\n",
       "      <td>total</td>\n",
       "      <td>0.0</td>\n",
       "      <td>0.0</td>\n",
       "    </tr>\n",
       "    <tr>\n",
       "      <th>11</th>\n",
       "      <td>1</td>\n",
       "      <td>1</td>\n",
       "      <td>1</td>\n",
       "      <td>1</td>\n",
       "      <td>z-max in</td>\n",
       "      <td>total</td>\n",
       "      <td>0.0</td>\n",
       "      <td>0.0</td>\n",
       "    </tr>\n",
       "    <tr>\n",
       "      <th>13</th>\n",
       "      <td>1</td>\n",
       "      <td>1</td>\n",
       "      <td>1</td>\n",
       "      <td>1</td>\n",
       "      <td>x-max out</td>\n",
       "      <td>total</td>\n",
       "      <td>0.0</td>\n",
       "      <td>0.0</td>\n",
       "    </tr>\n",
       "    <tr>\n",
       "      <th>15</th>\n",
       "      <td>1</td>\n",
       "      <td>1</td>\n",
       "      <td>1</td>\n",
       "      <td>1</td>\n",
       "      <td>y-max out</td>\n",
       "      <td>total</td>\n",
       "      <td>0.0</td>\n",
       "      <td>0.0</td>\n",
       "    </tr>\n",
       "    <tr>\n",
       "      <th>17</th>\n",
       "      <td>1</td>\n",
       "      <td>1</td>\n",
       "      <td>1</td>\n",
       "      <td>1</td>\n",
       "      <td>z-max out</td>\n",
       "      <td>total</td>\n",
       "      <td>0.0</td>\n",
       "      <td>0.0</td>\n",
       "    </tr>\n",
       "    <tr>\n",
       "      <th>19</th>\n",
       "      <td>1</td>\n",
       "      <td>1</td>\n",
       "      <td>1</td>\n",
       "      <td>1</td>\n",
       "      <td>x-max in</td>\n",
       "      <td>total</td>\n",
       "      <td>0.0</td>\n",
       "      <td>0.0</td>\n",
       "    </tr>\n",
       "    <tr>\n",
       "      <th>21</th>\n",
       "      <td>1</td>\n",
       "      <td>1</td>\n",
       "      <td>1</td>\n",
       "      <td>1</td>\n",
       "      <td>y-max in</td>\n",
       "      <td>total</td>\n",
       "      <td>0.0</td>\n",
       "      <td>0.0</td>\n",
       "    </tr>\n",
       "    <tr>\n",
       "      <th>23</th>\n",
       "      <td>1</td>\n",
       "      <td>1</td>\n",
       "      <td>1</td>\n",
       "      <td>1</td>\n",
       "      <td>z-max in</td>\n",
       "      <td>total</td>\n",
       "      <td>0.0</td>\n",
       "      <td>0.0</td>\n",
       "    </tr>\n",
       "  </tbody>\n",
       "</table>\n",
       "</div>"
      ],
      "text/plain": [
       "   mesh 1       group in    surface nuclide mean std. dev.\n",
       "        x  y  z                                           \n",
       "1       1  1  1        1  x-max out   total  0.0       0.0\n",
       "3       1  1  1        1  y-max out   total  0.0       0.0\n",
       "5       1  1  1        1  z-max out   total  0.0       0.0\n",
       "7       1  1  1        1   x-max in   total  0.0       0.0\n",
       "9       1  1  1        1   y-max in   total  0.0       0.0\n",
       "11      1  1  1        1   z-max in   total  0.0       0.0\n",
       "13      1  1  1        1  x-max out   total  0.0       0.0\n",
       "15      1  1  1        1  y-max out   total  0.0       0.0\n",
       "17      1  1  1        1  z-max out   total  0.0       0.0\n",
       "19      1  1  1        1   x-max in   total  0.0       0.0\n",
       "21      1  1  1        1   y-max in   total  0.0       0.0\n",
       "23      1  1  1        1   z-max in   total  0.0       0.0"
      ]
     },
     "execution_count": 21,
     "metadata": {},
     "output_type": "execute_result"
    }
   ],
   "source": [
    "df = solver.mgxs_lib['START']['current'].get_pandas_dataframe()\n",
    "df.head(12)"
   ]
  },
  {
   "cell_type": "code",
   "execution_count": 22,
   "metadata": {
    "collapsed": false
   },
   "outputs": [
    {
     "data": {
      "text/plain": [
       "array([[ 0.00648 ,  0.      ,  0.      ,  0.      ,  0.      ,  0.      ,\n",
       "         0.      ,  0.      ,  0.      ,  0.      ,  0.      ,  0.      ],\n",
       "       [ 0.001232,  0.      ,  0.      ,  0.      ,  0.      ,  0.      ,\n",
       "         0.      ,  0.      ,  0.      ,  0.      ,  0.      ,  0.      ]])"
      ]
     },
     "execution_count": 22,
     "metadata": {},
     "output_type": "execute_result"
    }
   ],
   "source": [
    "solver.mgxs_lib['START']['current'].get_xs()"
   ]
  },
  {
   "cell_type": "markdown",
   "metadata": {},
   "source": [
    "Each multi-group cross section object can be easily exported to a variety of file formats, including CSV, Excel, and LaTeX for storage or data processing."
   ]
  },
  {
   "cell_type": "code",
   "execution_count": 23,
   "metadata": {
    "collapsed": false
   },
   "outputs": [],
   "source": [
    "solver.mgxs_lib['START']['beta'].export_xs_data(filename='beta', format='excel')"
   ]
  },
  {
   "cell_type": "markdown",
   "metadata": {},
   "source": [
    "## Using Tally Arithmetic to Compute the Delayed Neutron Precursor Concentrations"
   ]
  },
  {
   "cell_type": "markdown",
   "metadata": {},
   "source": [
    "Finally, we illustrate how one can leverage OpenMC's [tally arithmetic](https://mit-crpg.github.io/openmc/pythonapi/examples/tally-arithmetic.html) data processing feature with `MGXS` objects. The `openmc.mgxs` module uses tally arithmetic to compute multi-group cross sections with automated uncertainty propagation. Each `MGXS` object includes an `xs_tally` attribute which is a \"derived\" `Tally` based on the tallies needed to compute the cross section type of interest. These derived tallies can be used in subsequent tally arithmetic operations. For example, we can use tally artithmetic to compute the delayed neutron precursor concentrations using the `Beta`, `DelayedNuFissionXS`, and `DecayRate` objects. The delayed neutron precursor concentrations are modeled using the following equations:\n",
    "\n",
    "$$\\frac{\\partial}{\\partial t} C_{k,d} (t) = \\int_{0}^{\\infty}\\mathrm{d}E'\\int_{\\mathbf{r} \\in V_{k}}\\mathrm{d}\\mathbf{r} \\beta_{k,d} (t) \\nu_d \\sigma_{f,x}(\\mathbf{r},E',t)\\Phi(\\mathbf{r},E',t) - \\lambda_{d} C_{k,d} (t) $$\n",
    "\n",
    "$$C_{k,d} (t=0) = \\frac{1}{\\lambda_{d}} \\int_{0}^{\\infty}\\mathrm{d}E'\\int_{\\mathbf{r} \\in V_{k}}\\mathrm{d}\\mathbf{r} \\beta_{k,d} (t=0) \\nu_d \\sigma_{f,x}(\\mathbf{r},E',t=0)\\Phi(\\mathbf{r},E',t=0) $$\n",
    "\n",
    "First, let's investigate the decay rates. The fraction of the delayed neutron precursors remaining as a function of time after fission for each delayed group have been plotted below."
   ]
  },
  {
   "cell_type": "code",
   "execution_count": 31,
   "metadata": {
    "collapsed": false
   },
   "outputs": [
    {
     "data": {
      "text/plain": [
       "<matplotlib.legend.Legend at 0x114b50750>"
      ]
     },
     "execution_count": 31,
     "metadata": {},
     "output_type": "execute_result"
    },
    {
     "data": {
      "image/png": "[encoded data removed]",
      "text/plain": [
       "<matplotlib.figure.Figure at 0x114d0b310>"
      ]
     },
     "metadata": {},
     "output_type": "display_data"
    }
   ],
   "source": [
    "# Get the decay rate data\n",
    "dr_tally = solver.mgxs_lib['START']['decay-rate'].xs_tally\n",
    "dr = dr_tally.get_values().flatten()\n",
    "\n",
    "# Compute the exponential decay of the precursors\n",
    "time = np.logspace(-3,3)\n",
    "dr_points = np.exp(-np.outer(dr, time))\n",
    "\n",
    "# Create a plot of the fraction of the precursors remaining as a f(time)\n",
    "colors = ['b', 'g', 'r', 'c', 'm', 'k']\n",
    "for g,c in enumerate(colors):\n",
    "    plt.semilogx(time, dr_points[g,:], color=c, linestyle='-', linewidth=3)\n",
    "\n",
    "plt.title('Delayed Neutron Precursor Decay Rates')\n",
    "plt.xlabel('Time (s)')\n",
    "plt.ylabel('Fraction Remaining')\n",
    "plt.legend(['delayed-group 1', 'delayed-group 2', 'delayed-group 3', 'delayed-group 4',\n",
    "            'delayed-group 5', 'delayed-group 6'], loc=1, bbox_to_anchor=(1.5, 0.8))"
   ]
  },
  {
   "cell_type": "code",
   "execution_count": 24,
   "metadata": {
    "collapsed": false
   },
   "outputs": [
    {
     "data": {
      "text/html": [
       "<div>\n",
       "<table border=\"1\" class=\"dataframe\">\n",
       "  <thead>\n",
       "    <tr>\n",
       "      <th></th>\n",
       "      <th colspan=\"3\" halign=\"left\">mesh 1</th>\n",
       "      <th>delayedgroup</th>\n",
       "      <th>nuclide</th>\n",
       "      <th>score</th>\n",
       "      <th>mean</th>\n",
       "      <th>std. dev.</th>\n",
       "    </tr>\n",
       "    <tr>\n",
       "      <th></th>\n",
       "      <th>x</th>\n",
       "      <th>y</th>\n",
       "      <th>z</th>\n",
       "      <th></th>\n",
       "      <th></th>\n",
       "      <th></th>\n",
       "      <th></th>\n",
       "      <th></th>\n",
       "    </tr>\n",
       "  </thead>\n",
       "  <tbody>\n",
       "    <tr>\n",
       "      <th>0</th>\n",
       "      <td>1</td>\n",
       "      <td>1</td>\n",
       "      <td>1</td>\n",
       "      <td>1</td>\n",
       "      <td>total</td>\n",
       "      <td>(((delayed-nu-fission / nu-fission) * (delayed...</td>\n",
       "      <td>8.957644e-08</td>\n",
       "      <td>2.536101e-08</td>\n",
       "    </tr>\n",
       "    <tr>\n",
       "      <th>1</th>\n",
       "      <td>1</td>\n",
       "      <td>1</td>\n",
       "      <td>1</td>\n",
       "      <td>2</td>\n",
       "      <td>total</td>\n",
       "      <td>(((delayed-nu-fission / nu-fission) * (delayed...</td>\n",
       "      <td>1.181662e-06</td>\n",
       "      <td>1.234301e-07</td>\n",
       "    </tr>\n",
       "    <tr>\n",
       "      <th>2</th>\n",
       "      <td>1</td>\n",
       "      <td>1</td>\n",
       "      <td>1</td>\n",
       "      <td>3</td>\n",
       "      <td>total</td>\n",
       "      <td>(((delayed-nu-fission / nu-fission) * (delayed...</td>\n",
       "      <td>2.821953e-07</td>\n",
       "      <td>3.530013e-08</td>\n",
       "    </tr>\n",
       "    <tr>\n",
       "      <th>3</th>\n",
       "      <td>1</td>\n",
       "      <td>1</td>\n",
       "      <td>1</td>\n",
       "      <td>4</td>\n",
       "      <td>total</td>\n",
       "      <td>(((delayed-nu-fission / nu-fission) * (delayed...</td>\n",
       "      <td>5.813366e-07</td>\n",
       "      <td>5.828792e-08</td>\n",
       "    </tr>\n",
       "    <tr>\n",
       "      <th>4</th>\n",
       "      <td>1</td>\n",
       "      <td>1</td>\n",
       "      <td>1</td>\n",
       "      <td>5</td>\n",
       "      <td>total</td>\n",
       "      <td>(((delayed-nu-fission / nu-fission) * (delayed...</td>\n",
       "      <td>4.561964e-08</td>\n",
       "      <td>5.862945e-09</td>\n",
       "    </tr>\n",
       "    <tr>\n",
       "      <th>5</th>\n",
       "      <td>1</td>\n",
       "      <td>1</td>\n",
       "      <td>1</td>\n",
       "      <td>6</td>\n",
       "      <td>total</td>\n",
       "      <td>(((delayed-nu-fission / nu-fission) * (delayed...</td>\n",
       "      <td>2.165749e-09</td>\n",
       "      <td>4.032114e-10</td>\n",
       "    </tr>\n",
       "  </tbody>\n",
       "</table>\n",
       "</div>"
      ],
      "text/plain": [
       "  mesh 1       delayedgroup nuclide  \\\n",
       "       x  y  z                        \n",
       "0      1  1  1            1   total   \n",
       "1      1  1  1            2   total   \n",
       "2      1  1  1            3   total   \n",
       "3      1  1  1            4   total   \n",
       "4      1  1  1            5   total   \n",
       "5      1  1  1            6   total   \n",
       "\n",
       "                                               score     mean std. dev.  \n",
       "                                                                         \n",
       "0  (((delayed-nu-fission / nu-fission) * (delayed... 8.96e-08  2.54e-08  \n",
       "1  (((delayed-nu-fission / nu-fission) * (delayed... 1.18e-06  1.23e-07  \n",
       "2  (((delayed-nu-fission / nu-fission) * (delayed... 2.82e-07  3.53e-08  \n",
       "3  (((delayed-nu-fission / nu-fission) * (delayed... 5.81e-07  5.83e-08  \n",
       "4  (((delayed-nu-fission / nu-fission) * (delayed... 4.56e-08  5.86e-09  \n",
       "5  (((delayed-nu-fission / nu-fission) * (delayed... 2.17e-09  4.03e-10  "
      ]
     },
     "execution_count": 24,
     "metadata": {},
     "output_type": "execute_result"
    }
   ],
   "source": [
    "# Create a tally object with only the delayed group filter for the time constants\n",
    "beta = solver.mgxs_lib['START']['beta']\n",
    "delayed_nu_fission = solver.mgxs_lib['START']['delayed-nu-fission']\n",
    "decay_rate = solver.mgxs_lib['START']['decay-rate']\n",
    "\n",
    "# Use tally arithmetic to compute the precursor concentrations\n",
    "precursor_conc = beta.get_condensed_xs(one_group).xs_tally.summation(filter_type='energy', remove_filter=True) * \\\n",
    "    delayed_nu_fission.get_condensed_xs(one_group).xs_tally.summation(filter_type='energy', remove_filter=True) / \\\n",
    "    decay_rate.xs_tally.summation(filter_type='energy', remove_filter=True)\n",
    "\n",
    "# The difference is a derived tally which can generate Pandas DataFrames for inspection\n",
    "precursor_conc.get_pandas_dataframe()"
   ]
  },
  {
   "cell_type": "code",
   "execution_count": null,
   "metadata": {
    "collapsed": true
   },
   "outputs": [],
   "source": []
  }
 ],
 "metadata": {
  "kernelspec": {
   "display_name": "Python 2",
   "language": "python",
   "name": "python2"
  },
  "language_info": {
   "codemirror_mode": {
    "name": "ipython",
    "version": 2
   },
   "file_extension": ".py",
   "mimetype": "text/x-python",
   "name": "python",
   "nbconvert_exporter": "python",
   "pygments_lexer": "ipython2",
   "version": "2.7.12"
  }
 },
 "nbformat": 4,
 "nbformat_minor": 0
}
