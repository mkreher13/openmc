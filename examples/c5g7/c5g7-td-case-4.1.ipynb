{
 "cells": [
  {
   "cell_type": "markdown",
   "metadata": {},
   "source": [
    "This IPython Notebook is intended to validate the parameters in the C5G7-TD Benchmark specification by calculating them using the provided isotopic data. The data to be validated includes:\n",
    "\n",
    "* 7-energy-group Transport, Absorption, Capture, Velocity, and Scatter matrix for each material.\n",
    "* Fission, Nu, and Chi for each fissile material.\n",
    "* 8-delayed-group delayed neutron fractions, precursor decay constants, and delayed neutron spectra for each fuel material."
   ]
  },
  {
   "cell_type": "markdown",
   "metadata": {},
   "source": [
    "## Generate Input Files"
   ]
  },
  {
   "cell_type": "code",
   "execution_count": 1,
   "metadata": {
    "collapsed": false
   },
   "outputs": [],
   "source": [
    "import math\n",
    "import pickle\n",
    "import matplotlib\n",
    "from copy import deepcopy\n",
    "\n",
    "from IPython.display import Image\n",
    "from IPython.display import display\n",
    "import matplotlib.pyplot as plt\n",
    "import numpy as np\n",
    "import os\n",
    "\n",
    "import openmc\n",
    "import openmc.mgxs\n",
    "import openmc.plotter\n",
    "import openmc.kinetics as kinetics\n",
    "\n",
    "from geometry import materials, surfaces, universes, cells, lattices, geometry\n",
    "from plots import plots\n",
    "from mgxs_lib import mgxs_data\n",
    "\n",
    "%matplotlib inline"
   ]
  },
  {
   "cell_type": "markdown",
   "metadata": {},
   "source": [
    "We will start by exporting the geometry and materials files to xml."
   ]
  },
  {
   "cell_type": "code",
   "execution_count": 2,
   "metadata": {
    "collapsed": false
   },
   "outputs": [],
   "source": [
    "# Create the materials file\n",
    "materials_file = openmc.Materials(geometry.get_all_materials())\n",
    "\n",
    "# Adjust the cells to have the desired translations\n",
    "#cells['Control Rod Base Bank 1'].translation = [0., 0., 64.26]\n",
    "cells['Control Rod Base Bank 1'].translation = [[0., 0., 64.26],\n",
    "                                                [0., 0., 21.42],\n",
    "                                                [0., 0., 64.26]]\n",
    "cells['Control Rod Base Bank 1'].translation_times = [0., 2., 4.]\n",
    "cells['Control Rod Base Bank 2'].translation = [0., 0., 64.26]\n",
    "cells['Control Rod Base Bank 3'].translation = [0., 0., 64.26]\n",
    "cells['Control Rod Base Bank 4'].translation = [0., 0., 64.26]"
   ]
  },
  {
   "cell_type": "markdown",
   "metadata": {},
   "source": [
    "With the geometry and materials finished, we can define simulation parameters. In this case, we will use 100 inactive batches and 100 active batches each with 5000 particles."
   ]
  },
  {
   "cell_type": "code",
   "execution_count": 3,
   "metadata": {
    "collapsed": false
   },
   "outputs": [],
   "source": [
    "# OpenMC simulation parameters\n",
    "batches = 200\n",
    "inactive = 100\n",
    "particles = 1000\n",
    "\n",
    "# Instantiate a Settings object\n",
    "settings_file = openmc.Settings()\n",
    "settings_file.batches = batches\n",
    "settings_file.inactive = inactive\n",
    "settings_file.particles = particles\n",
    "settings_file.output = {'tallies': False}\n",
    "\n",
    "# Create an initial uniform spatial source distribution over fissionable zones\n",
    "bounds = [-32.13, -10.71, -64.26, 10.71,  32.13,  64.26]\n",
    "uniform_dist = openmc.stats.Box(bounds[:3], bounds[3:], only_fissionable=True)\n",
    "settings_file.source = openmc.source.Source(space=uniform_dist)\n",
    "\n",
    "settings_file.entropy_lower_left  = bounds[:3]\n",
    "settings_file.entropy_upper_right = bounds[3:]\n",
    "settings_file.entropy_dimension   = [34,34,1]"
   ]
  },
  {
   "cell_type": "markdown",
   "metadata": {},
   "source": [
    "## Create an MGXS Library"
   ]
  },
  {
   "cell_type": "markdown",
   "metadata": {},
   "source": [
    "Now we are ready to generate multi-group cross sections! First, let's define the ANL and WIMS-D 7-group structures using the built-in `EnergyGroups` class."
   ]
  },
  {
   "cell_type": "code",
   "execution_count": 4,
   "metadata": {
    "collapsed": false
   },
   "outputs": [],
   "source": [
    "# Instantiate a 50-group EnergyGroups object\n",
    "fine_groups = openmc.mgxs.EnergyGroups()\n",
    "fine_groups.group_edges = [0., 0.13, 0.63, 4.1, 55.6, 9.2e3, 1.36e6, 2.0e7]\n",
    "#fine_groups.group_edges = [0., 2.0e7]\n",
    "\n",
    "# Instantiate a 2-group EnergyGroups object\n",
    "energy_groups = openmc.mgxs.EnergyGroups()\n",
    "#energy_groups.group_edges = [0., 0.13, 0.63, 4.1, 55.6, 9.2e3, 1.36e6, 2.0e7]\n",
    "energy_groups.group_edges = [0., 55.6, 2.0e7]\n",
    "\n",
    "# Instantiate a 1-group EnergyGroups object\n",
    "one_group = openmc.mgxs.EnergyGroups()\n",
    "one_group.group_edges = [fine_groups.group_edges[0], fine_groups.group_edges[-1]]"
   ]
  },
  {
   "cell_type": "markdown",
   "metadata": {},
   "source": [
    "In addition, we instantiate a kappa-fission tally to plot the axially-integrated pin powers."
   ]
  },
  {
   "cell_type": "code",
   "execution_count": 5,
   "metadata": {
    "collapsed": false
   },
   "outputs": [],
   "source": [
    "# Create pin cell mesh \n",
    "mesh = openmc.Mesh()\n",
    "mesh.type = 'regular'\n",
    "mesh.dimension = [1,1,1]\n",
    "mesh.lower_left  = [-32.13, -10.71, -85.68]\n",
    "mesh.width = [42.84/1, 42.84/1, 171.36/1]\n",
    "\n",
    "pin_cell_mesh = openmc.Mesh()\n",
    "pin_cell_mesh.type = 'regular'\n",
    "pin_cell_mesh.dimension = [34,34,1]\n",
    "pin_cell_mesh.lower_left  = [-32.13, -10.71, -85.68]\n",
    "pin_cell_mesh.width = [42.84/34, 42.84/34, 171.36/1]\n",
    "\n",
    "assembly_mesh = openmc.Mesh()\n",
    "assembly_mesh.type = 'regular'\n",
    "assembly_mesh.dimension = [2,2,1]\n",
    "assembly_mesh.lower_left  = [-32.13, -10.71, -85.68]\n",
    "assembly_mesh.width = [42.84/2, 42.84/2, 171.36/1]\n",
    "\n",
    "# Instantiate a clock object\n",
    "clock = openmc.kinetics.Clock(start=0., end=10., dt_outer=1.e-1, dt_inner=1.e-2)\n",
    "\n",
    "# Instantiate a kinetics solver object\n",
    "solver = openmc.kinetics.Solver(name='Case 4-1', directory='C5G7')\n",
    "solver.num_delayed_groups           = 8\n",
    "solver.mesh                         = mesh\n",
    "solver.pin_cell_mesh                = pin_cell_mesh\n",
    "solver.assembly_mesh                = assembly_mesh\n",
    "solver.one_group                    = one_group\n",
    "solver.energy_groups                = energy_groups\n",
    "solver.fine_groups                  = fine_groups\n",
    "solver.geometry                     = geometry\n",
    "solver.settings_file                = settings_file\n",
    "solver.materials_file               = materials_file\n",
    "solver.clock                        = clock\n",
    "solver.core_volume                  = 42.84 * 42.84 * 128.52\n",
    "solver.constant_seed                = True\n",
    "solver.chi_delayed_by_delayed_group = True\n",
    "solver.chi_delayed_by_mesh          = False\n",
    "solver.use_pregenerated_sps         = True"
   ]
  },
  {
   "cell_type": "code",
   "execution_count": 6,
   "metadata": {
    "collapsed": false
   },
   "outputs": [
    {
     "data": {
      "image/png": "[encoded data removed]",
      "text/plain": [
       "<IPython.core.display.Image object>"
      ]
     },
     "metadata": {},
     "output_type": "display_data"
    },
    {
     "data": {
      "image/png": "[encoded data removed]",
      "text/plain": [
       "<IPython.core.display.Image object>"
      ]
     },
     "metadata": {},
     "output_type": "display_data"
    }
   ],
   "source": [
    "# Create the plots file\n",
    "if not os.path.exists(solver.run_directory):\n",
    "    os.makedirs(solver.run_directory)\n",
    "    \n",
    "plot_file = openmc.Plots(plots.values())\n",
    "plot_file.export_to_xml(path=solver.run_directory + '/plots.xml')\n",
    "geometry.export_to_xml(path=solver.run_directory + '/geometry.xml')\n",
    "materials_file.export_to_xml(path=solver.run_directory + '/materials.xml')\n",
    "\n",
    "# Run openmc in plotting mode\n",
    "openmc.plot_geometry(output=False, cwd=solver.run_directory)\n",
    "\n",
    "# Convert OpenMC's funky ppm to png\n",
    "!convert C5G7/Case\\ 4-1/materials-xy.ppm C5G7/Case\\ 4-1/materials-xy.png\n",
    "!convert C5G7/Case\\ 4-1/materials-xz.ppm C5G7/Case\\ 4-1/materials-xz.png\n",
    "\n",
    "# Display the materials plot inline\n",
    "x = Image(filename='C5G7/Case 4-1/materials-xy.png') \n",
    "y = Image(filename='C5G7/Case 4-1/materials-xz.png') \n",
    "display(x, y)"
   ]
  },
  {
   "cell_type": "code",
   "execution_count": 7,
   "metadata": {
    "collapsed": false
   },
   "outputs": [
    {
     "name": "stdout",
     "output_type": "stream",
     "text": [
      "linear solver iter 0 resid 0.00000e+00 k-eff 1.253367\n",
      "linear solver iter 1 resid 0.00000e+00 k-eff 1.253367\n",
      "linear solver iter 2 resid 0.00000e+00 k-eff 1.253367\n",
      "linear solver iter 3 resid 0.00000e+00 k-eff 1.253367\n",
      "linear solver iter 4 resid 0.00000e+00 k-eff 1.253367\n",
      "linear solver iter 5 resid 0.00000e+00 k-eff 1.253367\n",
      "linear solver iter 6 resid 0.00000e+00 k-eff 1.253367\n",
      "linear solver iter 7 resid 0.00000e+00 k-eff 1.253367\n",
      "linear solver iter 8 resid 0.00000e+00 k-eff 1.253367\n",
      "linear solver iter 9 resid 0.00000e+00 k-eff 1.253367\n",
      "linear solver iter 10 resid 0.00000e+00 k-eff 1.253367\n",
      "linear solver iter 11 resid 0.00000e+00 k-eff 1.253367\n",
      "linear solver iter 0 resid 1.07786e-16 k-eff 1.253368\n",
      "linear solver iter 1 resid 0.00000e+00 k-eff 1.253368\n",
      "linear solver iter 2 resid 0.00000e+00 k-eff 1.253368\n",
      "linear solver iter 3 resid 0.00000e+00 k-eff 1.253368\n",
      "linear solver iter 4 resid 0.00000e+00 k-eff 1.253368\n",
      "linear solver iter 5 resid 0.00000e+00 k-eff 1.253368\n",
      "linear solver iter 6 resid 0.00000e+00 k-eff 1.253368\n",
      "linear solver iter 7 resid 0.00000e+00 k-eff 1.253368\n",
      "linear solver iter 8 resid 0.00000e+00 k-eff 1.253368\n",
      "linear solver iter 9 resid 0.00000e+00 k-eff 1.253368\n",
      "linear solver iter 10 resid 0.00000e+00 k-eff 1.253368\n",
      "linear solver iter 11 resid 0.00000e+00 k-eff 1.253368\n"
     ]
    }
   ],
   "source": [
    "# Run OpenMC\n",
    "solver.compute_initial_flux()"
   ]
  },
  {
   "cell_type": "code",
   "execution_count": 8,
   "metadata": {
    "collapsed": false
   },
   "outputs": [
    {
     "data": {
      "text/plain": [
       "<matplotlib.colorbar.Colorbar at 0x10df37450>"
      ]
     },
     "execution_count": 8,
     "metadata": {},
     "output_type": "execute_result"
    },
    {
     "data": {
      "image/png": "[encoded data removed]",
      "text/plain": [
       "<matplotlib.figure.Figure at 0x10dcafbd0>"
      ]
     },
     "metadata": {},
     "output_type": "display_data"
    }
   ],
   "source": [
    "fig = plt.figure(figsize=(12,4))\n",
    "ax1 = fig.add_subplot(141)\n",
    "ax2 = fig.add_subplot(142)\n",
    "ax3 = fig.add_subplot(143)\n",
    "ax4 = fig.add_subplot(144)\n",
    "\n",
    "\n",
    "level = 0\n",
    "g = 0\n",
    "\n",
    "flux = deepcopy(solver.states['START'].flux)\n",
    "flux = flux / flux.sum() * np.prod(mesh.dimension)\n",
    "flux.shape = mesh.dimension[::-1] + [solver.ng]\n",
    "im1 = ax1.imshow(flux[level,...,g],interpolation='none')\n",
    "\n",
    "flux_openmc = solver.states['START'].mgxs_lib['absorption'].tallies['flux'].get_values()\n",
    "flux_openmc.shape = mesh.dimension[::-1] + [solver.ng]\n",
    "flux_openmc = flux_openmc[..., ::-1]\n",
    "flux_openmc = flux_openmc / flux_openmc.sum() * np.prod(mesh.dimension)\n",
    "im2 = ax2.imshow(flux_openmc[level,...,g],interpolation='none')\n",
    "\n",
    "adj_flux = deepcopy(solver.states['START'].adjoint_flux)\n",
    "adj_flux = adj_flux / flux.sum() * np.prod(mesh.dimension)\n",
    "adj_flux.shape = mesh.dimension[::-1] + [solver.ng]\n",
    "im3 = ax3.imshow(adj_flux[level,...,g],interpolation='none')\n",
    "\n",
    "#flux_dif = np.abs((flux - flux_openmc) / flux_openmc) * 100.\n",
    "flux_dif = (flux - flux_openmc)\n",
    "im4 = ax4.imshow(flux_dif[level,...,g],interpolation='none')\n",
    "fig.colorbar(im4)"
   ]
  },
  {
   "cell_type": "code",
   "execution_count": 9,
   "metadata": {
    "collapsed": false
   },
   "outputs": [
    {
     "name": "stdout",
     "output_type": "stream",
     "text": [
      "t: 0.010 s, P: 1.237e+00 W/cm^3, rho: -13.095 pcm, beta_eff: 0.00561, pnl: 1.507e-05 s\n",
      "t: 0.020 s, P: 9.913e-01 W/cm^3, rho: -26.199 pcm, beta_eff: 0.00561, pnl: 1.506e-05 s\n",
      "t: 0.030 s, P: 9.518e-01 W/cm^3, rho: -39.300 pcm, beta_eff: 0.00561, pnl: 1.506e-05 s\n",
      "t: 0.040 s, P: 9.074e-01 W/cm^3, rho: -52.407 pcm, beta_eff: 0.00561, pnl: 1.506e-05 s\n",
      "t: 0.050 s, P: 8.892e-01 W/cm^3, rho: -65.517 pcm, beta_eff: 0.00561, pnl: 1.506e-05 s\n",
      "t: 0.060 s, P: 8.686e-01 W/cm^3, rho: -78.631 pcm, beta_eff: 0.00561, pnl: 1.506e-05 s\n",
      "t: 0.070 s, P: 8.507e-01 W/cm^3, rho: -91.748 pcm, beta_eff: 0.00561, pnl: 1.506e-05 s\n",
      "t: 0.080 s, P: 8.331e-01 W/cm^3, rho: -104.870 pcm, beta_eff: 0.00561, pnl: 1.505e-05 s\n",
      "t: 0.090 s, P: 8.163e-01 W/cm^3, rho: -117.995 pcm, beta_eff: 0.00561, pnl: 1.505e-05 s\n",
      "t: 0.100 s, P: 8.000e-01 W/cm^3, rho: -131.123 pcm, beta_eff: 0.00561, pnl: 1.505e-05 s\n",
      "t: 0.110 s, P: 8.039e-01 W/cm^3, rho: -131.081 pcm, beta_eff: 0.00561, pnl: 1.505e-05 s\n",
      "t: 0.120 s, P: 8.023e-01 W/cm^3, rho: -131.046 pcm, beta_eff: 0.00561, pnl: 1.505e-05 s\n",
      "t: 0.130 s, P: 8.022e-01 W/cm^3, rho: -131.016 pcm, beta_eff: 0.00561, pnl: 1.504e-05 s\n",
      "t: 0.140 s, P: 8.016e-01 W/cm^3, rho: -130.992 pcm, beta_eff: 0.00561, pnl: 1.504e-05 s\n",
      "t: 0.150 s, P: 8.012e-01 W/cm^3, rho: -130.973 pcm, beta_eff: 0.00561, pnl: 1.504e-05 s\n",
      "t: 0.160 s, P: 8.006e-01 W/cm^3, rho: -130.959 pcm, beta_eff: 0.00561, pnl: 1.504e-05 s\n",
      "t: 0.170 s, P: 7.999e-01 W/cm^3, rho: -130.950 pcm, beta_eff: 0.00561, pnl: 1.504e-05 s\n",
      "t: 0.180 s, P: 7.987e-01 W/cm^3, rho: -130.947 pcm, beta_eff: 0.00561, pnl: 1.503e-05 s\n",
      "t: 0.190 s, P: 7.961e-01 W/cm^3, rho: -130.949 pcm, beta_eff: 0.00561, pnl: 1.503e-05 s\n",
      "t: 0.200 s, P: 7.820e-01 W/cm^3, rho: -130.956 pcm, beta_eff: 0.00561, pnl: 1.503e-05 s\n",
      "t: 0.210 s, P: 8.962e-01 W/cm^3, rho: -65.048 pcm, beta_eff: 0.00561, pnl: 1.503e-05 s\n",
      "t: 0.220 s, P: 1.000e+00 W/cm^3, rho: 0.785 pcm, beta_eff: 0.00560, pnl: 1.503e-05 s\n",
      "t: 0.230 s, P: 1.150e+00 W/cm^3, rho: 66.534 pcm, beta_eff: 0.00560, pnl: 1.502e-05 s\n",
      "t: 0.240 s, P: 1.347e+00 W/cm^3, rho: 132.203 pcm, beta_eff: 0.00560, pnl: 1.502e-05 s\n",
      "t: 0.250 s, P: 1.634e+00 W/cm^3, rho: 197.790 pcm, beta_eff: 0.00559, pnl: 1.502e-05 s\n",
      "t: 0.260 s, P: 2.093e+00 W/cm^3, rho: 263.297 pcm, beta_eff: 0.00559, pnl: 1.502e-05 s\n",
      "t: 0.270 s, P: 3.004e+00 W/cm^3, rho: 328.725 pcm, beta_eff: 0.00559, pnl: 1.502e-05 s\n",
      "t: 0.280 s, P: 8.295e+00 W/cm^3, rho: 394.087 pcm, beta_eff: 0.00558, pnl: 1.502e-05 s\n",
      "t: 0.290 s, P: 1.279e+01 W/cm^3, rho: 459.337 pcm, beta_eff: 0.00558, pnl: 1.501e-05 s\n",
      "t: 0.300 s, P: 1.127e+01 W/cm^3, rho: 524.483 pcm, beta_eff: 0.00558, pnl: 1.501e-05 s\n"
     ]
    }
   ],
   "source": [
    "for i in range(3):\n",
    "    solver.take_outer_step()"
   ]
  },
  {
   "cell_type": "code",
   "execution_count": 10,
   "metadata": {
    "collapsed": false
   },
   "outputs": [
    {
     "data": {
      "text/plain": [
       "<matplotlib.colorbar.Colorbar at 0x1071610d0>"
      ]
     },
     "execution_count": 10,
     "metadata": {},
     "output_type": "execute_result"
    },
    {
     "data": {
      "image/png": "[encoded data removed]",
      "text/plain": [
       "<matplotlib.figure.Figure at 0x10dc6a490>"
      ]
     },
     "metadata": {},
     "output_type": "display_data"
    }
   ],
   "source": [
    "pin_powers = solver.pin_powers[0]\n",
    "for pp in solver.pin_powers[1:]:\n",
    "    pin_powers += pp\n",
    "pin_powers = pin_powers.sum(axis=0)\n",
    "pin_powers[pin_powers == 0.] = np.nan\n",
    "plt.imshow(pin_powers, interpolation='none')\n",
    "plt.colorbar()"
   ]
  },
  {
   "cell_type": "code",
   "execution_count": null,
   "metadata": {
    "collapsed": true
   },
   "outputs": [],
   "source": []
  }
 ],
 "metadata": {
  "kernelspec": {
   "display_name": "Python 2",
   "language": "python",
   "name": "python2"
  },
  "language_info": {
   "codemirror_mode": {
    "name": "ipython",
    "version": 2
   },
   "file_extension": ".py",
   "mimetype": "text/x-python",
   "name": "python",
   "nbconvert_exporter": "python",
   "pygments_lexer": "ipython2",
   "version": "2.7.12"
  }
 },
 "nbformat": 4,
 "nbformat_minor": 0
}
